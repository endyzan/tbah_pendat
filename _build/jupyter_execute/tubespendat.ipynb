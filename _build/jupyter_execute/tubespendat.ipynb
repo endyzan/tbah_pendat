{
 "cells": [
  {
   "block_group": "ad86a029220345b98a45118ae3596f1c",
   "cell_type": "markdown",
   "metadata": {
    "cell_id": "21fadf232d9644b4845e529ffce60682",
    "color": "blue",
    "deepnote_app_block_visible": false,
    "deepnote_cell_type": "text-cell-callout",
    "formattedRanges": [
     {
      "fromCodePoint": 0,
      "marks": {
       "bold": true,
       "italic": true
      },
      "toCodePoint": 80,
      "type": "marks"
     }
    ],
    "is_collapsed": false
   },
   "source": [
    "> Prediksi Peluang Hidup Penderita Hepatitis Menggunakan Metode-Metode Klasifikasi"
   ]
  },
  {
   "block_group": "2a1788cb59554d4a9ff7b795dfa32fa5",
   "cell_type": "markdown",
   "metadata": {
    "cell_id": "b5cac50881b4403e85ed5ac9ccbf09c1",
    "deepnote_cell_type": "text-cell-h1",
    "formattedRanges": []
   },
   "source": [
    "# Pendahuluan"
   ]
  },
  {
   "block_group": "30f2d3e29cf54044a0a528dccb7ff6fc",
   "cell_type": "markdown",
   "metadata": {
    "cell_id": "2aa70fa896c14bf6af86e045c8c26a8f",
    "deepnote_cell_type": "text-cell-p",
    "formattedRanges": [
     {
      "fromCodePoint": 0,
      "marks": {
       "bold": true
      },
      "toCodePoint": 10,
      "type": "marks"
     }
    ]
   },
   "source": [
    "Hepatitis adalah salah satu jenis penyakit endemis di beberapa negara berkembang, termasuk Indonesia. Penyakit ini\r\n",
    "disebabkan oleh infeksi jamur, bakteri, virus, obat-obatan, konsumsi alkohol, lemak berlebihan, atau penyakit autoimmune. Ada 5\r\n",
    "jenis hepatitis mulai dari ringan sampai dengan kronik, yaitu A, B, C, D, E. Data riset kesehatan dasar (Riskesdas) 2013\r\n",
    "menunjukkan bahwa setiap 100 orang di Indonesia terdapat 10 penduduk yang terinfeksi virus hepatitis C atau B. Sehingga\r\n",
    "diperkirakan terdapat 28 juta penduduk yang terinfeksi, 14 juta orang diantaranya berpotensi menjadi hepatitis kronik, dan 1,4 juta\r\n",
    "dari yang kronik tersebut berpotensi terkena kanker hati. Pada tahun 2013, Indonesia termasuk negara endemis hepatitis B pada\r\n",
    "urutan kedua tertinggi di Asia Tenggara. Serangakaian tes untuk diagnosis hepatitis biasanya dilakukan setelah ada indikasi atau\r\n",
    "gejala yang dirasakan pasien atau ditemukan tidak sengaja pada pemeriksaan lainnya. Hepatitis kronik seperti hepatitis B, C, atau\r\n",
    "D dapat berubah menjadi akut dan menimbulkan sirosis bahkan kanker hati. Saat pasien sudah dinyatakan mengidap hepatitis kronik\r\n",
    "maka berpotensi menjadi hepatitis akut bahkan berisiko kematian. Dokter tidak dapat menentukan harapan hidup penderita pasien\r\n",
    "hepatitis kronik atau akut."
   ]
  },
  {
   "block_group": "c2134c3bd49e4a92a1bb3ae35a7c72ad",
   "cell_type": "markdown",
   "metadata": {
    "cell_id": "3a29ee49ede041f3a2c4b90ea430f68c",
    "deepnote_cell_type": "text-cell-p",
    "formattedRanges": []
   },
   "source": [
    "Penerapan metode data mining klasifikasi untuk memprediksi harapan hidup penderita hepatitis\r",
    ". Fokus saya adalah membandingkan beberapa metode klasifikasi dan akurasinya dalam memprediksi harapan hidup\r",
    " pasien hepatitis."
   ]
  },
  {
   "block_group": "7fae76b830f44e819d34ce3eb435ec2c",
   "cell_type": "markdown",
   "metadata": {
    "cell_id": "85de0fe98bda4ba597ae8feaa1b9f07f",
    "deepnote_cell_type": "text-cell-h1",
    "formattedRanges": []
   },
   "source": [
    "# Data Understanding"
   ]
  },
  {
   "block_group": "ee17b3bfcc994e2f9ce4d7e1e2db8ed7",
   "cell_type": "markdown",
   "metadata": {
    "cell_id": "36fb1d4fa0cd4eb59fb3103f887201aa",
    "deepnote_cell_type": "text-cell-h2",
    "formattedRanges": []
   },
   "source": [
    "## Sumber Data"
   ]
  },
  {
   "block_group": "a4a713cb9a8645ea840bd47db6e61f5d",
   "cell_type": "markdown",
   "metadata": {
    "cell_id": "a43651a50d1d4585a289bfdf6495f716",
    "deepnote_cell_type": "text-cell-p",
    "formattedRanges": [
     {
      "fromCodePoint": 48,
      "ranges": [],
      "toCodePoint": 55,
      "type": "link",
      "url": "https://archive.ics.uci.edu/"
     },
     {
      "fromCodePoint": 82,
      "ranges": [],
      "toCodePoint": 130,
      "type": "link",
      "url": ""
     }
    ]
   },
   "source": [
    "Saya mendapatkan dataset hepatitis ini dari web uci.edu dan tersedia link dataset https://archive.ics.uci.edu/dataset/46/hepatitis"
   ]
  },
  {
   "block_group": "5c935ad858f342fda9daa366d48dbe21",
   "cell_type": "markdown",
   "metadata": {
    "cell_id": "b4f69b2a1e914b7ba3e754c0b1b0f45d",
    "deepnote_cell_type": "text-cell-p",
    "formattedRanges": []
   },
   "source": [
    "dataset hepatitis ini didapat dari:"
   ]
  },
  {
   "block_group": "18aa42cbf99842afa2b52ba3459ed366",
   "cell_type": "markdown",
   "metadata": {
    "cell_id": "c9f1398bdb1d48109ec6d4f643ae4ee1",
    "deepnote_cell_type": "text-cell-p",
    "formattedRanges": []
   },
   "source": [
    "G.Gong  (Carnegie-Mellon University) via \r\n",
    "               Bojan Cestnik\r\n",
    "               Jozef Stefan Institute\r\n",
    "               Jamova 39\r\n",
    "               61000 Ljubljana\r\n",
    "               Yugoslavia (tel.: (38)(+61) 214-399 ext.287) }"
   ]
  },
  {
   "block_group": "d2d6651dc3f842baa372fa50bb5852d1",
   "cell_type": "markdown",
   "metadata": {
    "cell_id": "293b406b5e464022985e72dee59793bc",
    "deepnote_cell_type": "text-cell-p",
    "formattedRanges": []
   },
   "source": [
    "dibuat pada November 1988."
   ]
  },
  {
   "block_group": "8e72e70aa032409db2ad099d6420959d",
   "cell_type": "markdown",
   "metadata": {
    "cell_id": "ad508d99eb5846fa9f91936e44c3f204",
    "deepnote_cell_type": "text-cell-p",
    "formattedRanges": []
   },
   "source": [
    "penggunaan sebelumnya:"
   ]
  },
  {
   "block_group": "f183f12e8ea049fb90231c5e51fa7af4",
   "cell_type": "markdown",
   "metadata": {
    "cell_id": "5582a3c9e23f41a887d7cf12f20320f7",
    "deepnote_cell_type": "text-cell-p",
    "formattedRanges": [
     {
      "fromCodePoint": 410,
      "ranges": [],
      "toCodePoint": 410,
      "type": "link",
      "url": "https://archive.ics.uci.edu/dataset/46/hepatitis"
     }
    ]
   },
   "source": [
    "1. Diaconis,P. & Efron,B. (1983).  Computer-Intensive Methods in \r\n",
    "   Statistics.  Scientific American, Volume 248.\r\n",
    "   -- Gail Gong reported a 80% classfication accuracy\r\n",
    "2. Cestnik,G., Konenenko,I, & Bratko,I. (1987). Assistant-86: A\r\n",
    "   Knowledge-Elicitation Tool for Sophisticated Users.  In I.Bratko\r\n",
    "   & N.Lavrac (Eds.) Progress in Machine Learning, 31-45, Sigma Press.\r\n",
    "   -- Assistant-86: 83% accuracy\r"
   ]
  },
  {
   "block_group": "e401c5db26bf4f18b2c6823fc4b6b301",
   "cell_type": "markdown",
   "metadata": {
    "cell_id": "38ba426d84064189abbf7254afeb9fcf",
    "deepnote_cell_type": "text-cell-h2",
    "formattedRanges": []
   },
   "source": [
    "## Integrasi Data"
   ]
  },
  {
   "block_group": "7ad7086501d64729855c897e8124111c",
   "cell_type": "markdown",
   "metadata": {
    "cell_id": "91e6d889c2dd4637af0f8d9c5db22aa9",
    "deepnote_cell_type": "text-cell-p",
    "formattedRanges": []
   },
   "source": [
    "Pengambilan data agar dapat diolah kami perlu untuk menginstall package yang telah disediakan oleh UCI Dataset. Instalasi dilakukan berguna untuk menarik data yang berasal dari UCI dataset agar dapat diolah."
   ]
  },
  {
   "block_group": "bac4606b18db4352a5cd112c3c01a443",
   "cell_type": "markdown",
   "metadata": {
    "cell_id": "7ab829638ece45e4b8432baca4e2647b",
    "deepnote_cell_type": "text-cell-p",
    "formattedRanges": []
   },
   "source": [
    "peritah untuk mengambil data dari UCI dataset dapat di lihat ketika kita menekan tombol import in python pada datase yang kita inginkan dan kita perlu mengikuti perintah tersebut agar data dapat diambil dari UCI dataset."
   ]
  },
  {
   "block_group": "5dc5aed109c649a5b42a99e66e7fbfd3",
   "cell_type": "markdown",
   "metadata": {
    "cell_id": "c6c495e7006a4fb1bc46fa30254aba5a",
    "deepnote_cell_type": "text-cell-p",
    "formattedRanges": []
   },
   "source": [
    "contoh pengambilan data dari UCI dataset dapat dilihat pada gambar dan perintah berkut"
   ]
  },
  {
   "block_group": "f41f70208a7c419f922ccb409dc8bfc1",
   "cell_type": "markdown",
   "metadata": {
    "cell_id": "804302b347394932a53b9dc3d4b318a3",
    "deepnote_cell_type": "image",
    "deepnote_img_src": "image-20240626-144423.png"
   },
   "source": [
    "<img src=\"image-20240626-144423.png\" width=\"\" align=\"\" />"
   ]
  },
  {
   "block_group": "85cdf4274f7443db93137c531a34562c",
   "cell_type": "code",
   "content_dependencies": null,
   "execution_count": 1,
   "metadata": {
    "cell_id": "85cdf4274f7443db93137c531a34562c",
    "deepnote_cell_type": "code",
    "deepnote_to_be_reexecuted": false,
    "execution_millis": 3278,
    "execution_start": 1719507279478,
    "source_hash": null
   },
   "outputs": [
    {
     "name": "stdout",
     "output_type": "stream",
     "text": [
      "Requirement already satisfied: ucimlrepo in c:\\users\\endyzan\\appdata\\local\\programs\\python\\python311\\lib\\site-packages (0.0.6)\n"
     ]
    }
   ],
   "outputs_reference": "s3:deepnote-cell-outputs-production/783fe240-e6aa-4f14-94f9-ba5f415b2585",
   "source": [
    "#untuk install package ucimlrepo\n",
    "!pip install ucimlrepo"
   ]
  },
  {
   "block_group": "78e745d0720f489c9427627e222841ed",
   "cell_type": "code",
   "content_dependencies": null,
   "execution_count": 2,
   "metadata": {
    "cell_id": "9ae87f4ffe0946ea94a8d23224a0ebdf",
    "deepnote_cell_type": "code",
    "deepnote_to_be_reexecuted": false,
    "execution_millis": 1162,
    "execution_start": 1719507282761,
    "source_hash": null
   },
   "outputs": [],
   "outputs_reference": null,
   "source": [
    "from ucimlrepo import fetch_ucirepo \n",
    "  \n",
    "# fetch dataset \n",
    "hepatitis = fetch_ucirepo(id=46) \n",
    "data = hepatitis.data.original #inisialisasikan sebagai 'data'\n",
    "data.to_csv('hepatitis.csv', index = True) #menyimpan hasil ke dalam .csv"
   ]
  },
  {
   "block_group": "a20f3cb574b748f6a914cfa9a20dd9c8",
   "cell_type": "markdown",
   "metadata": {
    "cell_id": "fd521aa4c917433291c684d2cdf42a59",
    "deepnote_cell_type": "text-cell-h2",
    "formattedRanges": []
   },
   "source": [
    "## Eskplorasi Data"
   ]
  },
  {
   "block_group": "dbb1dfea06614813999ff05a0ce23f91",
   "cell_type": "markdown",
   "metadata": {
    "cell_id": "cfe53ca3613647b6a5262365a53665ff",
    "deepnote_cell_type": "text-cell-p",
    "formattedRanges": [
     {
      "fromCodePoint": 0,
      "marks": {
       "bold": true
      },
      "toCodePoint": 16,
      "type": "marks"
     }
    ]
   },
   "source": [
    "Visualisasi Data"
   ]
  },
  {
   "block_group": "1e7e52ee532f428786fe5aa635d0d50f",
   "cell_type": "markdown",
   "metadata": {
    "cell_id": "5ecc9c8bbc2645708334babb2911ff0b",
    "deepnote_cell_type": "text-cell-p",
    "formattedRanges": []
   },
   "source": [
    "Agar mempermudah memahami dataset perlu di tampilkan dengan visualisai, gunakan perintah seperti dibawah ini:"
   ]
  },
  {
   "block_group": "67907f3803224a76b2902f34a656518c",
   "cell_type": "code",
   "content_dependencies": null,
   "execution_count": 3,
   "metadata": {
    "cell_id": "7bcd58535aab4426968be567143adbf9",
    "deepnote_cell_type": "code",
    "deepnote_to_be_reexecuted": false,
    "execution_millis": 218,
    "execution_start": 1719507283929,
    "source_hash": null
   },
   "outputs": [
    {
     "data": {
      "text/html": [
       "<div>\n",
       "<style scoped>\n",
       "    .dataframe tbody tr th:only-of-type {\n",
       "        vertical-align: middle;\n",
       "    }\n",
       "\n",
       "    .dataframe tbody tr th {\n",
       "        vertical-align: top;\n",
       "    }\n",
       "\n",
       "    .dataframe thead th {\n",
       "        text-align: right;\n",
       "    }\n",
       "</style>\n",
       "<table border=\"1\" class=\"dataframe\">\n",
       "  <thead>\n",
       "    <tr style=\"text-align: right;\">\n",
       "      <th></th>\n",
       "      <th>Class</th>\n",
       "      <th>Age</th>\n",
       "      <th>Sex</th>\n",
       "      <th>Steroid</th>\n",
       "      <th>Antivirals</th>\n",
       "      <th>Fatigue</th>\n",
       "      <th>Malaise</th>\n",
       "      <th>Anorexia</th>\n",
       "      <th>Liver Big</th>\n",
       "      <th>Liver Firm</th>\n",
       "      <th>Spleen Palpable</th>\n",
       "      <th>Spiders</th>\n",
       "      <th>Ascites</th>\n",
       "      <th>Varices</th>\n",
       "      <th>Bilirubin</th>\n",
       "      <th>Alk Phosphate</th>\n",
       "      <th>Sgot</th>\n",
       "      <th>Albumin</th>\n",
       "      <th>Protime</th>\n",
       "      <th>Histology</th>\n",
       "    </tr>\n",
       "  </thead>\n",
       "  <tbody>\n",
       "    <tr>\n",
       "      <th>0</th>\n",
       "      <td>2</td>\n",
       "      <td>30</td>\n",
       "      <td>2</td>\n",
       "      <td>1.0</td>\n",
       "      <td>2</td>\n",
       "      <td>2.0</td>\n",
       "      <td>2.0</td>\n",
       "      <td>2.0</td>\n",
       "      <td>1.0</td>\n",
       "      <td>2.0</td>\n",
       "      <td>2.0</td>\n",
       "      <td>2.0</td>\n",
       "      <td>2.0</td>\n",
       "      <td>2.0</td>\n",
       "      <td>1.0</td>\n",
       "      <td>85.0</td>\n",
       "      <td>18.0</td>\n",
       "      <td>4.0</td>\n",
       "      <td>NaN</td>\n",
       "      <td>1</td>\n",
       "    </tr>\n",
       "    <tr>\n",
       "      <th>1</th>\n",
       "      <td>2</td>\n",
       "      <td>50</td>\n",
       "      <td>1</td>\n",
       "      <td>1.0</td>\n",
       "      <td>2</td>\n",
       "      <td>1.0</td>\n",
       "      <td>2.0</td>\n",
       "      <td>2.0</td>\n",
       "      <td>1.0</td>\n",
       "      <td>2.0</td>\n",
       "      <td>2.0</td>\n",
       "      <td>2.0</td>\n",
       "      <td>2.0</td>\n",
       "      <td>2.0</td>\n",
       "      <td>0.9</td>\n",
       "      <td>135.0</td>\n",
       "      <td>42.0</td>\n",
       "      <td>3.5</td>\n",
       "      <td>NaN</td>\n",
       "      <td>1</td>\n",
       "    </tr>\n",
       "    <tr>\n",
       "      <th>2</th>\n",
       "      <td>2</td>\n",
       "      <td>78</td>\n",
       "      <td>1</td>\n",
       "      <td>2.0</td>\n",
       "      <td>2</td>\n",
       "      <td>1.0</td>\n",
       "      <td>2.0</td>\n",
       "      <td>2.0</td>\n",
       "      <td>2.0</td>\n",
       "      <td>2.0</td>\n",
       "      <td>2.0</td>\n",
       "      <td>2.0</td>\n",
       "      <td>2.0</td>\n",
       "      <td>2.0</td>\n",
       "      <td>0.7</td>\n",
       "      <td>96.0</td>\n",
       "      <td>32.0</td>\n",
       "      <td>4.0</td>\n",
       "      <td>NaN</td>\n",
       "      <td>1</td>\n",
       "    </tr>\n",
       "    <tr>\n",
       "      <th>3</th>\n",
       "      <td>2</td>\n",
       "      <td>31</td>\n",
       "      <td>1</td>\n",
       "      <td>NaN</td>\n",
       "      <td>1</td>\n",
       "      <td>2.0</td>\n",
       "      <td>2.0</td>\n",
       "      <td>2.0</td>\n",
       "      <td>2.0</td>\n",
       "      <td>2.0</td>\n",
       "      <td>2.0</td>\n",
       "      <td>2.0</td>\n",
       "      <td>2.0</td>\n",
       "      <td>2.0</td>\n",
       "      <td>0.7</td>\n",
       "      <td>46.0</td>\n",
       "      <td>52.0</td>\n",
       "      <td>4.0</td>\n",
       "      <td>80.0</td>\n",
       "      <td>1</td>\n",
       "    </tr>\n",
       "    <tr>\n",
       "      <th>4</th>\n",
       "      <td>2</td>\n",
       "      <td>34</td>\n",
       "      <td>1</td>\n",
       "      <td>2.0</td>\n",
       "      <td>2</td>\n",
       "      <td>2.0</td>\n",
       "      <td>2.0</td>\n",
       "      <td>2.0</td>\n",
       "      <td>2.0</td>\n",
       "      <td>2.0</td>\n",
       "      <td>2.0</td>\n",
       "      <td>2.0</td>\n",
       "      <td>2.0</td>\n",
       "      <td>2.0</td>\n",
       "      <td>1.0</td>\n",
       "      <td>NaN</td>\n",
       "      <td>200.0</td>\n",
       "      <td>4.0</td>\n",
       "      <td>NaN</td>\n",
       "      <td>1</td>\n",
       "    </tr>\n",
       "    <tr>\n",
       "      <th>...</th>\n",
       "      <td>...</td>\n",
       "      <td>...</td>\n",
       "      <td>...</td>\n",
       "      <td>...</td>\n",
       "      <td>...</td>\n",
       "      <td>...</td>\n",
       "      <td>...</td>\n",
       "      <td>...</td>\n",
       "      <td>...</td>\n",
       "      <td>...</td>\n",
       "      <td>...</td>\n",
       "      <td>...</td>\n",
       "      <td>...</td>\n",
       "      <td>...</td>\n",
       "      <td>...</td>\n",
       "      <td>...</td>\n",
       "      <td>...</td>\n",
       "      <td>...</td>\n",
       "      <td>...</td>\n",
       "      <td>...</td>\n",
       "    </tr>\n",
       "    <tr>\n",
       "      <th>150</th>\n",
       "      <td>1</td>\n",
       "      <td>46</td>\n",
       "      <td>1</td>\n",
       "      <td>2.0</td>\n",
       "      <td>2</td>\n",
       "      <td>1.0</td>\n",
       "      <td>1.0</td>\n",
       "      <td>1.0</td>\n",
       "      <td>2.0</td>\n",
       "      <td>2.0</td>\n",
       "      <td>2.0</td>\n",
       "      <td>1.0</td>\n",
       "      <td>1.0</td>\n",
       "      <td>1.0</td>\n",
       "      <td>7.6</td>\n",
       "      <td>NaN</td>\n",
       "      <td>242.0</td>\n",
       "      <td>3.3</td>\n",
       "      <td>50.0</td>\n",
       "      <td>2</td>\n",
       "    </tr>\n",
       "    <tr>\n",
       "      <th>151</th>\n",
       "      <td>2</td>\n",
       "      <td>44</td>\n",
       "      <td>1</td>\n",
       "      <td>2.0</td>\n",
       "      <td>2</td>\n",
       "      <td>1.0</td>\n",
       "      <td>2.0</td>\n",
       "      <td>2.0</td>\n",
       "      <td>2.0</td>\n",
       "      <td>1.0</td>\n",
       "      <td>2.0</td>\n",
       "      <td>2.0</td>\n",
       "      <td>2.0</td>\n",
       "      <td>2.0</td>\n",
       "      <td>0.9</td>\n",
       "      <td>126.0</td>\n",
       "      <td>142.0</td>\n",
       "      <td>4.3</td>\n",
       "      <td>NaN</td>\n",
       "      <td>2</td>\n",
       "    </tr>\n",
       "    <tr>\n",
       "      <th>152</th>\n",
       "      <td>2</td>\n",
       "      <td>61</td>\n",
       "      <td>1</td>\n",
       "      <td>1.0</td>\n",
       "      <td>2</td>\n",
       "      <td>1.0</td>\n",
       "      <td>1.0</td>\n",
       "      <td>2.0</td>\n",
       "      <td>1.0</td>\n",
       "      <td>1.0</td>\n",
       "      <td>2.0</td>\n",
       "      <td>1.0</td>\n",
       "      <td>2.0</td>\n",
       "      <td>2.0</td>\n",
       "      <td>0.8</td>\n",
       "      <td>75.0</td>\n",
       "      <td>20.0</td>\n",
       "      <td>4.1</td>\n",
       "      <td>NaN</td>\n",
       "      <td>2</td>\n",
       "    </tr>\n",
       "    <tr>\n",
       "      <th>153</th>\n",
       "      <td>2</td>\n",
       "      <td>53</td>\n",
       "      <td>2</td>\n",
       "      <td>1.0</td>\n",
       "      <td>2</td>\n",
       "      <td>1.0</td>\n",
       "      <td>2.0</td>\n",
       "      <td>2.0</td>\n",
       "      <td>2.0</td>\n",
       "      <td>2.0</td>\n",
       "      <td>1.0</td>\n",
       "      <td>1.0</td>\n",
       "      <td>2.0</td>\n",
       "      <td>1.0</td>\n",
       "      <td>1.5</td>\n",
       "      <td>81.0</td>\n",
       "      <td>19.0</td>\n",
       "      <td>4.1</td>\n",
       "      <td>48.0</td>\n",
       "      <td>2</td>\n",
       "    </tr>\n",
       "    <tr>\n",
       "      <th>154</th>\n",
       "      <td>1</td>\n",
       "      <td>43</td>\n",
       "      <td>1</td>\n",
       "      <td>2.0</td>\n",
       "      <td>2</td>\n",
       "      <td>1.0</td>\n",
       "      <td>2.0</td>\n",
       "      <td>2.0</td>\n",
       "      <td>2.0</td>\n",
       "      <td>2.0</td>\n",
       "      <td>1.0</td>\n",
       "      <td>1.0</td>\n",
       "      <td>1.0</td>\n",
       "      <td>2.0</td>\n",
       "      <td>1.2</td>\n",
       "      <td>100.0</td>\n",
       "      <td>19.0</td>\n",
       "      <td>3.1</td>\n",
       "      <td>42.0</td>\n",
       "      <td>2</td>\n",
       "    </tr>\n",
       "  </tbody>\n",
       "</table>\n",
       "<p>155 rows × 20 columns</p>\n",
       "</div>"
      ],
      "text/plain": [
       "     Class  Age  Sex  Steroid  Antivirals  Fatigue  Malaise  Anorexia  \\\n",
       "0        2   30    2      1.0           2      2.0      2.0       2.0   \n",
       "1        2   50    1      1.0           2      1.0      2.0       2.0   \n",
       "2        2   78    1      2.0           2      1.0      2.0       2.0   \n",
       "3        2   31    1      NaN           1      2.0      2.0       2.0   \n",
       "4        2   34    1      2.0           2      2.0      2.0       2.0   \n",
       "..     ...  ...  ...      ...         ...      ...      ...       ...   \n",
       "150      1   46    1      2.0           2      1.0      1.0       1.0   \n",
       "151      2   44    1      2.0           2      1.0      2.0       2.0   \n",
       "152      2   61    1      1.0           2      1.0      1.0       2.0   \n",
       "153      2   53    2      1.0           2      1.0      2.0       2.0   \n",
       "154      1   43    1      2.0           2      1.0      2.0       2.0   \n",
       "\n",
       "     Liver Big  Liver Firm  Spleen Palpable  Spiders  Ascites  Varices  \\\n",
       "0          1.0         2.0              2.0      2.0      2.0      2.0   \n",
       "1          1.0         2.0              2.0      2.0      2.0      2.0   \n",
       "2          2.0         2.0              2.0      2.0      2.0      2.0   \n",
       "3          2.0         2.0              2.0      2.0      2.0      2.0   \n",
       "4          2.0         2.0              2.0      2.0      2.0      2.0   \n",
       "..         ...         ...              ...      ...      ...      ...   \n",
       "150        2.0         2.0              2.0      1.0      1.0      1.0   \n",
       "151        2.0         1.0              2.0      2.0      2.0      2.0   \n",
       "152        1.0         1.0              2.0      1.0      2.0      2.0   \n",
       "153        2.0         2.0              1.0      1.0      2.0      1.0   \n",
       "154        2.0         2.0              1.0      1.0      1.0      2.0   \n",
       "\n",
       "     Bilirubin  Alk Phosphate   Sgot  Albumin  Protime  Histology  \n",
       "0          1.0           85.0   18.0      4.0      NaN          1  \n",
       "1          0.9          135.0   42.0      3.5      NaN          1  \n",
       "2          0.7           96.0   32.0      4.0      NaN          1  \n",
       "3          0.7           46.0   52.0      4.0     80.0          1  \n",
       "4          1.0            NaN  200.0      4.0      NaN          1  \n",
       "..         ...            ...    ...      ...      ...        ...  \n",
       "150        7.6            NaN  242.0      3.3     50.0          2  \n",
       "151        0.9          126.0  142.0      4.3      NaN          2  \n",
       "152        0.8           75.0   20.0      4.1      NaN          2  \n",
       "153        1.5           81.0   19.0      4.1     48.0          2  \n",
       "154        1.2          100.0   19.0      3.1     42.0          2  \n",
       "\n",
       "[155 rows x 20 columns]"
      ]
     },
     "metadata": {},
     "output_type": "display_data"
    }
   ],
   "outputs_reference": "s3:deepnote-cell-outputs-production/353ab5ca-7d5c-4dd4-80a3-c34ba3aad3f5",
   "source": [
    "display(data)"
   ]
  },
  {
   "block_group": "e302f03e96d845678474897038dfb8ac",
   "cell_type": "code",
   "content_dependencies": null,
   "execution_count": 4,
   "metadata": {
    "cell_id": "b92650f71d03470b9ecc16fcbbd011ca",
    "deepnote_cell_type": "code",
    "deepnote_to_be_reexecuted": false,
    "execution_millis": 1052,
    "execution_start": 1719507284066,
    "source_hash": null
   },
   "outputs": [
    {
     "data": {
      "image/png": "[encoded data removed]",
      "text/plain": [
       "<Figure size 800x600 with 1 Axes>"
      ]
     },
     "metadata": {},
     "output_type": "display_data"
    }
   ],
   "outputs_reference": "s3:deepnote-cell-outputs-production/85ec7258-dc5b-4b87-abf7-d8c8c0c74861",
   "source": [
    "import pandas as pd\n",
    "import seaborn as sns\n",
    "import matplotlib.pyplot as plt\n",
    "plt.figure(figsize=(8, 6))\n",
    "sns.countplot(x='Class', data=data, palette='viridis')\n",
    "plt.title('Jumlah Sampel per Kelas')\n",
    "plt.xlabel('Kelas')\n",
    "plt.ylabel('Jumlah Sampel')\n",
    "plt.show()"
   ]
  },
  {
   "block_group": "2ca884adf68c415eb329e018c4a09cf8",
   "cell_type": "code",
   "content_dependencies": null,
   "execution_count": 5,
   "metadata": {
    "cell_id": "f4c71f5a968641c99954d093f82c692a",
    "deepnote_cell_type": "code",
    "deepnote_to_be_reexecuted": false,
    "execution_millis": 2995,
    "execution_start": 1719507285124,
    "source_hash": null
   },
   "outputs": [
    {
     "data": {
      "text/plain": [
       "<Figure size 1500x1200 with 0 Axes>"
      ]
     },
     "metadata": {},
     "output_type": "display_data"
    },
    {
     "data": {
      "image/png": "[encoded data removed]",
      "text/plain": [
       "<Figure size 2000x1500 with 20 Axes>"
      ]
     },
     "metadata": {},
     "output_type": "display_data"
    }
   ],
   "outputs_reference": "s3:deepnote-cell-outputs-production/4640dcb0-324d-4251-a206-e301f1b1277d",
   "source": [
    "plt.figure(figsize=(15, 12))\n",
    "data.hist(bins=30, figsize=(20, 15), color='blue')\n",
    "plt.suptitle('Distribusi Fitur')\n",
    "plt.show()"
   ]
  },
  {
   "block_group": "5a23375d78764a67ab9f9c412872fdef",
   "cell_type": "markdown",
   "metadata": {
    "cell_id": "ba4887007cea45c895cef2a68238bcad",
    "deepnote_cell_type": "text-cell-h2",
    "formattedRanges": []
   },
   "source": [
    "## Struktur Dataset"
   ]
  },
  {
   "block_group": "a3e47a896f00444fa946d1dd09fa8405",
   "cell_type": "markdown",
   "metadata": {
    "cell_id": "0e6d4eb63c8b46308d8f95037726470e",
    "deepnote_cell_type": "text-cell-p",
    "formattedRanges": [
     {
      "fromCodePoint": 0,
      "marks": {
       "bold": true
      },
      "toCodePoint": 17,
      "type": "marks"
     }
    ]
   },
   "source": [
    "Deskripsi Dataset"
   ]
  },
  {
   "block_group": "0634ceb5d31542e1b35c0062789c2a6d",
   "cell_type": "markdown",
   "metadata": {
    "cell_id": "380d1a3971f84d0d914ee1353c887a63",
    "deepnote_cell_type": "text-cell-p",
    "formattedRanges": []
   },
   "source": [
    "Dataset hepatitis ini merupakan kumpulan data yang digunakan untuk mengklasifikasikan pasien hepatitis sebagai hidup (live) atau meninggal (die). Data ini dikumpulkan dari pasien yang mengalami hepatitis dan berisi informasi medis terkait kondisi mereka."
   ]
  },
  {
   "block_group": "6a2cad9b5cbd47a0810ffc24b2850ea4",
   "cell_type": "markdown",
   "metadata": {
    "cell_id": "5926cc2daa124fe5bd2e302d6c5b4773",
    "deepnote_cell_type": "text-cell-p",
    "formattedRanges": [
     {
      "fromCodePoint": 0,
      "marks": {
       "bold": true
      },
      "toCodePoint": 26,
      "type": "marks"
     }
    ]
   },
   "source": [
    "Jumlah Observasi dan Fitur"
   ]
  },
  {
   "block_group": "c2d6071dd5274f1d8bea041c9e8e38b5",
   "cell_type": "markdown",
   "metadata": {
    "cell_id": "9315d848f02f4210812f3167d5cc8f87",
    "deepnote_cell_type": "text-cell-bullet",
    "formattedRanges": []
   },
   "source": [
    "- Jumlah Observasi: 155"
   ]
  },
  {
   "block_group": "25d6b26adb874f51b2c7594181da936a",
   "cell_type": "markdown",
   "metadata": {
    "cell_id": "95a0d93c3f984dfea43d76b4a20a2976",
    "deepnote_cell_type": "text-cell-bullet",
    "formattedRanges": []
   },
   "source": [
    "- Jumlah Fitur: 19"
   ]
  },
  {
   "block_group": "0a902e512fe14f8195e99382ddf9a806",
   "cell_type": "code",
   "content_dependencies": null,
   "execution_count": 6,
   "metadata": {
    "cell_id": "c6a47c7029d0418ba5049eb8a9b4cb3f",
    "deepnote_cell_type": "code",
    "deepnote_to_be_reexecuted": false,
    "execution_millis": 348,
    "execution_start": 1719507288122,
    "source_hash": null
   },
   "outputs": [
    {
     "data": {
      "text/plain": [
       "(155, 20)"
      ]
     },
     "execution_count": 6,
     "metadata": {},
     "output_type": "execute_result"
    }
   ],
   "outputs_reference": "dbtable:cell_outputs/47addb66-1740-4f62-b41a-b6bdb7290aa3",
   "source": [
    "data.shape"
   ]
  },
  {
   "block_group": "a44b06b86a8d4524a94ab591df5a2979",
   "cell_type": "markdown",
   "metadata": {
    "cell_id": "0612787f4ec64f9f903b0a01c97f17ba",
    "deepnote_cell_type": "text-cell-p",
    "formattedRanges": [
     {
      "fromCodePoint": 0,
      "marks": {
       "bold": true
      },
      "toCodePoint": 24,
      "type": "marks"
     }
    ]
   },
   "source": [
    "Nama dan Deskripsi Fitur"
   ]
  },
  {
   "block_group": "d88ac7c9f3644c54b5db76bd9c41adb8",
   "cell_type": "markdown",
   "metadata": {
    "cell_id": "e81313ce166141eaa4d66d10caf15b09",
    "deepnote_cell_type": "text-cell-p",
    "formattedRanges": []
   },
   "source": [
    "fitur merupakan ciri-ciri yang digunakan untuk menentukan klasifikasi suatu data,pada dataset ini fitur yang ada akan berhubungan dan digunakan untuk indentifikasi."
   ]
  },
  {
   "block_group": "f4c422c06b1a427094bd0dfc508c5f4f",
   "cell_type": "markdown",
   "metadata": {
    "cell_id": "8f8d013f0ca3438abe496a5ced68e200",
    "deepnote_cell_type": "text-cell-p",
    "formattedRanges": [
     {
      "fromCodePoint": 30,
      "marks": {
       "bold": true
      },
      "toCodePoint": 35,
      "type": "marks"
     }
    ]
   },
   "source": [
    "dataset hepatitis memiliki 19 fitur:"
   ]
  },
  {
   "block_group": "7fb0ee8c369f42f7989277a8378ce262",
   "cell_type": "markdown",
   "metadata": {
    "cell_id": "75b856df22ce46048627c595d8ce4b0d",
    "deepnote_cell_type": "text-cell-bullet",
    "formattedRanges": []
   },
   "source": [
    "- Age - Usia pasien."
   ]
  },
  {
   "block_group": "5c5d659bf88f4e7ba59a373576428942",
   "cell_type": "markdown",
   "metadata": {
    "cell_id": "90b32d913f1e4739a3ddaf83811d5206",
    "deepnote_cell_type": "text-cell-bullet",
    "formattedRanges": []
   },
   "source": [
    "- Sex - Jenis kelamin pasien."
   ]
  },
  {
   "block_group": "ba5899cfa60942518fdb408baa366083",
   "cell_type": "markdown",
   "metadata": {
    "cell_id": "cd2ac975afdf48588fee8d5c2773ff7a",
    "deepnote_cell_type": "text-cell-bullet",
    "formattedRanges": []
   },
   "source": [
    "- Steroid - Penggunaan steroid (ya/tidak)."
   ]
  },
  {
   "block_group": "91ef881373454c80b4d6033a2ace1a2c",
   "cell_type": "markdown",
   "metadata": {
    "cell_id": "6e469aa4edbb4d56b2020a80a5e37380",
    "deepnote_cell_type": "text-cell-bullet",
    "formattedRanges": []
   },
   "source": [
    "- Antivirals - Penggunaan antivirus (ya/tidak)."
   ]
  },
  {
   "block_group": "4bc266cedaf04d2db9c9a654e73cc49b",
   "cell_type": "markdown",
   "metadata": {
    "cell_id": "a0c6fa317d8e47ca800f6c169f7a6bd1",
    "deepnote_cell_type": "text-cell-bullet",
    "formattedRanges": []
   },
   "source": [
    "- Fatigue - Kelelahan (ya/tidak)."
   ]
  },
  {
   "block_group": "0390cd0614cf4aa6a2f34aee250e9e0f",
   "cell_type": "markdown",
   "metadata": {
    "cell_id": "a8016749f8dd498d855188cac14e9fc1",
    "deepnote_cell_type": "text-cell-bullet",
    "formattedRanges": []
   },
   "source": [
    "- Malaise - Ketidaknyamanan (ya/tidak)."
   ]
  },
  {
   "block_group": "46df286218374dce8b6ffdbbd3a943eb",
   "cell_type": "markdown",
   "metadata": {
    "cell_id": "055763998bb44d2baaced53ee2af9496",
    "deepnote_cell_type": "text-cell-bullet",
    "formattedRanges": []
   },
   "source": [
    "- Anorexia\t- Anoreksia (ya/tidak)."
   ]
  },
  {
   "block_group": "f11a742227a74e3589d035386ca4d544",
   "cell_type": "markdown",
   "metadata": {
    "cell_id": "4823fecb35874f069311855e3e3771d8",
    "deepnote_cell_type": "text-cell-bullet",
    "formattedRanges": []
   },
   "source": [
    "- Liver Big\t- Pembesaran hati (ya/tidak)."
   ]
  },
  {
   "block_group": "4368009174084df4a8a4d615ae299ec4",
   "cell_type": "markdown",
   "metadata": {
    "cell_id": "446954d776de466495f8c3bf6568756b",
    "deepnote_cell_type": "text-cell-bullet",
    "formattedRanges": []
   },
   "source": [
    "- Liver Firm - Kekakuan hati (ya/tidak)."
   ]
  },
  {
   "block_group": "2e1fbaa22bad42e28b2a13d6a4d19892",
   "cell_type": "markdown",
   "metadata": {
    "cell_id": "d99c4d8e69be4720a75446e13b5fae6d",
    "deepnote_cell_type": "text-cell-bullet",
    "formattedRanges": []
   },
   "source": [
    "- Spleen Palpable - Limpa teraba (ya/tidak)."
   ]
  },
  {
   "block_group": "ae6adca36e7740d689672c15a5db197b",
   "cell_type": "markdown",
   "metadata": {
    "cell_id": "170b75779f8549859a00e1cf8d0d42fc",
    "deepnote_cell_type": "text-cell-bullet",
    "formattedRanges": []
   },
   "source": [
    "- Spiders - Pembuluh darah laba-laba (ya/tidak)."
   ]
  },
  {
   "block_group": "8fe9251758d340d1bfd614a5ed4dc1d5",
   "cell_type": "markdown",
   "metadata": {
    "cell_id": "7cb6d4815c1b4d75969a1c8a37189798",
    "deepnote_cell_type": "text-cell-bullet",
    "formattedRanges": []
   },
   "source": [
    "- Ascites - Asites (ya/tidak)."
   ]
  },
  {
   "block_group": "38632476a0cf42839cc82218a38204cd",
   "cell_type": "markdown",
   "metadata": {
    "cell_id": "7382e62aa04e46e09ca0427c27280f4f",
    "deepnote_cell_type": "text-cell-bullet",
    "formattedRanges": []
   },
   "source": [
    "- Varices - Varises (ya/tidak)."
   ]
  },
  {
   "block_group": "9807ad46d9e74e6fa283f6c42edf9e66",
   "cell_type": "markdown",
   "metadata": {
    "cell_id": "83f8e91e4965406aa37099a338773d1d",
    "deepnote_cell_type": "text-cell-bullet",
    "formattedRanges": []
   },
   "source": [
    "- Bilirubin - Kadar bilirubin."
   ]
  },
  {
   "block_group": "323906cfcaa3462ea261081e9f61671c",
   "cell_type": "markdown",
   "metadata": {
    "cell_id": "66f0e63f3c794f9aa2bf9f04b1e54b29",
    "deepnote_cell_type": "text-cell-bullet",
    "formattedRanges": []
   },
   "source": [
    "- Alk Phosphate\t- Kadar fosfatase alkali."
   ]
  },
  {
   "block_group": "1aae747318cb46178c0d1d6768b2710f",
   "cell_type": "markdown",
   "metadata": {
    "cell_id": "9bef791bdaf94e5c927a81fc025641af",
    "deepnote_cell_type": "text-cell-bullet",
    "formattedRanges": []
   },
   "source": [
    "- Sgot - Serum glutamat-oksaloasetat transaminase."
   ]
  },
  {
   "block_group": "0db07be071da44c582d90088ab3e8f3f",
   "cell_type": "markdown",
   "metadata": {
    "cell_id": "42855a2b64bc4dfdb44cf9eb5ee66f20",
    "deepnote_cell_type": "text-cell-bullet",
    "formattedRanges": []
   },
   "source": [
    "- Albumin - Kadar albumin."
   ]
  },
  {
   "block_group": "ec00ead5bf27473987c092cbec079e87",
   "cell_type": "markdown",
   "metadata": {
    "cell_id": "0c3e2fa66a7f49d1aac41463e941b402",
    "deepnote_cell_type": "text-cell-bullet",
    "formattedRanges": []
   },
   "source": [
    "- Protime - Waktu protrombin."
   ]
  },
  {
   "block_group": "4b2d790f99664ff19762aeb73ae7e31d",
   "cell_type": "markdown",
   "metadata": {
    "cell_id": "268ac73eeee24cd7a9938098eefb1222",
    "deepnote_cell_type": "text-cell-bullet",
    "formattedRanges": []
   },
   "source": [
    "- Histology - Hasil histologi (ya/tidak)."
   ]
  },
  {
   "block_group": "e2e58f4bb27f4bb2b4cc2b98ee871ee7",
   "cell_type": "markdown",
   "metadata": {
    "cell_id": "61d135c1f9694ea89bbf810ced624a0f",
    "deepnote_cell_type": "text-cell-p",
    "formattedRanges": [
     {
      "fromCodePoint": 0,
      "marks": {
       "bold": true
      },
      "toCodePoint": 6,
      "type": "marks"
     }
    ]
   },
   "source": [
    "label pada dataset memiliki 2 type:"
   ]
  },
  {
   "block_group": "ccb94b411c3643f38e40a59dd327002b",
   "cell_type": "markdown",
   "metadata": {
    "cell_id": "c9da65a8ed25401498cc8444cf4904c3",
    "deepnote_cell_type": "text-cell-bullet",
    "formattedRanges": []
   },
   "source": [
    "- 1: live (hidup)"
   ]
  },
  {
   "block_group": "ab53a17f30ae4ceda13fc46452f2f182",
   "cell_type": "markdown",
   "metadata": {
    "cell_id": "12c9978985dc46409b5af3da105df958",
    "deepnote_cell_type": "text-cell-bullet",
    "formattedRanges": []
   },
   "source": [
    "- 2: die (mati)"
   ]
  },
  {
   "block_group": "aef6c413142e4edab0e6b80811c4d7c8",
   "cell_type": "markdown",
   "metadata": {
    "cell_id": "e468231e8c3040a282785ec5e5078bab",
    "deepnote_cell_type": "text-cell-p",
    "formattedRanges": [
     {
      "fromCodePoint": 0,
      "marks": {
       "bold": true
      },
      "toCodePoint": 27,
      "type": "marks"
     }
    ]
   },
   "source": [
    "Tipe Data dari Setiap Fitur"
   ]
  },
  {
   "block_group": "eeabb69ade304addaa6da72d193d57eb",
   "cell_type": "code",
   "content_dependencies": null,
   "execution_count": 7,
   "metadata": {
    "cell_id": "e434d03f3a3447c5bf9154c05c3518a7",
    "deepnote_cell_type": "code",
    "deepnote_to_be_reexecuted": false,
    "execution_millis": 343,
    "execution_start": 1719507288128,
    "source_hash": null
   },
   "outputs": [
    {
     "data": {
      "text/plain": [
       "Index(['Class', 'Age', 'Sex', 'Steroid', 'Antivirals', 'Fatigue', 'Malaise',\n",
       "       'Anorexia', 'Liver Big', 'Liver Firm', 'Spleen Palpable', 'Spiders',\n",
       "       'Ascites', 'Varices', 'Bilirubin', 'Alk Phosphate', 'Sgot', 'Albumin',\n",
       "       'Protime', 'Histology'],\n",
       "      dtype='object')"
      ]
     },
     "execution_count": 7,
     "metadata": {},
     "output_type": "execute_result"
    }
   ],
   "outputs_reference": "dbtable:cell_outputs/3d8bb4fc-d0c0-43f5-9274-33921ded0644",
   "source": [
    "data.columns"
   ]
  },
  {
   "block_group": "50d2a5f873fb4c39875a11ad89432c4f",
   "cell_type": "code",
   "content_dependencies": null,
   "execution_count": 8,
   "metadata": {
    "cell_id": "c70b90e859604ac09a96bf9c8f164971",
    "deepnote_cell_type": "code",
    "deepnote_to_be_reexecuted": false,
    "execution_millis": 333,
    "execution_start": 1719507288138,
    "source_hash": null
   },
   "outputs": [
    {
     "data": {
      "text/plain": [
       "Class                int64\n",
       "Age                  int64\n",
       "Sex                  int64\n",
       "Steroid            float64\n",
       "Antivirals           int64\n",
       "Fatigue            float64\n",
       "Malaise            float64\n",
       "Anorexia           float64\n",
       "Liver Big          float64\n",
       "Liver Firm         float64\n",
       "Spleen Palpable    float64\n",
       "Spiders            float64\n",
       "Ascites            float64\n",
       "Varices            float64\n",
       "Bilirubin          float64\n",
       "Alk Phosphate      float64\n",
       "Sgot               float64\n",
       "Albumin            float64\n",
       "Protime            float64\n",
       "Histology            int64\n",
       "dtype: object"
      ]
     },
     "execution_count": 8,
     "metadata": {},
     "output_type": "execute_result"
    }
   ],
   "outputs_reference": "dbtable:cell_outputs/db01ab51-dc20-4807-bc26-7146123102d7",
   "source": [
    "data.dtypes"
   ]
  },
  {
   "block_group": "0cadd56c3e754315bc0c133b6cf6290e",
   "cell_type": "markdown",
   "metadata": {
    "cell_id": "586b55d1ee634b9db3a94f53374c8e53",
    "deepnote_cell_type": "text-cell-p",
    "formattedRanges": [
     {
      "fromCodePoint": 0,
      "marks": {
       "bold": true
      },
      "toCodePoint": 21,
      "type": "marks"
     }
    ]
   },
   "source": [
    "Statistik Deskriptif:"
   ]
  },
  {
   "block_group": "a62b96c4de894d8e9a6d235fa37f1298",
   "cell_type": "code",
   "content_dependencies": null,
   "execution_count": 9,
   "metadata": {
    "cell_id": "0c2c4ca993b54caab2cbddd84dc2a2a6",
    "deepnote_cell_type": "code",
    "deepnote_to_be_reexecuted": false,
    "execution_millis": 324,
    "execution_start": 1719507288147,
    "source_hash": null
   },
   "outputs": [
    {
     "name": "stdout",
     "output_type": "stream",
     "text": [
      "              Age         Sex     Steroid  Antivirals     Fatigue     Malaise  \\\n",
      "count  155.000000  155.000000  154.000000  155.000000  154.000000  154.000000   \n",
      "mean    41.200000    1.103226    1.506494    1.845161    1.350649    1.603896   \n",
      "std     12.565878    0.305240    0.501589    0.362923    0.478730    0.490682   \n",
      "min      7.000000    1.000000    1.000000    1.000000    1.000000    1.000000   \n",
      "25%     32.000000    1.000000    1.000000    2.000000    1.000000    1.000000   \n",
      "50%     39.000000    1.000000    2.000000    2.000000    1.000000    2.000000   \n",
      "75%     50.000000    1.000000    2.000000    2.000000    2.000000    2.000000   \n",
      "max     78.000000    2.000000    2.000000    2.000000    2.000000    2.000000   \n",
      "\n",
      "         Anorexia   Liver Big  Liver Firm  Spleen Palpable     Spiders  \\\n",
      "count  154.000000  145.000000  144.000000        150.00000  150.000000   \n",
      "mean     1.792208    1.827586    1.583333          1.80000    1.660000   \n",
      "std      0.407051    0.379049    0.494727          0.40134    0.475296   \n",
      "min      1.000000    1.000000    1.000000          1.00000    1.000000   \n",
      "25%      2.000000    2.000000    1.000000          2.00000    1.000000   \n",
      "50%      2.000000    2.000000    2.000000          2.00000    2.000000   \n",
      "75%      2.000000    2.000000    2.000000          2.00000    2.000000   \n",
      "max      2.000000    2.000000    2.000000          2.00000    2.000000   \n",
      "\n",
      "          Ascites    Varices   Bilirubin  Alk Phosphate       Sgot  \\\n",
      "count  150.000000  150.00000  149.000000     126.000000  151.00000   \n",
      "mean     1.866667    1.88000    1.427517     105.325397   85.89404   \n",
      "std      0.341073    0.32605    1.212149      51.508109   89.65089   \n",
      "min      1.000000    1.00000    0.300000      26.000000   14.00000   \n",
      "25%      2.000000    2.00000    0.700000      74.250000   31.50000   \n",
      "50%      2.000000    2.00000    1.000000      85.000000   58.00000   \n",
      "75%      2.000000    2.00000    1.500000     132.250000  100.50000   \n",
      "max      2.000000    2.00000    8.000000     295.000000  648.00000   \n",
      "\n",
      "          Albumin     Protime   Histology  \n",
      "count  139.000000   88.000000  155.000000  \n",
      "mean     3.817266   61.852273    1.451613  \n",
      "std      0.651523   22.875244    0.499266  \n",
      "min      2.100000    0.000000    1.000000  \n",
      "25%      3.400000   46.000000    1.000000  \n",
      "50%      4.000000   61.000000    1.000000  \n",
      "75%      4.200000   76.250000    2.000000  \n",
      "max      6.400000  100.000000    2.000000  \n"
     ]
    }
   ],
   "outputs_reference": "s3:deepnote-cell-outputs-production/92e5caa8-b282-4c61-b5a7-57ace9cf0583",
   "source": [
    "print(data.iloc[:, 1:20].describe())"
   ]
  },
  {
   "block_group": "bff90e2bf7984c1f8847de0621190c11",
   "cell_type": "markdown",
   "metadata": {
    "cell_id": "fadc16ed0a6d4591884e47c14322b43b",
    "deepnote_cell_type": "text-cell-p",
    "formattedRanges": []
   },
   "source": [
    "Penjelasan:"
   ]
  },
  {
   "block_group": "4d539d3fa1504295bdb03bcffbfc5abe",
   "cell_type": "markdown",
   "metadata": {
    "cell_id": "124521b2b3884b588a715de784c064f8",
    "deepnote_cell_type": "text-cell-bullet",
    "formattedRanges": []
   },
   "source": [
    "- Count (Jumlah) : Jumlah entri non-null dalam setiap kolom."
   ]
  },
  {
   "block_group": "ea207e5166a34a9da0e311a6cd394449",
   "cell_type": "markdown",
   "metadata": {
    "cell_id": "0e0ecb5332cc4688b17a3ec94595ad0e",
    "deepnote_cell_type": "text-cell-bullet",
    "formattedRanges": []
   },
   "source": [
    "- Mean (Rata-rata) : Rata-rata dari setiap kolom."
   ]
  },
  {
   "block_group": "5ec8c711b85d4debb0063348aa9428ad",
   "cell_type": "markdown",
   "metadata": {
    "cell_id": "e60b885ea9754506bd4c0a4744c71180",
    "deepnote_cell_type": "text-cell-bullet",
    "formattedRanges": []
   },
   "source": [
    "- Std (Standar Deviasi) : Standar deviasi dari setiap kolom, mengukur seberapa tersebar data di sekitar rata-rata."
   ]
  },
  {
   "block_group": "2eda9305f22f425cb2b517998c5677c6",
   "cell_type": "markdown",
   "metadata": {
    "cell_id": "4a54aaaeb16a4dd08db52f07f9a88451",
    "deepnote_cell_type": "text-cell-bullet",
    "formattedRanges": []
   },
   "source": [
    "- Min (Minimum) : Nilai minimum dalam setiap kolom."
   ]
  },
  {
   "block_group": "c885dcf2919446efbae38b0678e75e01",
   "cell_type": "markdown",
   "metadata": {
    "cell_id": "4af3c86c9bb246d48e732b03e85b3a7b",
    "deepnote_cell_type": "text-cell-bullet",
    "formattedRanges": []
   },
   "source": [
    "- 25% (Kuartil Pertama) : Nilai kuartil pertama (25th percentile) dari setiap kolom, menandakan nilai di bawahnya 25% dari data."
   ]
  },
  {
   "block_group": "aa17b0b0088445baa9ce40c0fe3fb080",
   "cell_type": "markdown",
   "metadata": {
    "cell_id": "7fe911c96e4e4233bd90bb2c2d22bf61",
    "deepnote_cell_type": "text-cell-bullet",
    "formattedRanges": []
   },
   "source": [
    "- 50% (Median) : Nilai median (50th percentile) dari setiap kolom, membagi data menjadi dua bagian yang sama."
   ]
  },
  {
   "block_group": "f327496cd387454b9f0ec220b4cd5e60",
   "cell_type": "markdown",
   "metadata": {
    "cell_id": "2093d55394734912b13355503893b531",
    "deepnote_cell_type": "text-cell-bullet",
    "formattedRanges": []
   },
   "source": [
    "- 75% (Kuartil Ketiga) : Nilai kuartil ketiga (75th percentile) dari setiap kolom, menandakan nilai di bawahnya 75% dari data."
   ]
  },
  {
   "block_group": "e332fb644b0541ff8f32f9d6b945f59b",
   "cell_type": "markdown",
   "metadata": {
    "cell_id": "0e3037c25fd041ed9a0190f373e6fee2",
    "deepnote_cell_type": "text-cell-bullet",
    "formattedRanges": []
   },
   "source": [
    "- Max (Maksimum) : Nilai maksimum dalam setiap kolom."
   ]
  },
  {
   "block_group": "92cc6128c6d14784aff8cc2d4ce7a2e7",
   "cell_type": "code",
   "content_dependencies": null,
   "execution_count": 10,
   "metadata": {
    "cell_id": "0d604ce620da4c53ae7cf5858975a57c",
    "deepnote_cell_type": "code",
    "deepnote_to_be_reexecuted": false,
    "execution_millis": 289,
    "execution_start": 1719507288183,
    "source_hash": null
   },
   "outputs": [
    {
     "data": {
      "text/plain": [
       "Class\n",
       "1     32\n",
       "2    123\n",
       "dtype: int64"
      ]
     },
     "execution_count": 10,
     "metadata": {},
     "output_type": "execute_result"
    }
   ],
   "outputs_reference": "dbtable:cell_outputs/d7e4f18a-b7d0-4089-9c75-08fd8fa23211",
   "source": [
    "data.groupby('Class').size() #untuk mengetahui jumlah masing-masing class"
   ]
  },
  {
   "block_group": "66dfa42b9c004784894f8804b7f50294",
   "cell_type": "markdown",
   "metadata": {
    "cell_id": "0c7839c5405a40cf95b8a3e5bbef1409",
    "deepnote_cell_type": "text-cell-p",
    "formattedRanges": []
   },
   "source": [
    "Pada dataset ini terdapat 32 data dengan class live dan 123 data dengan class die."
   ]
  },
  {
   "block_group": "e55b9898394d4d249f7c79889401bc20",
   "cell_type": "markdown",
   "metadata": {
    "cell_id": "1db814204a6f4371a2bfd35fa7c026b3",
    "deepnote_cell_type": "text-cell-h1",
    "formattedRanges": []
   },
   "source": [
    "# Identifikasi Kualitas Data"
   ]
  },
  {
   "block_group": "2bd4b03f51794b4f90b231114c1267ab",
   "cell_type": "markdown",
   "metadata": {
    "cell_id": "2a312ccff94942578e8f3a205629f8dc",
    "deepnote_cell_type": "text-cell-h2",
    "formattedRanges": []
   },
   "source": [
    "## Pendeteksian Missing Values"
   ]
  },
  {
   "block_group": "ffcd1b390efc44a799223cf7ff46c560",
   "cell_type": "markdown",
   "metadata": {
    "cell_id": "79227800b9754a46b7220c226deb2a86",
    "deepnote_cell_type": "text-cell-p",
    "formattedRanges": []
   },
   "source": [
    "Missing value merupakan data yang hilang pada suatu dataset. Hal ini bisa terjadi oleh beberapa faktor, diantaranya adalah :"
   ]
  },
  {
   "block_group": "836cf4fc8c664a659be282b6e4eb55c4",
   "cell_type": "markdown",
   "metadata": {
    "cell_id": "5745a12c35d048f483323eced592fbaf",
    "deepnote_cell_type": "text-cell-bullet",
    "formattedRanges": []
   },
   "source": [
    "- Interviewer recording error terjadi akibat kelalaian petugas pengumpul data (pewawancara), misalnya ada sejumlah pertanyaan yang terlewatkan"
   ]
  },
  {
   "block_group": "aa79bf3f658f4091acd175ee8d32b7aa",
   "cell_type": "markdown",
   "metadata": {
    "cell_id": "cf4fbfd7302f4faa9cd6d5f03388ed9a",
    "deepnote_cell_type": "text-cell-bullet",
    "formattedRanges": []
   },
   "source": [
    "- Respondent inability error terjadi akibat ketidakmampuan responden dalam memberikan jawaban akurat, misalnya karena tidak memahami pertanyaan, bosan atau kelelahan (respondent fatigue) akhirnya responden mengosongkan sejumlah pertanyaan atau berhenti mengisi kuesioner di tengah jalan."
   ]
  },
  {
   "block_group": "901a177172a04ecb9bd795c78cd3229c",
   "cell_type": "markdown",
   "metadata": {
    "cell_id": "2399b80b4fc6456487f3a061e35355f6",
    "deepnote_cell_type": "text-cell-bullet",
    "formattedRanges": []
   },
   "source": [
    "- Unwillingness respondent error terjadi karena responden tidak berkenan memberikan jawaban yang akurat, misalnya pertanyaan soal penghasilan, usia, berat badan, pengalaman melakukan pelanggaran hukum, dll."
   ]
  },
  {
   "block_group": "6a00db4fd0e24e7cb320b15a7ae1c027",
   "cell_type": "markdown",
   "metadata": {
    "cell_id": "e81b7f8c1536414f96ddf919de508251",
    "deepnote_cell_type": "text-cell-p",
    "formattedRanges": []
   },
   "source": [
    "Cara penanganan Missing Values :"
   ]
  },
  {
   "block_group": "e75117b94add4be0b2d8268d89a35ddc",
   "cell_type": "markdown",
   "metadata": {
    "cell_id": "601b696c04974879addbbb3af7f5afe9",
    "deepnote_cell_type": "text-cell-bullet",
    "formattedRanges": []
   },
   "source": [
    "- Mengabaikan dan membuang missing data"
   ]
  },
  {
   "block_group": "08ae026b0e4e433789df02632d6dd000",
   "cell_type": "markdown",
   "metadata": {
    "cell_id": "898b12e4e51a42d48af353d983b275df",
    "deepnote_cell_type": "text-cell-bullet",
    "formattedRanges": []
   },
   "source": [
    "- Estimasi parameter"
   ]
  },
  {
   "block_group": "48d541dd28104bb19834899d438cb4bb",
   "cell_type": "markdown",
   "metadata": {
    "cell_id": "b49e3ed3f0484180a850518be26a1d07",
    "deepnote_cell_type": "text-cell-bullet",
    "formattedRanges": []
   },
   "source": [
    "- Imputasi"
   ]
  },
  {
   "block_group": "4cb54049da4c4e37910b9709b24d58f1",
   "cell_type": "markdown",
   "metadata": {
    "cell_id": "ad669d4157354ac782d30b11a10324a9",
    "deepnote_cell_type": "text-cell-p",
    "formattedRanges": []
   },
   "source": [
    "Dalam modul kali ini kami akan menangani missing values menggunakan metode imputasi, yang ada 2 metode yaitu menggunakan metode Mean dan menggunakan metode KNN."
   ]
  },
  {
   "block_group": "8e59e775be744f4d9250d011438dc78b",
   "cell_type": "markdown",
   "metadata": {
    "cell_id": "cf1ed4c7fc1e4953b78d4fa5b2cc1fc0",
    "deepnote_cell_type": "text-cell-p",
    "formattedRanges": []
   },
   "source": [
    "Kami lakukan pendeteksian missing values terlebih dahulu pada masing-masing kolom."
   ]
  },
  {
   "block_group": "dec8fd8de9a2420c94a6fc2236c0e113",
   "cell_type": "code",
   "content_dependencies": null,
   "execution_count": 11,
   "metadata": {
    "cell_id": "b001f3b887f741979b382f1bf193c1fe",
    "deepnote_cell_type": "code",
    "deepnote_to_be_reexecuted": false,
    "execution_millis": 250,
    "execution_start": 1719507288222,
    "source_hash": null
   },
   "outputs": [
    {
     "name": "stdout",
     "output_type": "stream",
     "text": [
      "baris Missing Values:\n",
      "     Class  Age  Sex  Steroid  Antivirals  Fatigue  Malaise  Anorexia  \\\n",
      "0        2   30    2      1.0           2      2.0      2.0       2.0   \n",
      "1        2   50    1      1.0           2      1.0      2.0       2.0   \n",
      "2        2   78    1      2.0           2      1.0      2.0       2.0   \n",
      "3        2   31    1      NaN           1      2.0      2.0       2.0   \n",
      "4        2   34    1      2.0           2      2.0      2.0       2.0   \n",
      "..     ...  ...  ...      ...         ...      ...      ...       ...   \n",
      "148      2   20    1      1.0           2      2.0      2.0       2.0   \n",
      "149      2   36    1      2.0           2      2.0      2.0       2.0   \n",
      "150      1   46    1      2.0           2      1.0      1.0       1.0   \n",
      "151      2   44    1      2.0           2      1.0      2.0       2.0   \n",
      "152      2   61    1      1.0           2      1.0      1.0       2.0   \n",
      "\n",
      "     Liver Big  Liver Firm  Spleen Palpable  Spiders  Ascites  Varices  \\\n",
      "0          1.0         2.0              2.0      2.0      2.0      2.0   \n",
      "1          1.0         2.0              2.0      2.0      2.0      2.0   \n",
      "2          2.0         2.0              2.0      2.0      2.0      2.0   \n",
      "3          2.0         2.0              2.0      2.0      2.0      2.0   \n",
      "4          2.0         2.0              2.0      2.0      2.0      2.0   \n",
      "..         ...         ...              ...      ...      ...      ...   \n",
      "148        2.0         NaN              2.0      2.0      2.0      2.0   \n",
      "149        2.0         2.0              2.0      2.0      2.0      2.0   \n",
      "150        2.0         2.0              2.0      1.0      1.0      1.0   \n",
      "151        2.0         1.0              2.0      2.0      2.0      2.0   \n",
      "152        1.0         1.0              2.0      1.0      2.0      2.0   \n",
      "\n",
      "     Bilirubin  Alk Phosphate   Sgot  Albumin  Protime  Histology  \n",
      "0          1.0           85.0   18.0      4.0      NaN          1  \n",
      "1          0.9          135.0   42.0      3.5      NaN          1  \n",
      "2          0.7           96.0   32.0      4.0      NaN          1  \n",
      "3          0.7           46.0   52.0      4.0     80.0          1  \n",
      "4          1.0            NaN  200.0      4.0      NaN          1  \n",
      "..         ...            ...    ...      ...      ...        ...  \n",
      "148        0.9           89.0  152.0      4.0      NaN          2  \n",
      "149        0.6          120.0   30.0      4.0      NaN          2  \n",
      "150        7.6            NaN  242.0      3.3     50.0          2  \n",
      "151        0.9          126.0  142.0      4.3      NaN          2  \n",
      "152        0.8           75.0   20.0      4.1      NaN          2  \n",
      "\n",
      "[75 rows x 20 columns]\n",
      "Jumlah Missing Values:\n",
      "Class               0\n",
      "Age                 0\n",
      "Sex                 0\n",
      "Steroid             1\n",
      "Antivirals          0\n",
      "Fatigue             1\n",
      "Malaise             1\n",
      "Anorexia            1\n",
      "Liver Big          10\n",
      "Liver Firm         11\n",
      "Spleen Palpable     5\n",
      "Spiders             5\n",
      "Ascites             5\n",
      "Varices             5\n",
      "Bilirubin           6\n",
      "Alk Phosphate      29\n",
      "Sgot                4\n",
      "Albumin            16\n",
      "Protime            67\n",
      "Histology           0\n",
      "dtype: int64\n"
     ]
    }
   ],
   "outputs_reference": "s3:deepnote-cell-outputs-production/7206d8ca-837b-41f3-929c-3860cbe98c35",
   "source": [
    "import pandas as pd\n",
    "barisMissing = data[data.isnull().any(axis=1)]\n",
    "print(\"baris Missing Values:\")\n",
    "print(barisMissing)\n",
    "missingValues = data.isnull()\n",
    "totalMissing = missingValues.sum()\n",
    "print(\"Jumlah Missing Values:\")\n",
    "print(totalMissing)"
   ]
  },
  {
   "block_group": "d23a65bafca4406e9749874e4cfeaace",
   "cell_type": "markdown",
   "metadata": {
    "cell_id": "33ef58a83f4946c99fbaa2ce46a5445d",
    "deepnote_cell_type": "text-cell-h1",
    "formattedRanges": []
   },
   "source": [
    "# Prepocessing Data"
   ]
  },
  {
   "block_group": "d49a218f874e441d8c351c8a3ab280a8",
   "cell_type": "markdown",
   "metadata": {
    "cell_id": "04f55cde2f9b474fa78d7642df466938",
    "deepnote_cell_type": "text-cell-h2",
    "formattedRanges": []
   },
   "source": [
    "## Transformasi Data"
   ]
  },
  {
   "block_group": "d83a11509a8b4f09b4d31a74f2714c5a",
   "cell_type": "markdown",
   "metadata": {
    "cell_id": "21351a2da9cc4fd69e4894a14bd33850",
    "deepnote_cell_type": "text-cell-p",
    "formattedRanges": []
   },
   "source": [
    "Dataset diatas sebelumnya nama kelasnya bertipe data kategorikal lalu di transformasi menjadi numerik. Misalnya 2 mereperesentasikan kelas jinak sedangkan 4 merepresentasikan kelas ganas."
   ]
  },
  {
   "block_group": "662551d4c27649acb68685dbfb27bb90",
   "cell_type": "markdown",
   "metadata": {
    "cell_id": "b901c791508046419b8988bf57f0ae93",
    "deepnote_cell_type": "text-cell-p",
    "formattedRanges": []
   },
   "source": [
    "dikarenakan data sudah dalam bentuk transformasi, kami akan merubah data ke dalam bentuk sebelum di transformasi"
   ]
  },
  {
   "block_group": "899b1173ff8047aaa79463f065752345",
   "cell_type": "code",
   "content_dependencies": null,
   "execution_count": 12,
   "metadata": {
    "cell_id": "6a2a6e4fba0e4ff290116079cf27d6bf",
    "deepnote_cell_type": "code",
    "deepnote_to_be_reexecuted": false,
    "execution_millis": 714,
    "execution_start": 1719507288242,
    "source_hash": null
   },
   "outputs": [
    {
     "name": "stdout",
     "output_type": "stream",
     "text": [
      "   Class  Age  Sex  Steroid  Antivirals  Fatigue  Malaise  Anorexia  \\\n",
      "0    die   30    2      1.0           2      2.0      2.0       2.0   \n",
      "1    die   50    1      1.0           2      1.0      2.0       2.0   \n",
      "2    die   78    1      2.0           2      1.0      2.0       2.0   \n",
      "3    die   31    1      NaN           1      2.0      2.0       2.0   \n",
      "4    die   34    1      2.0           2      2.0      2.0       2.0   \n",
      "5    die   34    1      2.0           2      2.0      2.0       2.0   \n",
      "6   live   51    1      1.0           2      1.0      2.0       1.0   \n",
      "7    die   23    1      2.0           2      2.0      2.0       2.0   \n",
      "8    die   39    1      2.0           2      1.0      2.0       2.0   \n",
      "9    die   30    1      2.0           2      2.0      2.0       2.0   \n",
      "10   die   39    1      1.0           1      2.0      2.0       2.0   \n",
      "11   die   32    1      2.0           1      1.0      2.0       2.0   \n",
      "12   die   41    1      2.0           1      1.0      2.0       2.0   \n",
      "13   die   30    1      2.0           2      1.0      2.0       2.0   \n",
      "14   die   47    1      1.0           1      2.0      2.0       2.0   \n",
      "15   die   38    1      1.0           2      1.0      1.0       1.0   \n",
      "16   die   66    1      2.0           2      1.0      2.0       2.0   \n",
      "17   die   40    1      1.0           2      1.0      2.0       2.0   \n",
      "18   die   38    1      2.0           2      2.0      2.0       2.0   \n",
      "19   die   38    1      1.0           1      2.0      2.0       2.0   \n",
      "\n",
      "    Liver Big  Liver Firm  Spleen Palpable  Spiders  Ascites  Varices  \\\n",
      "0         1.0         2.0              2.0      2.0      2.0      2.0   \n",
      "1         1.0         2.0              2.0      2.0      2.0      2.0   \n",
      "2         2.0         2.0              2.0      2.0      2.0      2.0   \n",
      "3         2.0         2.0              2.0      2.0      2.0      2.0   \n",
      "4         2.0         2.0              2.0      2.0      2.0      2.0   \n",
      "5         2.0         2.0              2.0      2.0      2.0      2.0   \n",
      "6         2.0         2.0              1.0      1.0      2.0      2.0   \n",
      "7         2.0         2.0              2.0      2.0      2.0      2.0   \n",
      "8         2.0         1.0              2.0      2.0      2.0      2.0   \n",
      "9         2.0         2.0              2.0      2.0      2.0      2.0   \n",
      "10        1.0         1.0              2.0      2.0      2.0      2.0   \n",
      "11        2.0         1.0              2.0      1.0      2.0      2.0   \n",
      "12        2.0         1.0              2.0      2.0      2.0      2.0   \n",
      "13        2.0         1.0              2.0      2.0      2.0      2.0   \n",
      "14        2.0         2.0              2.0      2.0      2.0      2.0   \n",
      "15        2.0         2.0              2.0      2.0      1.0      2.0   \n",
      "16        2.0         2.0              2.0      2.0      2.0      2.0   \n",
      "17        2.0         1.0              2.0      2.0      2.0      2.0   \n",
      "18        2.0         2.0              2.0      2.0      2.0      2.0   \n",
      "19        1.0         1.0              2.0      2.0      2.0      2.0   \n",
      "\n",
      "    Bilirubin  Alk Phosphate   Sgot  Albumin  Protime  Histology  \n",
      "0         1.0           85.0   18.0      4.0      NaN          1  \n",
      "1         0.9          135.0   42.0      3.5      NaN          1  \n",
      "2         0.7           96.0   32.0      4.0      NaN          1  \n",
      "3         0.7           46.0   52.0      4.0     80.0          1  \n",
      "4         1.0            NaN  200.0      4.0      NaN          1  \n",
      "5         0.9           95.0   28.0      4.0     75.0          1  \n",
      "6         NaN            NaN    NaN      NaN      NaN          1  \n",
      "7         1.0            NaN    NaN      NaN      NaN          1  \n",
      "8         0.7            NaN   48.0      4.4      NaN          1  \n",
      "9         1.0            NaN  120.0      3.9      NaN          1  \n",
      "10        1.3           78.0   30.0      4.4     85.0          1  \n",
      "11        1.0           59.0  249.0      3.7     54.0          1  \n",
      "12        0.9           81.0   60.0      3.9     52.0          1  \n",
      "13        2.2           57.0  144.0      4.9     78.0          1  \n",
      "14        NaN            NaN   60.0      NaN      NaN          1  \n",
      "15        2.0           72.0   89.0      2.9     46.0          1  \n",
      "16        1.2          102.0   53.0      4.3      NaN          1  \n",
      "17        0.6           62.0  166.0      4.0     63.0          1  \n",
      "18        0.7           53.0   42.0      4.1     85.0          2  \n",
      "19        0.7           70.0   28.0      4.2     62.0          1  \n",
      "['die' 'live']\n"
     ]
    }
   ],
   "outputs_reference": "s3:deepnote-cell-outputs-production/619ff5b1-b1ca-47b8-b6e4-efae18044e81",
   "source": [
    "# Ambil dataset\n",
    "hepatitis = fetch_ucirepo(id=46)\n",
    "\n",
    "# Data (sebagai dataframe pandas)\n",
    "dataBefore = hepatitis.data.original\n",
    "\n",
    "# Mengganti label 1 dan 2 menjadi 'Stadium Awal' dan 'Stadium Menengah'\n",
    "dataBefore['Class'] = dataBefore['Class'].replace({1: 'live', 2: 'die'})\n",
    "\n",
    "# Tampilkan 20 baris pertama untuk memeriksa perubahan\n",
    "print(dataBefore.head(20))\n",
    "\n",
    "print(dataBefore['Class'].unique())"
   ]
  },
  {
   "block_group": "997f41a832f84051a179278df9001818",
   "cell_type": "markdown",
   "metadata": {
    "cell_id": "bab9630f910a4a0ea63a3929e16253ea",
    "deepnote_cell_type": "text-cell-p",
    "formattedRanges": []
   },
   "source": [
    "setelah dataset dikembalikan kebentuk sebelum ditransformasi maka berikut adalah cara dalam melakukan transformasi data. data label akan ditransformasi yang sebelumnya “live” dan “d” akan ditransformasi menjadi 1 dan 2. dengan detil yaitu 1 untuk live dan 2 untuk die"
   ]
  },
  {
   "block_group": "aa6bed26a7614a6ab68044b6138b1a75",
   "cell_type": "code",
   "content_dependencies": null,
   "execution_count": 13,
   "metadata": {
    "cell_id": "0ac0baec8e0e4c7d9d1a85ecc8546b83",
    "deepnote_cell_type": "code",
    "deepnote_to_be_reexecuted": false,
    "execution_millis": 394,
    "execution_start": 1719507288968,
    "source_hash": null
   },
   "outputs": [
    {
     "name": "stdout",
     "output_type": "stream",
     "text": [
      "    Class  Age  Sex  Steroid  Antivirals  Fatigue  Malaise  Anorexia  \\\n",
      "0       2   30    2      1.0           2      2.0      2.0       2.0   \n",
      "1       2   50    1      1.0           2      1.0      2.0       2.0   \n",
      "2       2   78    1      2.0           2      1.0      2.0       2.0   \n",
      "3       2   31    1      NaN           1      2.0      2.0       2.0   \n",
      "4       2   34    1      2.0           2      2.0      2.0       2.0   \n",
      "5       2   34    1      2.0           2      2.0      2.0       2.0   \n",
      "6       1   51    1      1.0           2      1.0      2.0       1.0   \n",
      "7       2   23    1      2.0           2      2.0      2.0       2.0   \n",
      "8       2   39    1      2.0           2      1.0      2.0       2.0   \n",
      "9       2   30    1      2.0           2      2.0      2.0       2.0   \n",
      "10      2   39    1      1.0           1      2.0      2.0       2.0   \n",
      "11      2   32    1      2.0           1      1.0      2.0       2.0   \n",
      "12      2   41    1      2.0           1      1.0      2.0       2.0   \n",
      "13      2   30    1      2.0           2      1.0      2.0       2.0   \n",
      "14      2   47    1      1.0           1      2.0      2.0       2.0   \n",
      "15      2   38    1      1.0           2      1.0      1.0       1.0   \n",
      "16      2   66    1      2.0           2      1.0      2.0       2.0   \n",
      "17      2   40    1      1.0           2      1.0      2.0       2.0   \n",
      "18      2   38    1      2.0           2      2.0      2.0       2.0   \n",
      "19      2   38    1      1.0           1      2.0      2.0       2.0   \n",
      "\n",
      "    Liver Big  Liver Firm  Spleen Palpable  Spiders  Ascites  Varices  \\\n",
      "0         1.0         2.0              2.0      2.0      2.0      2.0   \n",
      "1         1.0         2.0              2.0      2.0      2.0      2.0   \n",
      "2         2.0         2.0              2.0      2.0      2.0      2.0   \n",
      "3         2.0         2.0              2.0      2.0      2.0      2.0   \n",
      "4         2.0         2.0              2.0      2.0      2.0      2.0   \n",
      "5         2.0         2.0              2.0      2.0      2.0      2.0   \n",
      "6         2.0         2.0              1.0      1.0      2.0      2.0   \n",
      "7         2.0         2.0              2.0      2.0      2.0      2.0   \n",
      "8         2.0         1.0              2.0      2.0      2.0      2.0   \n",
      "9         2.0         2.0              2.0      2.0      2.0      2.0   \n",
      "10        1.0         1.0              2.0      2.0      2.0      2.0   \n",
      "11        2.0         1.0              2.0      1.0      2.0      2.0   \n",
      "12        2.0         1.0              2.0      2.0      2.0      2.0   \n",
      "13        2.0         1.0              2.0      2.0      2.0      2.0   \n",
      "14        2.0         2.0              2.0      2.0      2.0      2.0   \n",
      "15        2.0         2.0              2.0      2.0      1.0      2.0   \n",
      "16        2.0         2.0              2.0      2.0      2.0      2.0   \n",
      "17        2.0         1.0              2.0      2.0      2.0      2.0   \n",
      "18        2.0         2.0              2.0      2.0      2.0      2.0   \n",
      "19        1.0         1.0              2.0      2.0      2.0      2.0   \n",
      "\n",
      "    Bilirubin  Alk Phosphate   Sgot  Albumin  Protime  Histology  \n",
      "0         1.0           85.0   18.0      4.0      NaN          1  \n",
      "1         0.9          135.0   42.0      3.5      NaN          1  \n",
      "2         0.7           96.0   32.0      4.0      NaN          1  \n",
      "3         0.7           46.0   52.0      4.0     80.0          1  \n",
      "4         1.0            NaN  200.0      4.0      NaN          1  \n",
      "5         0.9           95.0   28.0      4.0     75.0          1  \n",
      "6         NaN            NaN    NaN      NaN      NaN          1  \n",
      "7         1.0            NaN    NaN      NaN      NaN          1  \n",
      "8         0.7            NaN   48.0      4.4      NaN          1  \n",
      "9         1.0            NaN  120.0      3.9      NaN          1  \n",
      "10        1.3           78.0   30.0      4.4     85.0          1  \n",
      "11        1.0           59.0  249.0      3.7     54.0          1  \n",
      "12        0.9           81.0   60.0      3.9     52.0          1  \n",
      "13        2.2           57.0  144.0      4.9     78.0          1  \n",
      "14        NaN            NaN   60.0      NaN      NaN          1  \n",
      "15        2.0           72.0   89.0      2.9     46.0          1  \n",
      "16        1.2          102.0   53.0      4.3      NaN          1  \n",
      "17        0.6           62.0  166.0      4.0     63.0          1  \n",
      "18        0.7           53.0   42.0      4.1     85.0          2  \n",
      "19        0.7           70.0   28.0      4.2     62.0          1  \n"
     ]
    }
   ],
   "outputs_reference": "s3:deepnote-cell-outputs-production/f7395418-a927-40a8-bdf2-5b4bbb02d8d6",
   "source": [
    "dataBefore['Class'] = dataBefore['Class'].replace({'live':1 , 'die':2})\n",
    "\n",
    "# Tampilkan 5 baris pertama\n",
    "print(dataBefore.head(20))"
   ]
  },
  {
   "block_group": "05a3b9826aff41558835f2756e06eb99",
   "cell_type": "markdown",
   "metadata": {
    "cell_id": "736bc5b8a4f1413789addfb1d5a4d147",
    "deepnote_cell_type": "text-cell-h2",
    "formattedRanges": []
   },
   "source": [
    "## Imputasi"
   ]
  },
  {
   "block_group": "790195ae32944a07bcdaa52fe497184d",
   "cell_type": "markdown",
   "metadata": {
    "cell_id": "abe0a59e0dcb44458cb6a7d533039860",
    "deepnote_cell_type": "text-cell-h3",
    "formattedRanges": []
   },
   "source": [
    "### Imputasi Missing Values Mean"
   ]
  },
  {
   "block_group": "86772f5e04f546419e2adcad22903a41",
   "cell_type": "markdown",
   "metadata": {
    "cell_id": "009637ffc16847078edeae275ca86196",
    "deepnote_cell_type": "text-cell-p",
    "formattedRanges": []
   },
   "source": [
    "setelah missing value terdeteksi, kita perlu untuk mengisi data yang kosong dengan data yang pas agar data dapat digunakan,ada banyak cara untuk mengisi missing value antara lain yaitu dengan menggunkan metode mean,pada tahap ini kita akan melakukan imputasi dengan metode mean."
   ]
  },
  {
   "block_group": "009b333b102a49c4b1af28b1ab170083",
   "cell_type": "markdown",
   "metadata": {
    "cell_id": "e1fa72dc9f9b437cb7b197f560c18976",
    "deepnote_cell_type": "text-cell-p",
    "formattedRanges": []
   },
   "source": [
    "Untuk langkah-langkah nya sebagai berikut:"
   ]
  },
  {
   "block_group": "a9fd98f75e82469a93fce60792380208",
   "cell_type": "markdown",
   "metadata": {
    "cell_id": "7938621ff49547c19c281aeec136c224",
    "deepnote_cell_type": "text-cell-bullet",
    "formattedRanges": []
   },
   "source": [
    "- hitung rata rata setiap kolom pada ‘data’ lalu simpan hasilnya di suatu variable disini saya mendefinisikan ‘mean_values’"
   ]
  },
  {
   "block_group": "48143c90f96c493b89f2c0cef7e6ec1c",
   "cell_type": "markdown",
   "metadata": {
    "cell_id": "627160c4608644bf877039f70997e9cf",
    "deepnote_cell_type": "text-cell-bullet",
    "formattedRanges": []
   },
   "source": [
    "- gunakan metode dari pandas untuk mengisikan / mengantikan value yang kosong / hilang pada dataFrame. (saya disini untuk mengisi value yang kosong dengan menjumlahkan rata-rata dari setiap kolom."
   ]
  },
  {
   "block_group": "be2bc5592b7545518353662757ecb2eb",
   "cell_type": "code",
   "content_dependencies": null,
   "execution_count": 14,
   "metadata": {
    "cell_id": "0e8fe8657e974a29b05b69623d92a463",
    "deepnote_cell_type": "code",
    "deepnote_to_be_reexecuted": false,
    "execution_millis": 376,
    "execution_start": 1719507288986,
    "source_hash": null
   },
   "outputs": [
    {
     "name": "stdout",
     "output_type": "stream",
     "text": [
      "ini hasil perhitungan mean menggunakan (fillna)\n",
      "Class                1.793548\n",
      "Age                 41.200000\n",
      "Sex                  1.103226\n",
      "Steroid              1.506494\n",
      "Antivirals           1.845161\n",
      "Fatigue              1.350649\n",
      "Malaise              1.603896\n",
      "Anorexia             1.792208\n",
      "Liver Big            1.827586\n",
      "Liver Firm           1.583333\n",
      "Spleen Palpable      1.800000\n",
      "Spiders              1.660000\n",
      "Ascites              1.866667\n",
      "Varices              1.880000\n",
      "Bilirubin            1.427517\n",
      "Alk Phosphate      105.325397\n",
      "Sgot                85.894040\n",
      "Albumin              3.817266\n",
      "Protime             61.852273\n",
      "Histology            1.451613\n",
      "dtype: float64\n",
      "\n",
      "input tiap klom missng dengan mean\n",
      "jika output false berarti sudah tidak ada missing value\n",
      "     Class    Age    Sex  Steroid  Antivirals  Fatigue  Malaise  Anorexia  \\\n",
      "0    False  False  False    False       False    False    False     False   \n",
      "1    False  False  False    False       False    False    False     False   \n",
      "2    False  False  False    False       False    False    False     False   \n",
      "3    False  False  False    False       False    False    False     False   \n",
      "4    False  False  False    False       False    False    False     False   \n",
      "..     ...    ...    ...      ...         ...      ...      ...       ...   \n",
      "150  False  False  False    False       False    False    False     False   \n",
      "151  False  False  False    False       False    False    False     False   \n",
      "152  False  False  False    False       False    False    False     False   \n",
      "153  False  False  False    False       False    False    False     False   \n",
      "154  False  False  False    False       False    False    False     False   \n",
      "\n",
      "     Liver Big  Liver Firm  Spleen Palpable  Spiders  Ascites  Varices  \\\n",
      "0        False       False            False    False    False    False   \n",
      "1        False       False            False    False    False    False   \n",
      "2        False       False            False    False    False    False   \n",
      "3        False       False            False    False    False    False   \n",
      "4        False       False            False    False    False    False   \n",
      "..         ...         ...              ...      ...      ...      ...   \n",
      "150      False       False            False    False    False    False   \n",
      "151      False       False            False    False    False    False   \n",
      "152      False       False            False    False    False    False   \n",
      "153      False       False            False    False    False    False   \n",
      "154      False       False            False    False    False    False   \n",
      "\n",
      "     Bilirubin  Alk Phosphate   Sgot  Albumin  Protime  Histology  \n",
      "0        False          False  False    False    False      False  \n",
      "1        False          False  False    False    False      False  \n",
      "2        False          False  False    False    False      False  \n",
      "3        False          False  False    False    False      False  \n",
      "4        False          False  False    False    False      False  \n",
      "..         ...            ...    ...      ...      ...        ...  \n",
      "150      False          False  False    False    False      False  \n",
      "151      False          False  False    False    False      False  \n",
      "152      False          False  False    False    False      False  \n",
      "153      False          False  False    False    False      False  \n",
      "154      False          False  False    False    False      False  \n",
      "\n",
      "[155 rows x 20 columns]\n",
      "\n",
      "\n",
      "melihat secara tiap karakter\n",
      "Class              False\n",
      "Age                False\n",
      "Sex                False\n",
      "Steroid            False\n",
      "Antivirals         False\n",
      "Fatigue            False\n",
      "Malaise            False\n",
      "Anorexia           False\n",
      "Liver Big          False\n",
      "Liver Firm         False\n",
      "Spleen Palpable    False\n",
      "Spiders            False\n",
      "Ascites            False\n",
      "Varices            False\n",
      "Bilirubin          False\n",
      "Alk Phosphate      False\n",
      "Sgot               False\n",
      "Albumin            False\n",
      "Protime            False\n",
      "Histology          False\n",
      "dtype: bool\n",
      "\n",
      "\n",
      "Jumlah Missing Values:\n",
      "Class              0\n",
      "Age                0\n",
      "Sex                0\n",
      "Steroid            0\n",
      "Antivirals         0\n",
      "Fatigue            0\n",
      "Malaise            0\n",
      "Anorexia           0\n",
      "Liver Big          0\n",
      "Liver Firm         0\n",
      "Spleen Palpable    0\n",
      "Spiders            0\n",
      "Ascites            0\n",
      "Varices            0\n",
      "Bilirubin          0\n",
      "Alk Phosphate      0\n",
      "Sgot               0\n",
      "Albumin            0\n",
      "Protime            0\n",
      "Histology          0\n",
      "dtype: int64\n"
     ]
    }
   ],
   "outputs_reference": "s3:deepnote-cell-outputs-production/456e375a-dae5-4139-8b93-71766a56d32c",
   "source": [
    "meanValues = data.mean()\n",
    "dataFilled = data.fillna(meanValues)\n",
    "print(\"ini hasil perhitungan mean menggunakan (fillna)\")\n",
    "print(meanValues)\n",
    "print(\"\")\n",
    "print(\"input tiap klom missng dengan mean\")\n",
    "print(\"jika output false berarti sudah tidak ada missing value\")\n",
    "print(dataFilled.isnull())\n",
    "print(\"\")\n",
    "print(\"\")\n",
    "print(\"melihat secara tiap karakter\")\n",
    "print(dataFilled.isnull().any())\n",
    "print(\"\")\n",
    "print(\"\")\n",
    "missingValues = dataFilled.isnull()\n",
    "totalMissing = missingValues.sum()\n",
    "print(\"Jumlah Missing Values:\")\n",
    "print(totalMissing)\n"
   ]
  },
  {
   "block_group": "8ed70ca790d948bc870c451b82894b71",
   "cell_type": "markdown",
   "metadata": {
    "cell_id": "726f22c2535a48fc967fe80b5752694c",
    "deepnote_cell_type": "text-cell-p",
    "formattedRanges": []
   },
   "source": [
    "simpan ke dalam format CSV:"
   ]
  },
  {
   "block_group": "2811d08878f548a5a08ead18174852b7",
   "cell_type": "code",
   "content_dependencies": null,
   "execution_count": 15,
   "metadata": {
    "cell_id": "b35af857b4ae4ad5b91814ca76d4712a",
    "deepnote_cell_type": "code",
    "deepnote_to_be_reexecuted": false,
    "execution_millis": 355,
    "execution_start": 1719507289008,
    "source_hash": null
   },
   "outputs": [],
   "outputs_reference": null,
   "source": [
    "dataFilled.to_csv(\"hepatitis_mean.csv\", index=True)"
   ]
  },
  {
   "block_group": "67c9333ff5e24f00a951ce533c6dc823",
   "cell_type": "markdown",
   "metadata": {
    "cell_id": "d00a79a29a244ce8b2b359d0161b6598",
    "deepnote_cell_type": "text-cell-h3",
    "formattedRanges": []
   },
   "source": [
    "### Imputasi Missing Values KNN"
   ]
  },
  {
   "block_group": "11e1c0f7704f461faf408627e5f981c9",
   "cell_type": "markdown",
   "metadata": {
    "cell_id": "d2908b9bc95f42c9a3a1041f0716881d",
    "deepnote_cell_type": "text-cell-p",
    "formattedRanges": []
   },
   "source": [
    "Pada tahapan ini kami akan melakukan imputasi missing value dengan metode KNN dengan perhitungan jarak menggunakan rumus euclidien distance."
   ]
  },
  {
   "block_group": "c3c06aef6f884047aa3951d01fcae60f",
   "cell_type": "markdown",
   "metadata": {
    "cell_id": "a6ab9529ebf84069883674de5de311e7",
    "deepnote_cell_type": "text-cell-p",
    "formattedRanges": []
   },
   "source": [
    "Langkah-langkah KNN :"
   ]
  },
  {
   "block_group": "3fbcf7d94fae4896b6e4d470f13d7d82",
   "cell_type": "markdown",
   "metadata": {
    "cell_id": "2629df754713469a833bcab0df09bb19",
    "deepnote_cell_type": "text-cell-p",
    "formattedRanges": []
   },
   "source": [
    "1. Tentukan jumlah tetangga (K) yang akan digunakan untuk pertimbangan penentuan kelas (metode cross validation)."
   ]
  },
  {
   "block_group": "e0bb97e603fc4bf994fb6c31543fbe29",
   "cell_type": "markdown",
   "metadata": {
    "cell_id": "c9607f25e8524fa8938bfb0281bd0472",
    "deepnote_cell_type": "text-cell-p",
    "formattedRanges": []
   },
   "source": [
    "2. Hitung jarak dari data baru ke masing-masing data point di dataset (eulidien distance)."
   ]
  },
  {
   "block_group": "7f1c498223404cff8bbe7a44adbd3a98",
   "cell_type": "markdown",
   "metadata": {
    "cell_id": "3b7c3f5dd8024da6b1cd1015bf35e363",
    "deepnote_cell_type": "text-cell-p",
    "formattedRanges": []
   },
   "source": [
    "3. Ambil tetangga terdekat menurut K, kemudian hitung rata-ratanya"
   ]
  },
  {
   "block_group": "1f1c8cf7ea0241e2ab50d55c8bf2b9d5",
   "cell_type": "markdown",
   "metadata": {
    "cell_id": "6d7659bed1c1473b94a355293b51bedf",
    "deepnote_cell_type": "text-cell-p",
    "formattedRanges": []
   },
   "source": [
    "Sedangkan untuk mencari nilai K terbaik kami menggunakan Cross validation"
   ]
  },
  {
   "block_group": "488a8dd8aa8e4e2580144be4a5dc480d",
   "cell_type": "markdown",
   "metadata": {
    "cell_id": "53818f0297094e73835722ab776abfb5",
    "deepnote_cell_type": "text-cell-p",
    "formattedRanges": []
   },
   "source": [
    "K-Fold Cross Validation atau lebih sering disebut cross validation adalah salah satu teknik yang populer dipakai dalam evaluasi model ML. Pada cross validation dataset dibagi sebanyak K lipatan. Pada setiap iterasi setiap lipatan akan dipakai satu kali sebagai data uji dan lipatan sisanya dipakai sebagai data latih. Dengan menggunakan cross validation kita akan memperoleh hasil evaluasi yang lebih akurat karena model dievaluasi dengan seluruh data."
   ]
  },
  {
   "block_group": "000984962d55467693aec0f2c897b915",
   "cell_type": "code",
   "content_dependencies": null,
   "execution_count": 16,
   "metadata": {
    "cell_id": "654581275b4244a4bb06e73223a42804",
    "deepnote_cell_type": "code",
    "deepnote_to_be_reexecuted": false,
    "execution_millis": 1152,
    "execution_start": 1719507289306,
    "source_hash": null
   },
   "outputs": [
    {
     "name": "stdout",
     "output_type": "stream",
     "text": [
      "Dimensi data tanpa nilai yang hilang: (80, 21)\n",
      "Nilai K yang akan diuji = [1, 3, 5, 7, 9, 11, 13, 15, 17, 19, 21, 23, 25, 27, 29, 31, 33, 35, 37, 39, 41, 43, 45, 47, 49]\n"
     ]
    },
    {
     "data": {
      "image/png": "[encoded data removed]",
      "text/plain": [
       "<Figure size 1500x1000 with 1 Axes>"
      ]
     },
     "metadata": {},
     "output_type": "display_data"
    },
    {
     "name": "stdout",
     "output_type": "stream",
     "text": [
      "The optimal number of neighbors is 13.\n"
     ]
    }
   ],
   "outputs_reference": "s3:deepnote-cell-outputs-production/be2354c5-e2a1-42ed-b1bc-23412038336f",
   "source": [
    "import pandas as pd\n",
    "from sklearn.neighbors import KNeighborsClassifier\n",
    "from sklearn.metrics import accuracy_score\n",
    "from sklearn.model_selection import cross_val_score, train_test_split\n",
    "from sklearn.preprocessing import LabelEncoder, StandardScaler\n",
    "import matplotlib.pyplot as plt\n",
    "import seaborn as sns\n",
    "%matplotlib inline\n",
    "\n",
    "# Membaca dataset hepatitis\n",
    "df = pd.read_csv('hepatitis.csv')\n",
    "\n",
    "# Mengambil semua data yang tidak memiliki nilai yang hilang\n",
    "data_clean = df.dropna()\n",
    "\n",
    "# Cetak informasi mengenai dimensi data yang tidak memiliki nilai yang hilang\n",
    "print(\"Dimensi data tanpa nilai yang hilang:\", data_clean.shape)\n",
    "\n",
    "# Memisahkan fitur dan label\n",
    "feature_columns = ['Age', 'Sex', 'Steroid', 'Antivirals', 'Fatigue', 'Malaise',\n",
    "                   'Anorexia', 'Liver Big', 'Liver Firm', 'Spleen Palpable', 'Spiders',\n",
    "                   'Ascites', 'Varices', 'Bilirubin', 'Alk Phosphate', 'Sgot', 'Albumin',\n",
    "                   'Protime', 'Histology']\n",
    "X = data_clean[feature_columns].values\n",
    "y = data_clean['Class'].values\n",
    "\n",
    "# Mengubah label menjadi numerik\n",
    "le = LabelEncoder()\n",
    "y = le.fit_transform(y)\n",
    "\n",
    "# Membagi data menjadi data latih dan data uji\n",
    "X_train, X_test, y_train, y_test = train_test_split(X, y, test_size=0.2, random_state=0)\n",
    "\n",
    "# Standarisasi fitur\n",
    "scaler = StandardScaler()\n",
    "X_train = scaler.fit_transform(X_train)\n",
    "X_test = scaler.transform(X_test)\n",
    "\n",
    "# Membuat list k untuk KNN\n",
    "k_list = list(range(1, 50, 2))\n",
    "print(f\"Nilai K yang akan diuji = {k_list}\")\n",
    "cv_scores = []\n",
    "\n",
    "# Melakukan 10-fold cross validation\n",
    "for k in k_list:\n",
    "    knn = KNeighborsClassifier(n_neighbors=k)\n",
    "    scores = cross_val_score(knn, X_train, y_train, cv=10, scoring='accuracy')\n",
    "    cv_scores.append(scores.mean())\n",
    "\n",
    "# Menghitung MSE\n",
    "MSE = [1 - x for x in cv_scores]\n",
    "\n",
    "plt.figure(figsize=(15, 10))\n",
    "plt.title('The optimal number of neighbors', fontsize=20, fontweight='bold')\n",
    "plt.xlabel('Number of Neighbors K', fontsize=15)\n",
    "plt.ylabel('Misclassification Error', fontsize=15)\n",
    "sns.set_style(\"whitegrid\")\n",
    "plt.plot(k_list, MSE)\n",
    "plt.show()\n",
    "\n",
    "# Menemukan nilai k terbaik\n",
    "best_k = k_list[MSE.index(min(MSE))]\n",
    "print(\"The optimal number of neighbors is %d.\" % best_k)\n"
   ]
  },
  {
   "block_group": "a6ebb68ab5c3407fb1d8218a44ef912c",
   "cell_type": "markdown",
   "metadata": {
    "cell_id": "2aed0d2601c4410bbe1a9a21cc1656e5",
    "deepnote_cell_type": "text-cell-p",
    "formattedRanges": []
   },
   "source": [
    "Setelah didapati jumlah K terbaik, maka kita coba cek akurasinya"
   ]
  },
  {
   "block_group": "cb3e338771ad494c9193b0ddf940a2d0",
   "cell_type": "code",
   "content_dependencies": null,
   "execution_count": 17,
   "metadata": {
    "cell_id": "24d1744a1c7846369a3cf8b38ddef784",
    "deepnote_cell_type": "code",
    "deepnote_to_be_reexecuted": false,
    "execution_millis": 366,
    "execution_start": 1719507290465,
    "source_hash": null
   },
   "outputs": [
    {
     "name": "stdout",
     "output_type": "stream",
     "text": [
      "Accuracy of our model is equal 93.75 %.\n"
     ]
    }
   ],
   "outputs_reference": "dbtable:cell_outputs/1d105682-f3a0-4711-88ef-5fdbc32280f2",
   "source": [
    "classifier = KNeighborsClassifier(n_neighbors=best_k) #best_K adalah 13\n",
    "\n",
    "# Melatih model\n",
    "classifier.fit(X_train, y_train)\n",
    "\n",
    "# Memprediksi data uji\n",
    "y_pred = classifier.predict(X_test)\n",
    "\n",
    "# Menghitung akurasi\n",
    "accuracy = accuracy_score(y_test, y_pred) * 100\n",
    "print('Accuracy of our model is equal ' + str(round(accuracy, 2)) + ' %.')"
   ]
  },
  {
   "block_group": "58e8b7f12d7e4b028028f2a965fc0fff",
   "cell_type": "markdown",
   "metadata": {
    "cell_id": "db9e39d4561145759ee593f773cf17a5",
    "deepnote_cell_type": "text-cell-p",
    "formattedRanges": []
   },
   "source": [
    "setelah didapati akurasi model apabila K berjumlah13 mendapat hasil 93.75%. maka model tersebut dikatakan baik karena berada di atas 85%. langkah selanjutnya adalah melakukan imputasi dengan KNN"
   ]
  },
  {
   "block_group": "c81a9152d83049c48830b15f963b4c76",
   "cell_type": "code",
   "content_dependencies": null,
   "execution_count": 18,
   "metadata": {
    "cell_id": "2ef3ec5d529b4daca8317d33cc72cf66",
    "deepnote_cell_type": "code",
    "deepnote_to_be_reexecuted": false,
    "execution_millis": 354,
    "execution_start": 1719507290477,
    "source_hash": null
   },
   "outputs": [
    {
     "name": "stdout",
     "output_type": "stream",
     "text": [
      "             ---------------------------Missing Value Counts---------------------------             \n",
      "Unnamed: 0         0\n",
      "Class              0\n",
      "Age                0\n",
      "Sex                0\n",
      "Steroid            0\n",
      "Antivirals         0\n",
      "Fatigue            0\n",
      "Malaise            0\n",
      "Anorexia           0\n",
      "Liver Big          0\n",
      "Liver Firm         0\n",
      "Spleen Palpable    0\n",
      "Spiders            0\n",
      "Ascites            0\n",
      "Varices            0\n",
      "Bilirubin          0\n",
      "Alk Phosphate      0\n",
      "Sgot               0\n",
      "Albumin            0\n",
      "Protime            0\n",
      "Histology          0\n",
      "dtype: int64\n",
      "\n",
      "---------------------------Hasil data yang sudah diimputasi---------------------------\n",
      "    Unnamed: 0  Class   Age  Sex  Steroid  Antivirals  Fatigue  Malaise  \\\n",
      "23        23.0    2.0  42.0  1.0      2.0         2.0      2.0      2.0   \n",
      "40        40.0    2.0  52.0  1.0      1.0         1.0      2.0      2.0   \n",
      "43        43.0    2.0  56.0  1.0      1.0         2.0      1.0      2.0   \n",
      "44        44.0    2.0  34.0  1.0      2.0         2.0      2.0      2.0   \n",
      "48        48.0    2.0  36.0  1.0      1.0         2.0      2.0      2.0   \n",
      "66        66.0    2.0  56.0  1.0      1.0         2.0      2.0      2.0   \n",
      "87        87.0    1.0  30.0  1.0      2.0         2.0      1.0      1.0   \n",
      "\n",
      "    Anorexia  Liver Big  ...  Spleen Palpable  Spiders  Ascites  Varices  \\\n",
      "23       2.0        2.0  ...              2.0      2.0      2.0      2.0   \n",
      "40       2.0        2.0  ...              2.0      2.0      2.0      2.0   \n",
      "43       2.0        2.0  ...              2.0      2.0      2.0      2.0   \n",
      "44       2.0        2.0  ...              2.0      2.0      2.0      2.0   \n",
      "48       2.0        2.0  ...              1.0      2.0      2.0      2.0   \n",
      "66       2.0        2.0  ...              2.0      2.0      2.0      2.0   \n",
      "87       1.0        2.0  ...              2.0      1.0      1.0      1.0   \n",
      "\n",
      "    Bilirubin  Alk Phosphate  Sgot   Albumin     Protime  Histology  \n",
      "23   0.900000      60.000000  63.0  4.700000   47.000000        1.0  \n",
      "40   0.700000      75.000000  55.0  4.000000   21.000000        1.0  \n",
      "43   0.700000      71.000000  18.0  4.400000  100.000000        1.0  \n",
      "44   1.133333     105.333333  86.0  4.122222   60.666667        1.0  \n",
      "48   0.800000      85.000000  44.0  4.200000   85.000000        1.0  \n",
      "66   0.700000      62.000000  33.0  3.000000   72.555556        1.0  \n",
      "87   2.500000     165.000000  64.0  2.800000   54.000000        2.0  \n",
      "\n",
      "[7 rows x 21 columns]\n"
     ]
    }
   ],
   "outputs_reference": "s3:deepnote-cell-outputs-production/da88481e-358b-49e1-99e5-bb281ecb067c",
   "source": [
    "import pandas as pd\n",
    "import numpy as np\n",
    "from sklearn.impute import KNNImputer\n",
    "from sklearn.preprocessing import MinMaxScaler\n",
    "from sklearn.impute import KNNImputer\n",
    "\n",
    "df = pd.read_csv('hepatitis.csv')\n",
    "\n",
    "# Inisialisasi KNNImputer\n",
    "imputer = KNNImputer(n_neighbors=9, metric='nan_euclidean') \n",
    "\n",
    "# Lakukan imputasi pada data yang memiliki nilai yang hilang\n",
    "data_imputed = imputer.fit_transform(df)\n",
    "\n",
    "# Konversi hasil imputasi menjadi DataFrame\n",
    "data_imputed_df = pd.DataFrame(data_imputed, columns=df.columns)\n",
    "\n",
    "# Detect missing values\n",
    "missing_values = data_imputed_df.isnull()\n",
    "\n",
    "# Count missing values in each column\n",
    "missing_counts = missing_values.sum()\n",
    "\n",
    "# Display missing value counts\n",
    "print(\"---------------------------Missing Value Counts---------------------------\".center(100))\n",
    "print(missing_counts)\n",
    "\n",
    "print()\n",
    "print(\"---------------------------Hasil data yang sudah diimputasi---------------------------\")\n",
    "# List dari indeks yang ingin ditampilkan\n",
    "indeks_tampilkan = [23, 40, 43, 44, 48, 66, 87]\n",
    "\n",
    "# Tampilkan data pada indeks yang diberikan\n",
    "data_tampil = data_imputed_df.iloc[indeks_tampilkan]\n",
    "print(data_tampil)"
   ]
  },
  {
   "block_group": "5a377574bbee4c558d10b9705b1b0d8d",
   "cell_type": "code",
   "content_dependencies": null,
   "execution_count": 19,
   "metadata": {
    "cell_id": "0c926d8bb6a54c3ba8e816ed8921b95b",
    "deepnote_cell_type": "code",
    "deepnote_to_be_reexecuted": false,
    "execution_millis": 233,
    "execution_start": 1719507290615,
    "source_hash": null
   },
   "outputs": [],
   "outputs_reference": null,
   "source": [
    "# menyimpan hasil komputasi ke dalam csv\n",
    "data_imputed_df.to_csv(\"hepatitis_knn.csv\", index=True)"
   ]
  },
  {
   "block_group": "94a9a1234da44de99d878750fffb43c5",
   "cell_type": "markdown",
   "metadata": {
    "cell_id": "606ec2e61d5b4cbab328ba73afad14bc",
    "deepnote_cell_type": "text-cell-h3",
    "formattedRanges": []
   },
   "source": [
    "### Pendeteksian Outlier"
   ]
  },
  {
   "block_group": "f5ec227605294303806bd6fac33bac7d",
   "cell_type": "markdown",
   "metadata": {
    "cell_id": "515611e0130b4331b42eff03ba910f5c",
    "deepnote_cell_type": "text-cell-p",
    "formattedRanges": []
   },
   "source": [
    "Outlier/pencilan merupakan data pada dataset yang menyimpang dari data lainnya,mendeteksi outlier perlu agar data yang kita olah memberikan hasil yang baik pada model yang akan kita buat nantinya.outlier dapat diidentifikasi dan ditangani dengan beberapa cara antara lain yang akan kami gunakan yaitu LOF(Local Outlier Factor)."
   ]
  },
  {
   "block_group": "d957f951877b4a27afc5d42ab43ff584",
   "cell_type": "markdown",
   "metadata": {
    "cell_id": "3c485e3eedf64df6ae4cd5f9629865b8",
    "deepnote_cell_type": "text-cell-p",
    "formattedRanges": [
     {
      "fromCodePoint": 0,
      "marks": {
       "bold": true
      },
      "toCodePoint": 27,
      "type": "marks"
     }
    ]
   },
   "source": [
    "Konsep Local Outlier Factor"
   ]
  },
  {
   "block_group": "acc2cf53e5cb4f22a2de1e4d11374849",
   "cell_type": "markdown",
   "metadata": {
    "cell_id": "c255e65fd7804a438675fe0830fb6390",
    "deepnote_cell_type": "text-cell-p",
    "formattedRanges": []
   },
   "source": [
    "Outlier adalah titik data yang berbeda atau jauh dari titik data lainnya. Local Outlier Factor (LOF) adalah algoritma yang mengidentifikasi outlier yang ada dalam kumpulan data. Ketika suatu titik dianggap sebagai outlier berdasarkan lingkungan lokalnya, maka titik tersebut disebut local outlier . LOF akan mengidentifikasi outlier dengan mempertimbangkan kepadatan lingkungan. LOF bekerja dengan baik ketika kepadatan data tidak sama di seluruh kumpulan data."
   ]
  },
  {
   "block_group": "556e4b5127524494a62e5152f7a8248a",
   "cell_type": "markdown",
   "metadata": {
    "cell_id": "9ff7e88e7801459a9794d8ffecbe8caf",
    "deepnote_cell_type": "text-cell-p",
    "formattedRanges": []
   },
   "source": [
    "Untuk memahami LOF, kita harus mempelajari beberapa konsep secara berurutan:"
   ]
  },
  {
   "block_group": "e4f19c2b07934bc2a823a30d3c8a8c4f",
   "cell_type": "markdown",
   "metadata": {
    "cell_id": "44a8bcf7ac4e480699e0192ac7046f60",
    "deepnote_cell_type": "text-cell-bullet",
    "formattedRanges": []
   },
   "source": [
    "- K-distance dan K-neighbors"
   ]
  },
  {
   "block_group": "f4306934a3124788b134dcf10e7c93a8",
   "cell_type": "markdown",
   "metadata": {
    "cell_id": "964d9e08375446bab11a3b4cc77a7919",
    "deepnote_cell_type": "text-cell-bullet",
    "formattedRanges": []
   },
   "source": [
    "- Reachability Distance (RD)"
   ]
  },
  {
   "block_group": "bc063dbf8f1f4ece97350071ede5d947",
   "cell_type": "markdown",
   "metadata": {
    "cell_id": "64019252b69b48a9b503e70104426381",
    "deepnote_cell_type": "text-cell-bullet",
    "formattedRanges": []
   },
   "source": [
    "- Local Reachability Density (LRD)"
   ]
  },
  {
   "block_group": "a6b908f52c164cb3b1c969a7004cb44f",
   "cell_type": "markdown",
   "metadata": {
    "cell_id": "30f5354beb7b48c4afe52b44000f2c60",
    "deepnote_cell_type": "text-cell-bullet",
    "formattedRanges": []
   },
   "source": [
    "- Local Outlier Factor (LOF)"
   ]
  },
  {
   "block_group": "822917f8f62a4c80b5bbad67638f734e",
   "cell_type": "markdown",
   "metadata": {
    "cell_id": "270da6060d18429caf7df2fd4f2d35b7",
    "deepnote_cell_type": "text-cell-p",
    "formattedRanges": []
   },
   "source": [
    "K-distance dan K-neighbors"
   ]
  },
  {
   "block_group": "6d2b31f07b9a4427a3de662c83725ca3",
   "cell_type": "markdown",
   "metadata": {
    "cell_id": "7d5db9d2088b41549dd8b0661375278a",
    "deepnote_cell_type": "text-cell-p",
    "formattedRanges": []
   },
   "source": [
    "K-distance adalah jarak antara suatu titik, dan merupakan tetangga terdekat Kᵗʰ. Tetangga K yang dilambangkan dengan Nₖ(A) mencakup himpunan titik yang terletak di dalam atau pada lingkaran berjari-jari jarak K. K-tetangga bisa lebih dari atau sama dengan nilai K. Kita akan melihat contohnya. Katakanlah kita mempunyai empat titik A, B, C, dan D. Jika K=2, K-tetangga A adalah C, B, dan D. Di sini, nilai K=2 tetapi ||N₂(A)|| = 3. Oleh karena itu, ||Nₖ(titik)|| akan selalu lebih besar atau sama dengan K."
   ]
  },
  {
   "block_group": "859ae64bfeab412faa492b66f3af5a83",
   "cell_type": "markdown",
   "metadata": {
    "cell_id": "f6db84da917f41cba10a570c1652b0cb",
    "deepnote_cell_type": "text-cell-p",
    "formattedRanges": []
   },
   "source": [
    "Reachability distance (RD)"
   ]
  },
  {
   "block_group": "2591f698cdb6404ea8ed56dc39349880",
   "cell_type": "markdown",
   "metadata": {
    "cell_id": "837d0d80681046fa85fa4326ccbe24af",
    "deepnote_cell_type": "text-cell-p",
    "formattedRanges": []
   },
   "source": [
    "Ini didefinisikan sebagai jarak K maksimum Xj dan jarak antara Xi dan Xj. Ukuran jarak bersifat khusus untuk masalah (Euclidean, Manhattan, dll.) Dalam istilah awam, jika titik Xi terletak di dalam K-tetangga Xj, maka jarak jangkauannya adalah K-jarak Xj (garis biru), jika tidak, jarak jangkauannya adalah jarak antara Xi dan Xj (garis oranye)."
   ]
  },
  {
   "block_group": "6098187726d64098b2a81d86cdec49ae",
   "cell_type": "markdown",
   "metadata": {
    "cell_id": "187fc9ed5a4143318132f5dbe42fb5c5",
    "deepnote_cell_type": "text-cell-p",
    "formattedRanges": []
   },
   "source": [
    "Local reachability density (LRD)"
   ]
  },
  {
   "block_group": "462ec991051d4c32844b037dd418604f",
   "cell_type": "markdown",
   "metadata": {
    "cell_id": "384ecc0d70aa4c2e8cec47a084241721",
    "deepnote_cell_type": "text-cell-p",
    "formattedRanges": []
   },
   "source": [
    "LRD merupakan kebalikan dari rata-rata jarak jangkauan A dari tetangganya. Semakin besar jarak jangkauan rata-rata (yaitu, tetangga jauh dari titik tersebut), semakin sedikit kepadatan titik yang ada di sekitar titik tertentu. Ini menunjukkan seberapa jauh suatu titik dari kelompok titik terdekat. Nilai LRD yang rendah menunjukkan bahwa cluster terdekat berada jauh dari titik."
   ]
  },
  {
   "block_group": "01a7d68defe74b0185325c50d877867c",
   "cell_type": "markdown",
   "metadata": {
    "cell_id": "ebd02bec411744d08a2d7cb16ce18356",
    "deepnote_cell_type": "text-cell-p",
    "formattedRanges": []
   },
   "source": [
    "Local Outlier Factor (LOF)"
   ]
  },
  {
   "block_group": "7a039f3fd31b40b6a1e93799cad5c466",
   "cell_type": "markdown",
   "metadata": {
    "cell_id": "909b0533837e45feb08808784be6e942",
    "deepnote_cell_type": "text-cell-p",
    "formattedRanges": []
   },
   "source": [
    "LRD tiap titik digunakan untuk membandingkan dengan rata-rata LRD K tetangganya. LOF adalah perbandingan rata-rata LRD K tetangga A terhadap LRD A. Jika suatu titik bukan merupakan pencilan (inlier), rasio rata-rata LRD tetangganya kira-kira sama dengan LRD suatu titik (karena kepadatan suatu titik dan tetangganya kira-kira sama). Dalam hal ini, LOF hampir sama dengan 1. Sebaliknya, jika suatu titik merupakan outlier, LRD suatu titik lebih kecil dari rata-rata LRD tetangganya. Maka nilai LOF akan tinggi. Umumnya jika LOF > 1 maka dianggap outlier, namun hal tersebut tidak selalu benar. Katakanlah kita mengetahui bahwa kita hanya memiliki satu outlier dalam data, lalu kita ambil nilai LOF maksimum di antara semua nilai LOF, dan titik yang sesuai dengan nilai LOF maksimum akan dianggap sebagai outlier."
   ]
  },
  {
   "block_group": "245689cfc72142a5bd0cc44f9cd26ff5",
   "cell_type": "markdown",
   "metadata": {
    "cell_id": "4e49377baed544158d30584e349eb270",
    "deepnote_cell_type": "text-cell-p",
    "formattedRanges": []
   },
   "source": [
    "Untuk langkah-langkah perhitungan manual Local Outlier Factor (LOF) yaitu :"
   ]
  },
  {
   "block_group": "e4d1fcc2ebeb48b593324dabab300114",
   "cell_type": "markdown",
   "metadata": {
    "cell_id": "6e7d7c3a5ab64b3b8fd7b04869123491",
    "deepnote_cell_type": "text-cell-p",
    "formattedRanges": []
   },
   "source": [
    "1. Menghitung jarak dan menentukan tetangga"
   ]
  },
  {
   "block_group": "85f1f5adc8f1422081dd17074b8bb5ca",
   "cell_type": "markdown",
   "metadata": {
    "cell_id": "a42355d69fac495797bb37eccffe7e10",
    "deepnote_cell_type": "text-cell-p",
    "formattedRanges": []
   },
   "source": [
    "2. Menghitung Reachability Distance (RD)"
   ]
  },
  {
   "block_group": "002a121f3d784b2a93361defef60e40d",
   "cell_type": "markdown",
   "metadata": {
    "cell_id": "adc4373579b7419283a77aeffb7fd053",
    "deepnote_cell_type": "text-cell-p",
    "formattedRanges": []
   },
   "source": [
    "3. Menghitung Local Reachability Distance (LRD)"
   ]
  },
  {
   "block_group": "10c7868cd78a48fcb8bbe8d8f5f356bc",
   "cell_type": "markdown",
   "metadata": {
    "cell_id": "5f5cf0b2d2d1405ba1ac2f1bb5b80b61",
    "deepnote_cell_type": "text-cell-p",
    "formattedRanges": []
   },
   "source": [
    "4. Menghitung Local Outlier Factor (LOF)"
   ]
  },
  {
   "block_group": "91570a5a061a476fbee7d580359913d0",
   "cell_type": "markdown",
   "metadata": {
    "cell_id": "b1d561f32dab4caf899b3eb4c454d608",
    "deepnote_cell_type": "text-cell-p",
    "formattedRanges": [
     {
      "fromCodePoint": 0,
      "marks": {
       "bold": true
      },
      "toCodePoint": 54,
      "type": "marks"
     }
    ]
   },
   "source": [
    "Implementasi Local Outlier Factor dengan Scikit Learn\r"
   ]
  },
  {
   "block_group": "41bf5d31daee46d8842b603898c195ae",
   "cell_type": "code",
   "content_dependencies": null,
   "execution_count": 20,
   "metadata": {
    "cell_id": "8467b4b3e72e462a85f10fde6c7e80bc",
    "deepnote_cell_type": "code",
    "deepnote_to_be_reexecuted": false,
    "execution_millis": 249,
    "execution_start": 1719507290859,
    "source_hash": null
   },
   "outputs": [
    {
     "name": "stdout",
     "output_type": "stream",
     "text": [
      "===================================== OUTLIER =====================================\n",
      "outlier ditemukan pada baris => 72, kolom => Spleen Palpable\n",
      "outlier ditemukan pada baris => 147, kolom => Age\n",
      "outlier ditemukan pada baris => 106, kolom => Liver Firm\n",
      "outlier ditemukan pada baris => 147, kolom => Spiders\n",
      "outlier ditemukan pada baris => 92, kolom => Liver Big\n",
      "outlier ditemukan pada baris => 31, kolom => Liver Firm\n",
      "outlier ditemukan pada baris => 6, kolom => Alk Phosphate\n",
      "outlier ditemukan pada baris => 118, kolom => Liver Big\n",
      "outlier ditemukan pada baris => 47, kolom => Sgot\n",
      "outlier ditemukan pada baris => 80, kolom => Sgot\n",
      "outlier ditemukan pada baris => 72, kolom => Spiders\n",
      "outlier ditemukan pada baris => 147, kolom => Varices\n",
      "outlier ditemukan pada baris => 154, kolom => Unnamed: 0\n",
      "outlier ditemukan pada baris => 0, kolom => Unnamed: 0\n",
      "outlier ditemukan pada baris => 83, kolom => Spleen Palpable\n",
      "outlier ditemukan pada baris => 72, kolom => Varices\n",
      "outlier ditemukan pada baris => 49, kolom => Protime\n",
      "outlier ditemukan pada baris => 56, kolom => Malaise\n",
      "outlier ditemukan pada baris => 83, kolom => Spiders\n",
      "outlier ditemukan pada baris => 56, kolom => Fatigue\n",
      "outlier ditemukan pada baris => 147, kolom => Ascites\n",
      "outlier ditemukan pada baris => 41, kolom => Spiders\n",
      "outlier ditemukan pada baris => 98, kolom => Alk Phosphate\n",
      "outlier ditemukan pada baris => 72, kolom => Ascites\n",
      "outlier ditemukan pada baris => 38, kolom => Sgot\n",
      "outlier ditemukan pada baris => 40, kolom => Protime\n",
      "outlier ditemukan pada baris => 147, kolom => Liver Firm\n",
      "outlier ditemukan pada baris => 83, kolom => Varices\n",
      "outlier ditemukan pada baris => 120, kolom => Alk Phosphate\n",
      "outlier ditemukan pada baris => 83, kolom => Ascites\n",
      "outlier ditemukan pada baris => 56, kolom => Spleen Palpable\n",
      "outlier ditemukan pada baris => 133, kolom => Age\n",
      "outlier ditemukan pada baris => 31, kolom => Albumin\n",
      "outlier ditemukan pada baris => 130, kolom => Protime\n",
      "outlier ditemukan pada baris => 1, kolom => Unnamed: 0\n",
      "outlier ditemukan pada baris => 56, kolom => Spiders\n",
      "outlier ditemukan pada baris => 2, kolom => Protime\n",
      "outlier ditemukan pada baris => 13, kolom => Protime\n",
      "outlier ditemukan pada baris => 147, kolom => Spleen Palpable\n",
      "outlier ditemukan pada baris => 148, kolom => Alk Phosphate\n",
      "outlier ditemukan pada baris => 147, kolom => Sgot\n",
      "outlier ditemukan pada baris => 56, kolom => Varices\n",
      "outlier ditemukan pada baris => 141, kolom => Liver Big\n",
      "outlier ditemukan pada baris => 153, kolom => Unnamed: 0\n",
      "outlier ditemukan pada baris => 56, kolom => Anorexia\n",
      "outlier ditemukan pada baris => 115, kolom => Age\n",
      "outlier ditemukan pada baris => 104, kolom => Alk Phosphate\n",
      "outlier ditemukan pada baris => 56, kolom => Liver Firm\n",
      "outlier ditemukan pada baris => 110, kolom => Age\n",
      "outlier ditemukan pada baris => 107, kolom => Sgot\n",
      "outlier ditemukan pada baris => 3, kolom => Steroid\n",
      "outlier ditemukan pada baris => 147, kolom => Liver Big\n",
      "outlier ditemukan pada baris => 148, kolom => Liver Firm\n",
      "outlier ditemukan pada baris => 59, kolom => Albumin\n",
      "outlier ditemukan pada baris => 72, kolom => Liver Big\n",
      "outlier ditemukan pada baris => 152, kolom => Unnamed: 0\n",
      "outlier ditemukan pada baris => 2, kolom => Age\n",
      "===================================== DATA =====================================\n",
      "Data pada baris yang mengandung outlier:\n",
      "     Unnamed: 0  Class   Age  Sex   Steroid  Antivirals   Fatigue   Malaise  \\\n",
      "72         72.0    2.0  51.0  1.0  2.000000         2.0  1.000000  1.000000   \n",
      "147       147.0    1.0  70.0  1.0  1.000000         2.0  1.000000  1.000000   \n",
      "106       106.0    1.0  35.0  1.0  1.000000         2.0  1.000000  2.000000   \n",
      "147       147.0    1.0  70.0  1.0  1.000000         2.0  1.000000  1.000000   \n",
      "92         92.0    2.0  33.0  1.0  2.000000         2.0  2.000000  2.000000   \n",
      "31         31.0    1.0  62.0  1.0  1.000000         2.0  1.000000  1.000000   \n",
      "6           6.0    1.0  51.0  1.0  1.000000         2.0  1.000000  2.000000   \n",
      "118       118.0    1.0  61.0  1.0  1.000000         2.0  1.000000  1.000000   \n",
      "47         47.0    2.0  28.0  2.0  2.000000         2.0  1.000000  1.000000   \n",
      "80         80.0    2.0  23.0  1.0  2.000000         2.0  1.000000  1.000000   \n",
      "72         72.0    2.0  51.0  1.0  2.000000         2.0  1.000000  1.000000   \n",
      "147       147.0    1.0  70.0  1.0  1.000000         2.0  1.000000  1.000000   \n",
      "154       154.0    1.0  43.0  1.0  2.000000         2.0  1.000000  2.000000   \n",
      "0           0.0    2.0  30.0  2.0  1.000000         2.0  2.000000  2.000000   \n",
      "83         83.0    2.0  67.0  2.0  1.000000         2.0  1.000000  1.000000   \n",
      "72         72.0    2.0  51.0  1.0  2.000000         2.0  1.000000  1.000000   \n",
      "49         49.0    2.0  38.0  1.0  2.000000         1.0  1.000000  1.000000   \n",
      "56         56.0    2.0  34.0  1.0  1.000000         2.0  1.555556  1.777778   \n",
      "83         83.0    2.0  67.0  2.0  1.000000         2.0  1.000000  1.000000   \n",
      "56         56.0    2.0  34.0  1.0  1.000000         2.0  1.555556  1.777778   \n",
      "147       147.0    1.0  70.0  1.0  1.000000         2.0  1.000000  1.000000   \n",
      "41         41.0    2.0  23.0  1.0  2.000000         2.0  2.000000  2.000000   \n",
      "98         98.0    1.0  47.0  1.0  2.000000         2.0  2.000000  2.000000   \n",
      "72         72.0    2.0  51.0  1.0  2.000000         2.0  1.000000  1.000000   \n",
      "38         38.0    2.0  42.0  1.0  1.000000         2.0  2.000000  2.000000   \n",
      "40         40.0    2.0  52.0  1.0  1.000000         1.0  2.000000  2.000000   \n",
      "147       147.0    1.0  70.0  1.0  1.000000         2.0  1.000000  1.000000   \n",
      "83         83.0    2.0  67.0  2.0  1.000000         2.0  1.000000  1.000000   \n",
      "120       120.0    1.0  56.0  1.0  1.000000         2.0  1.000000  1.000000   \n",
      "83         83.0    2.0  67.0  2.0  1.000000         2.0  1.000000  1.000000   \n",
      "56         56.0    2.0  34.0  1.0  1.000000         2.0  1.555556  1.777778   \n",
      "133       133.0    2.0  72.0  1.0  2.000000         1.0  1.000000  2.000000   \n",
      "31         31.0    1.0  62.0  1.0  1.000000         2.0  1.000000  1.000000   \n",
      "130       130.0    2.0  54.0  1.0  2.000000         2.0  2.000000  2.000000   \n",
      "1           1.0    2.0  50.0  1.0  1.000000         2.0  1.000000  2.000000   \n",
      "56         56.0    2.0  34.0  1.0  1.000000         2.0  1.555556  1.777778   \n",
      "2           2.0    2.0  78.0  1.0  2.000000         2.0  1.000000  2.000000   \n",
      "13         13.0    2.0  30.0  1.0  2.000000         2.0  1.000000  2.000000   \n",
      "147       147.0    1.0  70.0  1.0  1.000000         2.0  1.000000  1.000000   \n",
      "148       148.0    2.0  20.0  1.0  1.000000         2.0  2.000000  2.000000   \n",
      "147       147.0    1.0  70.0  1.0  1.000000         2.0  1.000000  1.000000   \n",
      "56         56.0    2.0  34.0  1.0  1.000000         2.0  1.555556  1.777778   \n",
      "141       141.0    1.0  54.0  1.0  1.000000         2.0  1.000000  1.000000   \n",
      "153       153.0    2.0  53.0  2.0  1.000000         2.0  1.000000  2.000000   \n",
      "56         56.0    2.0  34.0  1.0  1.000000         2.0  1.555556  1.777778   \n",
      "115       115.0    2.0  69.0  2.0  2.000000         2.0  1.000000  2.000000   \n",
      "104       104.0    1.0  47.0  1.0  2.000000         2.0  1.000000  1.000000   \n",
      "56         56.0    2.0  34.0  1.0  1.000000         2.0  1.555556  1.777778   \n",
      "110       110.0    2.0   7.0  1.0  2.000000         2.0  2.000000  2.000000   \n",
      "107       107.0    2.0  45.0  1.0  1.000000         2.0  1.000000  1.000000   \n",
      "3           3.0    2.0  31.0  1.0  1.444444         1.0  2.000000  2.000000   \n",
      "147       147.0    1.0  70.0  1.0  1.000000         2.0  1.000000  1.000000   \n",
      "148       148.0    2.0  20.0  1.0  1.000000         2.0  2.000000  2.000000   \n",
      "59         59.0    2.0  45.0  2.0  1.000000         2.0  1.000000  1.000000   \n",
      "72         72.0    2.0  51.0  1.0  2.000000         2.0  1.000000  1.000000   \n",
      "152       152.0    2.0  61.0  1.0  1.000000         2.0  1.000000  1.000000   \n",
      "2           2.0    2.0  78.0  1.0  2.000000         2.0  1.000000  2.000000   \n",
      "\n",
      "     Anorexia  Liver Big  ...  Spleen Palpable   Spiders   Ascites   Varices  \\\n",
      "72   1.000000   1.777778  ...         1.777778  1.333333  1.888889  1.888889   \n",
      "147  1.000000   1.777778  ...         1.777778  1.444444  1.888889  1.777778   \n",
      "106  2.000000   1.888889  ...         1.000000  1.000000  1.000000  2.000000   \n",
      "147  1.000000   1.777778  ...         1.777778  1.444444  1.888889  1.777778   \n",
      "92   2.000000   1.666667  ...         2.000000  2.000000  2.000000  2.000000   \n",
      "31   2.000000   2.000000  ...         2.000000  2.000000  2.000000  2.000000   \n",
      "6    1.000000   2.000000  ...         1.000000  1.000000  2.000000  2.000000   \n",
      "118  2.000000   1.666667  ...         2.000000  1.000000  2.000000  2.000000   \n",
      "47   2.000000   2.000000  ...         2.000000  2.000000  2.000000  2.000000   \n",
      "80   1.000000   2.000000  ...         2.000000  2.000000  2.000000  2.000000   \n",
      "72   1.000000   1.777778  ...         1.777778  1.333333  1.888889  1.888889   \n",
      "147  1.000000   1.777778  ...         1.777778  1.444444  1.888889  1.777778   \n",
      "154  2.000000   2.000000  ...         1.000000  1.000000  1.000000  2.000000   \n",
      "0    2.000000   1.000000  ...         2.000000  2.000000  2.000000  2.000000   \n",
      "83   2.000000   2.000000  ...         1.666667  1.333333  1.666667  1.777778   \n",
      "72   1.000000   1.777778  ...         1.777778  1.333333  1.888889  1.888889   \n",
      "49   1.000000   2.000000  ...         2.000000  1.000000  2.000000  2.000000   \n",
      "56   1.777778   1.888889  ...         1.777778  1.888889  2.000000  1.888889   \n",
      "83   2.000000   2.000000  ...         1.666667  1.333333  1.666667  1.777778   \n",
      "56   1.777778   1.888889  ...         1.777778  1.888889  2.000000  1.888889   \n",
      "147  1.000000   1.777778  ...         1.777778  1.444444  1.888889  1.777778   \n",
      "41   2.000000   1.888889  ...         2.000000  1.888889  2.000000  2.000000   \n",
      "98   2.000000   2.000000  ...         2.000000  1.000000  2.000000  1.000000   \n",
      "72   1.000000   1.777778  ...         1.777778  1.333333  1.888889  1.888889   \n",
      "38   2.000000   2.000000  ...         2.000000  2.000000  2.000000  2.000000   \n",
      "40   2.000000   2.000000  ...         2.000000  2.000000  2.000000  2.000000   \n",
      "147  1.000000   1.777778  ...         1.777778  1.444444  1.888889  1.777778   \n",
      "83   2.000000   2.000000  ...         1.666667  1.333333  1.666667  1.777778   \n",
      "120  1.000000   1.000000  ...         2.000000  1.000000  2.000000  2.000000   \n",
      "83   2.000000   2.000000  ...         1.666667  1.333333  1.666667  1.777778   \n",
      "56   1.777778   1.888889  ...         1.777778  1.888889  2.000000  1.888889   \n",
      "133  2.000000   2.000000  ...         2.000000  2.000000  2.000000  2.000000   \n",
      "31   2.000000   2.000000  ...         2.000000  2.000000  2.000000  2.000000   \n",
      "130  2.000000   2.000000  ...         2.000000  2.000000  2.000000  2.000000   \n",
      "1    2.000000   1.000000  ...         2.000000  2.000000  2.000000  2.000000   \n",
      "56   1.777778   1.888889  ...         1.777778  1.888889  2.000000  1.888889   \n",
      "2    2.000000   2.000000  ...         2.000000  2.000000  2.000000  2.000000   \n",
      "13   2.000000   2.000000  ...         2.000000  2.000000  2.000000  2.000000   \n",
      "147  1.000000   1.777778  ...         1.777778  1.444444  1.888889  1.777778   \n",
      "148  2.000000   2.000000  ...         2.000000  2.000000  2.000000  2.000000   \n",
      "147  1.000000   1.777778  ...         1.777778  1.444444  1.888889  1.777778   \n",
      "56   1.777778   1.888889  ...         1.777778  1.888889  2.000000  1.888889   \n",
      "141  2.000000   1.777778  ...         1.000000  2.000000  1.000000  2.000000   \n",
      "153  2.000000   2.000000  ...         1.000000  1.000000  2.000000  1.000000   \n",
      "56   1.777778   1.888889  ...         1.777778  1.888889  2.000000  1.888889   \n",
      "115  2.000000   2.000000  ...         2.000000  2.000000  2.000000  2.000000   \n",
      "104  2.000000   2.000000  ...         2.000000  2.000000  1.000000  1.000000   \n",
      "56   1.777778   1.888889  ...         1.777778  1.888889  2.000000  1.888889   \n",
      "110  2.000000   2.000000  ...         1.000000  2.000000  2.000000  2.000000   \n",
      "107  1.000000   2.000000  ...         2.000000  2.000000  2.000000  2.000000   \n",
      "3    2.000000   2.000000  ...         2.000000  2.000000  2.000000  2.000000   \n",
      "147  1.000000   1.777778  ...         1.777778  1.444444  1.888889  1.777778   \n",
      "148  2.000000   2.000000  ...         2.000000  2.000000  2.000000  2.000000   \n",
      "59   2.000000   2.000000  ...         1.000000  2.000000  2.000000  2.000000   \n",
      "72   1.000000   1.777778  ...         1.777778  1.333333  1.888889  1.888889   \n",
      "152  2.000000   1.000000  ...         2.000000  1.000000  2.000000  2.000000   \n",
      "2    2.000000   2.000000  ...         2.000000  2.000000  2.000000  2.000000   \n",
      "\n",
      "     Bilirubin  Alk Phosphate        Sgot   Albumin     Protime  Histology  \n",
      "72    0.900000      76.000000  271.000000  4.400000   58.111111        1.0  \n",
      "147   1.700000     109.000000  528.000000  2.800000   35.000000        2.0  \n",
      "106   1.500000     138.000000   58.000000  2.600000   54.111111        2.0  \n",
      "147   1.700000     109.000000  528.000000  2.800000   35.000000        2.0  \n",
      "92    1.000000      95.777778   60.000000  4.000000   51.888889        2.0  \n",
      "31    1.000000     101.888889   60.000000  3.977778   57.555556        1.0  \n",
      "6     1.000000      83.111111   80.333333  3.911111   63.222222        1.0  \n",
      "118   2.122222     102.777778   97.222222  3.800000   47.777778        2.0  \n",
      "47    1.800000     191.000000  420.000000  3.300000   46.000000        1.0  \n",
      "80    0.800000      73.777778   14.000000  4.800000   66.888889        1.0  \n",
      "72    0.900000      76.000000  271.000000  4.400000   58.111111        1.0  \n",
      "147   1.700000     109.000000  528.000000  2.800000   35.000000        2.0  \n",
      "154   1.200000     100.000000   19.000000  3.100000   42.000000        2.0  \n",
      "0     1.000000      85.000000   18.000000  4.000000   85.666667        1.0  \n",
      "83    1.500000     179.000000   69.000000  2.900000   49.444444        1.0  \n",
      "72    0.900000      76.000000  271.000000  4.400000   58.111111        1.0  \n",
      "49    0.700000     125.000000   65.000000  4.200000   77.000000        1.0  \n",
      "56    1.111111      96.777778   49.555556  3.900000   72.000000        1.0  \n",
      "83    1.500000     179.000000   69.000000  2.900000   49.444444        1.0  \n",
      "56    1.111111      96.777778   49.555556  3.900000   72.000000        1.0  \n",
      "147   1.700000     109.000000  528.000000  2.800000   35.000000        2.0  \n",
      "41    4.600000      56.000000   16.000000  4.600000   76.333333        1.0  \n",
      "98    2.000000      84.000000   23.000000  4.200000   66.000000        2.0  \n",
      "72    0.900000      76.000000  271.000000  4.400000   58.111111        1.0  \n",
      "38    1.000000      85.000000   14.000000  4.000000  100.000000        1.0  \n",
      "40    0.700000      75.000000   55.000000  4.000000   21.000000        1.0  \n",
      "147   1.700000     109.000000  528.000000  2.800000   35.000000        2.0  \n",
      "83    1.500000     179.000000   69.000000  2.900000   49.444444        1.0  \n",
      "120   2.900000      90.000000  153.000000  4.000000   57.666667        2.0  \n",
      "83    1.500000     179.000000   69.000000  2.900000   49.444444        1.0  \n",
      "56    1.111111      96.777778   49.555556  3.900000   72.000000        1.0  \n",
      "133   1.000000     115.000000   52.000000  3.400000   50.000000        2.0  \n",
      "31    1.000000     101.888889   60.000000  3.977778   57.555556        1.0  \n",
      "130   1.000000      85.000000   30.000000  4.500000    0.000000        2.0  \n",
      "1     0.900000     135.000000   42.000000  3.500000   73.222222        1.0  \n",
      "56    1.111111      96.777778   49.555556  3.900000   72.000000        1.0  \n",
      "2     0.700000      96.000000   32.000000  4.000000   77.777778        1.0  \n",
      "13    2.200000      57.000000  144.000000  4.900000   78.000000        1.0  \n",
      "147   1.700000     109.000000  528.000000  2.800000   35.000000        2.0  \n",
      "148   0.900000      89.000000  152.000000  4.000000   54.000000        2.0  \n",
      "147   1.700000     109.000000  528.000000  2.800000   35.000000        2.0  \n",
      "56    1.111111      96.777778   49.555556  3.900000   72.000000        1.0  \n",
      "141   3.900000     120.000000   28.000000  3.500000   43.000000        2.0  \n",
      "153   1.500000      81.000000   19.000000  4.100000   48.000000        2.0  \n",
      "56    1.111111      96.777778   49.555556  3.900000   72.000000        1.0  \n",
      "115   3.200000     119.000000  136.000000  3.388889   56.000000        2.0  \n",
      "104   1.700000      86.000000   20.000000  2.100000   46.000000        2.0  \n",
      "56    1.111111      96.777778   49.555556  3.900000   72.000000        1.0  \n",
      "110   0.700000     256.000000   25.000000  4.200000   51.666667        2.0  \n",
      "107   2.300000     142.666667  648.000000  3.488889   58.444444        2.0  \n",
      "3     0.700000      46.000000   52.000000  4.000000   80.000000        1.0  \n",
      "147   1.700000     109.000000  528.000000  2.800000   35.000000        2.0  \n",
      "148   0.900000      89.000000  152.000000  4.000000   54.000000        2.0  \n",
      "59    1.000000      85.000000   75.000000  3.955556   65.777778        1.0  \n",
      "72    0.900000      76.000000  271.000000  4.400000   58.111111        1.0  \n",
      "152   0.800000      75.000000   20.000000  4.100000   50.777778        2.0  \n",
      "2     0.700000      96.000000   32.000000  4.000000   77.777778        1.0  \n",
      "\n",
      "[57 rows x 21 columns]\n",
      "==================================== AKURASI ====================================\n",
      "akurasi: 1.0\n"
     ]
    }
   ],
   "outputs_reference": "s3:deepnote-cell-outputs-production/8197676e-8753-40ce-890f-8b7e6d55c141",
   "source": [
    "# import pandas as pd\n",
    "# from sklearn.neighbors import LocalOutlierFactor\n",
    "# from sklearn.metrics import precision_score\n",
    "# import matplotlib.pyplot as plt\n",
    "\n",
    "# # Menggunakan dataset yang telah diproses sebelumnya\n",
    "# data1 = data_clean[feature_columns]\n",
    "\n",
    "# # Membuat model LOF\n",
    "# lof = LocalOutlierFactor(n_neighbors=9, contamination=0.03)\n",
    "\n",
    "# # Melakukan prediksi outlier untuk setiap fitur\n",
    "# outlier_indices = []\n",
    "# for column in data1.columns:\n",
    "#     # Mengambil nilai fitur\n",
    "#     feature_values = data1[column].values.reshape(-1, 1)\n",
    "#     # Melakukan prediksi outlier\n",
    "#     y_pred = lof.fit_predict(feature_values)\n",
    "#     # Menambahkan indeks outlier ke dalam daftar outlier_indices\n",
    "#     outlier_indices.extend([(i, column) for i, label in enumerate(y_pred) if label == -1])\n",
    "\n",
    "# # Menghilangkan indeks outlier yang duplikat\n",
    "# outlier_indices = list(set(outlier_indices))\n",
    "\n",
    "# # Menampilkan indeks outlier yang ditemukan\n",
    "# print(\"===================================== OUTLIER =====================================\")\n",
    "# for i in outlier_indices:\n",
    "#     print(f\"outlier ditemukan pada baris => {i[0]}, kolom => {i[1]}\")\n",
    "\n",
    "# # Mengumpulkan indeks baris yang mengandung outlier\n",
    "# outlier_row_indices = [index[0] for index in outlier_indices]\n",
    "\n",
    "# # Menampilkan data pada baris yang mengandung outlier\n",
    "# outlier_data = data_clean.iloc[outlier_row_indices]\n",
    "# print(\"===================================== DATA =====================================\")\n",
    "# print(\"Data pada baris yang mengandung outlier:\")\n",
    "# print(outlier_data)\n",
    "\n",
    "# # Mengasumsikan Anda memiliki labels outlier yang sesuai dengan indeks outlier yang Anda temukan\n",
    "# # Misalnya, dalam list ini, nilai 1 menunjukkan outlier, dan 0 menunjukkan bukan outlier\n",
    "# ground_truth_labels = [1 if i in outlier_row_indices else 0 for i in range(len(data_clean))]\n",
    "\n",
    "# # Menghasilkan prediksi outlier berdasarkan outlier_row_indices\n",
    "# predicted_labels = [1 if i in outlier_row_indices else 0 for i in range(len(data_clean))]\n",
    "\n",
    "# # Menghitung akurasi\n",
    "# precision = precision_score(ground_truth_labels, predicted_labels)\n",
    "\n",
    "# print(\"==================================== AKURASI ====================================\")\n",
    "# print(f\"akurasi: {precision}\")\n",
    "\n",
    "\n",
    "\n",
    "\n",
    "\n",
    "\n",
    "from sklearn.neighbors import LocalOutlierFactor\n",
    "from sklearn.metrics import precision_score\n",
    "import matplotlib.pyplot as plt\n",
    "\n",
    "# Membuat model LOF\n",
    "lof = LocalOutlierFactor(n_neighbors=13, contamination=0.03)\n",
    "\n",
    "data1 = data_imputed_df\n",
    "data1 = data1.drop(columns=data1.columns[-1])\n",
    "\n",
    "# Melakukan prediksi outlier untuk setiap fitur\n",
    "outlier_indices = []\n",
    "for column in data1.columns:\n",
    "    # Mengambil nilai fitur\n",
    "    feature_values = data1[column].values.reshape(-1, 1)\n",
    "    # Melakukan prediksi outlier\n",
    "    y_pred = lof.fit_predict(feature_values)\n",
    "    # Menambahkan indeks outlier ke dalam daftar outlier_indices\n",
    "    outlier_indices.extend([(i, column) for i, label in enumerate(y_pred) if label == -1])\n",
    "\n",
    "# Menghilangkan indeks outlier yang duplikat\n",
    "outlier_indices = list(set(outlier_indices))\n",
    "\n",
    "# Menampilkan outlier untuk setiap fitur\n",
    "# for column in data1.columns:\n",
    "#     plt.scatter(range(len(data1[column])), data1[column], label=column)\n",
    "#     plt.scatter(outlier_indices, data1[column].iloc[outlier_indices], color='r', label=\"Outlier\")\n",
    "#     plt.xlabel(\"Index\")\n",
    "#     plt.ylabel(column)\n",
    "#     plt.title(f\"Outlier Detection for {column}\")\n",
    "#     plt.legend()\n",
    "#     plt.show()\n",
    "\n",
    "# Menampilkan indeks outlier yang ditemukan\n",
    "print(\"===================================== OUTLIER =====================================\")\n",
    "for i in outlier_indices:\n",
    "    print(f\"outlier ditemukan pada baris => {i[0]}, kolom => {i[1]}\")\n",
    "\n",
    "# Mengumpulkan indeks baris yang mengandung outlier\n",
    "outlier_row_indices = [index[0] for index in outlier_indices]\n",
    "\n",
    "# Menampilkan data pada baris yang mengandung outlier\n",
    "outlier_data = data_imputed_df.iloc[outlier_row_indices]\n",
    "print(\"===================================== DATA =====================================\")\n",
    "print(\"Data pada baris yang mengandung outlier:\")\n",
    "print(outlier_data)\n",
    "\n",
    "\n",
    "# Mengasumsikan Anda memiliki labels outlier yang sesuai dengan indeks outlier yang Anda temukan\n",
    "# Misalnya, dalam list ini, nilai 1 menunjukkan outlier, dan 0 menunjukkan bukan outlier\n",
    "ground_truth_labels = [1 if i in outlier_row_indices else 0 for i in range(len(data_imputed_df))]\n",
    "\n",
    "# Menghasilkan prediksi outlier berdasarkan outlier_row_indices\n",
    "predicted_labels = [1 if i in outlier_row_indices else 0 for i in range(len(data_imputed_df))]\n",
    "\n",
    "# Menghitung akurasi\n",
    "precision = precision_score(ground_truth_labels, predicted_labels)\n",
    "\n",
    "print(\"==================================== AKURASI ====================================\")\n",
    "print(f\"akurasi: {precision}\")"
   ]
  },
  {
   "block_group": "c6ff427cde654102ab01a1d361fc39d4",
   "cell_type": "markdown",
   "metadata": {
    "cell_id": "5df21a315e9f4c81a3ba85e69e6cd54c",
    "deepnote_cell_type": "text-cell-p",
    "formattedRanges": []
   },
   "source": [
    "untuk penanganan outlier tidak kita lakukan dikarenakan data yang terindikasi outlier masih berada di rentang 1-10 (tidak melebihi interval)"
   ]
  },
  {
   "block_group": "d19670ec333b45e1bf9aefb524faf444",
   "cell_type": "markdown",
   "metadata": {
    "cell_id": "15cabd442482437ab6408fc21a532fc6",
    "deepnote_cell_type": "text-cell-p",
    "formattedRanges": [
     {
      "fromCodePoint": 95,
      "marks": {
       "underline": true
      },
      "toCodePoint": 103,
      "type": "marks"
     }
    ]
   },
   "source": [
    "lalu untuk akurasi pendeteksian outlier memiliki akurasi nilai 1 atau 100% yang bisa dikatakan sempurna"
   ]
  },
  {
   "block_group": "eca9c583ef984c95983abc9e9107c49c",
   "cell_type": "markdown",
   "metadata": {
    "cell_id": "1d51c5dd04fe4e348681ed3f64fc4fb7",
    "deepnote_cell_type": "text-cell-h1",
    "formattedRanges": []
   },
   "source": [
    "# Modelling Gaussian Naive Bayes"
   ]
  },
  {
   "block_group": "4204f52cbbb44eb29506c61e609672c1",
   "cell_type": "markdown",
   "metadata": {
    "cell_id": "6ebc2ec6f3f04a3aaafa0bbe4e06efa0",
    "deepnote_cell_type": "text-cell-p",
    "formattedRanges": []
   },
   "source": [
    "Modeling merupakan proses pembuatan dan pengujian model statistik atau matematis yang digunakan untuk menggambarkan dan menganalisis pola atau hubungan dalam data. Tujuan utama dari pemodelan dalam data mining adalah untuk mengidentifikasi pola yang berguna atau prediksi yang akurat dari data yang tersedia.Untuk modelling kali ini bertujuan untuk menentukan class pada suatu data inputan .Data akan dibagi menjadi 2 tipe yaitu data test dan data train dan pemodelan kali ini menggunakan metode Gaussian Naive Bayes."
   ]
  },
  {
   "block_group": "b7230b7d28074926bb1707adf7e1d3e2",
   "cell_type": "markdown",
   "metadata": {
    "cell_id": "812a5e86756847d88b401e1045e26d68",
    "deepnote_cell_type": "text-cell-p",
    "formattedRanges": []
   },
   "source": [
    "Kita akan menentukan class dari data yang akan kita inputan apakah termasuk class jinak atau ganas."
   ]
  },
  {
   "block_group": "0d8f06ce9f2c41ecbe9ac344f02f07f3",
   "cell_type": "markdown",
   "metadata": {
    "cell_id": "9c04e7f5ccec4e1fbbf2e12124cc9d0f",
    "deepnote_cell_type": "text-cell-p",
    "formattedRanges": []
   },
   "source": [
    "cara kalkulasi GNB dapat melalui tahap berikut:"
   ]
  },
  {
   "block_group": "3a2f1df19e674379a0fd0e0c2304adec",
   "cell_type": "markdown",
   "metadata": {
    "cell_id": "0d82502f042b4454bb295db1ceea175f",
    "deepnote_cell_type": "text-cell-p",
    "formattedRanges": []
   },
   "source": [
    "1. Bagi Dataset menjadi data test dan data train"
   ]
  },
  {
   "block_group": "986e05a3ed3644ae858ed8970d1930a2",
   "cell_type": "markdown",
   "metadata": {
    "cell_id": "4cb5f1dd1bfd416395dd777012fba2e6",
    "deepnote_cell_type": "text-cell-p",
    "formattedRanges": []
   },
   "source": [
    "ada dua jenis pembagian rasio dataset yang sering digunakan yaitu"
   ]
  },
  {
   "block_group": "096e4f58cee44bee8e11cb88b864153c",
   "cell_type": "markdown",
   "metadata": {
    "cell_id": "2c9f12da03cb4f06ad3709ee540ff8ae",
    "deepnote_cell_type": "text-cell-bullet",
    "formattedRanges": []
   },
   "source": [
    "- 80% data train dan 20% data test"
   ]
  },
  {
   "block_group": "9531d7501b2945c1b183f95c74e3255a",
   "cell_type": "markdown",
   "metadata": {
    "cell_id": "78970fe19b364e3abab7d5015880dc4c",
    "deepnote_cell_type": "text-cell-bullet",
    "formattedRanges": []
   },
   "source": [
    "- 70% data train dan 30% data test"
   ]
  },
  {
   "block_group": "af3eb15a03014498863a05be90cf45e8",
   "cell_type": "markdown",
   "metadata": {
    "cell_id": "37bcaf2bdcf84add8b58f12e1ccdbb34",
    "deepnote_cell_type": "text-cell-p",
    "formattedRanges": []
   },
   "source": [
    "Untuk kali ini kita akan menggunkan raiso 80% data train dan 20% data test,namun kalian bisa mengubahnya tergantung situasi dan kondisi dilapangan nantinya"
   ]
  },
  {
   "block_group": "3f617276db8141b0b05a0d5f3eeda7ac",
   "cell_type": "markdown",
   "metadata": {
    "cell_id": "dd897d5855bf4e4d85b630dd3b9846eb",
    "deepnote_cell_type": "text-cell-p",
    "formattedRanges": []
   },
   "source": [
    "2. Mengghitung Probabilitas pada data train setiap sheet"
   ]
  },
  {
   "block_group": "f65fb793f8ac421a8749ec34f674a847",
   "cell_type": "markdown",
   "metadata": {
    "cell_id": "7c2ab4bd71644d0bac2b6981d82a135c",
    "deepnote_cell_type": "text-cell-p",
    "formattedRanges": []
   },
   "source": [
    "lakukan perhitungan probabilitas dari masing-masing kelas sesuai dengan jumlah data train pada kelas tersebut kemudian dibagi dengan banyaknya total data train"
   ]
  },
  {
   "block_group": "160bf3f8722d47f882587a71a8777b2d",
   "cell_type": "markdown",
   "metadata": {
    "cell_id": "833546246bad4fa99ffb57320cc3730f",
    "deepnote_cell_type": "text-cell-p",
    "formattedRanges": []
   },
   "source": [
    "ini digunakan untuk menghitung Prior"
   ]
  },
  {
   "block_group": "8017e1ee4f9d47e48092fa972ec82b4d",
   "cell_type": "markdown",
   "metadata": {
    "cell_id": "51b361f4dea341c28124445a0a94c193",
    "deepnote_cell_type": "text-cell-p",
    "formattedRanges": []
   },
   "source": [
    "3. Menghitung Mean dan Standart dev"
   ]
  },
  {
   "block_group": "137824fcedb040f7a889eb740ecb2977",
   "cell_type": "markdown",
   "metadata": {
    "cell_id": "f50bf031ad7a4b5ba9331a0a3456b227",
    "deepnote_cell_type": "image",
    "deepnote_img_src": "probabilitas.png"
   },
   "source": [
    "<img src=\"probabilitas.png\" width=\"\" align=\"\" />"
   ]
  },
  {
   "block_group": "0e010cf7a618422dacb72fbb5677e72e",
   "cell_type": "markdown",
   "metadata": {
    "cell_id": "6d2ac416064f429d8d592766409cb1a6",
    "deepnote_cell_type": "text-cell-p",
    "formattedRanges": []
   },
   "source": [
    "hitung mean dan standart deviasi setiap fitur pada setiap kelas di data train kita"
   ]
  },
  {
   "block_group": "a7b3132a1d9a4cf99c5ecc78cf35b8ae",
   "cell_type": "markdown",
   "metadata": {
    "cell_id": "56eb261b1ef448f19ae6ae6aba9a4edc",
    "deepnote_cell_type": "text-cell-p",
    "formattedRanges": []
   },
   "source": [
    "4. membuat inputan"
   ]
  },
  {
   "block_group": "ab36d3118c354b8ea81ddb88d0a8eeb7",
   "cell_type": "markdown",
   "metadata": {
    "cell_id": "7d7a326958f54e6ba17d581cc8bf6640",
    "deepnote_cell_type": "text-cell-p",
    "formattedRanges": []
   },
   "source": [
    "kita akan mengambil satu data acak pada data test kita untuk inputan"
   ]
  },
  {
   "block_group": "11cf39bef3a0475fb069cac1696551bf",
   "cell_type": "markdown",
   "metadata": {
    "cell_id": "fdba32872a294d759416b6c265fa6e5a",
    "deepnote_cell_type": "text-cell-p",
    "formattedRanges": []
   },
   "source": [
    "5. menghitung Distribusi gausian"
   ]
  },
  {
   "block_group": "760f2282a9c84e4f92ad43e65f37f346",
   "cell_type": "markdown",
   "metadata": {
    "cell_id": "7db21c050c9f416584ceab52739b9b17",
    "deepnote_cell_type": "text-cell-p",
    "formattedRanges": []
   },
   "source": [
    "lakukan perhitungan dengan rumus distribusi gaussian dengan rumus sebagai berikut"
   ]
  },
  {
   "block_group": "85902bbe077a48209e820128497d7839",
   "cell_type": "markdown",
   "metadata": {
    "cell_id": "cde32cb1345b4d289ea4f504483c7ec2",
    "deepnote_cell_type": "image",
    "deepnote_img_src": "distribusi_gaussian_2.png"
   },
   "source": [
    "<img src=\"distribusi_gaussian_2.png\" width=\"\" align=\"\" />"
   ]
  },
  {
   "block_group": "2148511374c64f33961311718cc161d6",
   "cell_type": "markdown",
   "metadata": {
    "cell_id": "470dd3b7bb7146dc9001465b37828ca1",
    "deepnote_cell_type": "text-cell-p",
    "formattedRanges": []
   },
   "source": [
    "6. hitung posterior"
   ]
  },
  {
   "block_group": "f5c494336263402abc6194d48e80309a",
   "cell_type": "markdown",
   "metadata": {
    "cell_id": "74c02eddabb741ebb64fc58f17fa3bee",
    "deepnote_cell_type": "text-cell-p",
    "formattedRanges": []
   },
   "source": [
    "Setelah didapat semua hasil dari distribusi gaussian, langkah selanjutnya adalah menentukan posteriori-nya. Berikut ini untuk rumusnya :"
   ]
  },
  {
   "block_group": "4d944ab6a66b4305b1ee6ad7aaafb7f3",
   "cell_type": "markdown",
   "metadata": {
    "cell_id": "7463e0e7849d4f5286db8dbeaf558215",
    "deepnote_cell_type": "image",
    "deepnote_img_src": "posterior.png"
   },
   "source": [
    "<img src=\"posterior.png\" width=\"\" align=\"\" />"
   ]
  },
  {
   "block_group": "03dfb396b2864287a550533f0f67f15b",
   "cell_type": "markdown",
   "metadata": {
    "cell_id": "553e06b0c7d34730a65c48853caa05ed",
    "deepnote_cell_type": "text-cell-p",
    "formattedRanges": []
   },
   "source": [
    "P(A|Hi) : hasil perkalian setiap fitur pada setiap kelas"
   ]
  },
  {
   "block_group": "77c00b09a86a4ecdac95edbba2369ce3",
   "cell_type": "markdown",
   "metadata": {
    "cell_id": "f294f65e88244687b02a0b5d353061bd",
    "deepnote_cell_type": "text-cell-p",
    "formattedRanges": []
   },
   "source": [
    "P(a) : probabilitas setiap kelas"
   ]
  },
  {
   "block_group": "8bfabf2f214341dc924adf361d5c750d",
   "cell_type": "markdown",
   "metadata": {
    "cell_id": "d5fb12ab405d44ad9e95c8cb8eaf9c1f",
    "deepnote_cell_type": "text-cell-p",
    "formattedRanges": []
   },
   "source": [
    "posteriori = P(A|Hi) * P(a)"
   ]
  },
  {
   "block_group": "edd3d9db4471458cbb6263ce16b9c88f",
   "cell_type": "markdown",
   "metadata": {
    "cell_id": "a17a50ad961c47cf809d72ac6e703ee0",
    "deepnote_cell_type": "text-cell-p",
    "formattedRanges": []
   },
   "source": [
    "7. tentukan maximum posterior"
   ]
  },
  {
   "block_group": "4441d1a190ff4b1aa3558391fec67c69",
   "cell_type": "markdown",
   "metadata": {
    "cell_id": "023aa0846c804442844c4af9f2a83aff",
    "deepnote_cell_type": "text-cell-p",
    "formattedRanges": []
   },
   "source": [
    "setelah kita menghitung semua posterior maka dapat kita cari mana yang terbesar"
   ]
  },
  {
   "block_group": "96415fe1b87746388faf658c7a7d05c8",
   "cell_type": "markdown",
   "metadata": {
    "cell_id": "74c7009c81c84dd980ae842280507b00",
    "deepnote_cell_type": "text-cell-p",
    "formattedRanges": []
   },
   "source": [
    "data posterior paling besar tersebut yang merupakan akan menjadi class dari data yang kita inputkan"
   ]
  },
  {
   "block_group": "00d3717b6ef348b3917adbe43cc2cfef",
   "cell_type": "markdown",
   "metadata": {
    "cell_id": "a4df1693b16548d7a226be01ae58aee1",
    "deepnote_cell_type": "text-cell-p",
    "formattedRanges": [
     {
      "fromCodePoint": 0,
      "marks": {
       "bold": true
      },
      "toCodePoint": 6,
      "type": "marks"
     }
    ]
   },
   "source": [
    "MODEL "
   ]
  },
  {
   "block_group": "089adea6838b4d0d8bf74580895aa685",
   "cell_type": "code",
   "content_dependencies": null,
   "execution_count": 21,
   "metadata": {
    "cell_id": "fdb8e56a5a9f41aebfcf25921d05d544",
    "deepnote_cell_type": "code",
    "deepnote_to_be_reexecuted": false,
    "execution_millis": 194,
    "execution_start": 1719507290914,
    "source_hash": null
   },
   "outputs": [],
   "outputs_reference": null,
   "source": [
    "import pandas as pd\n",
    "from sklearn.naive_bayes import GaussianNB\n",
    "from sklearn.model_selection import train_test_split\n",
    "from sklearn.metrics import accuracy_score, precision_score, recall_score, f1_score\n",
    "from ucimlrepo import fetch_ucirepo\n",
    "\n",
    "data = pd.read_csv('hepatitis_knn.csv')\n",
    "# Menghapus kolom Id, dikarenakan kurang relevan\n",
    "data.drop(\"Unnamed: 0\",axis=1,inplace=True)\n",
    "\n",
    "# memisahkan atribut dan label\n",
    "X = data[['Age', 'Sex', 'Steroid', 'Antivirals', 'Fatigue', 'Malaise',\n",
    "       'Anorexia', 'Liver Big', 'Liver Firm', 'Spleen Palpable', 'Spiders',\n",
    "       'Ascites', 'Varices', 'Bilirubin', 'Alk Phosphate', 'Sgot', 'Albumin',\n",
    "       'Protime', 'Histology']]\n",
    "y = data['Class']\n",
    " \n",
    "# Membagi dataset menjadi data latih & data uji\n",
    "X_train, X_test, y_train, y_test = train_test_split(X, y, test_size=0.2,random_state=0)\n",
    "\n",
    "# membuat model Gaussian naive bayes\n",
    "gnb_model = GaussianNB()\n",
    " \n",
    "# Melatih model dengan menggunakan data latih\n",
    "gnb_model = gnb_model.fit(X_train, y_train)"
   ]
  },
  {
   "block_group": "926eee69b50a4376b90509d809df9f5b",
   "cell_type": "code",
   "content_dependencies": null,
   "execution_count": 22,
   "metadata": {
    "cell_id": "f16c7e6a630f4581aa2ce9a4c1a01995",
    "deepnote_cell_type": "code",
    "deepnote_to_be_reexecuted": false,
    "execution_millis": 238,
    "execution_start": 1719507291025,
    "source_hash": null
   },
   "outputs": [
    {
     "name": "stdout",
     "output_type": "stream",
     "text": [
      "=========================== X TRAINING =================================\n",
      "      Age  Sex  Steroid  Antivirals  Fatigue  Malaise  Anorexia  Liver Big  \\\n",
      "19   38.0  1.0      1.0         1.0      2.0      2.0       2.0        1.0   \n",
      "94   59.0  1.0      1.0         2.0      1.0      1.0       2.0        2.0   \n",
      "96   30.0  1.0      1.0         2.0      1.0      1.0       2.0        2.0   \n",
      "22   31.0  1.0      2.0         2.0      2.0      2.0       2.0        2.0   \n",
      "51   39.0  1.0      2.0         2.0      2.0      2.0       2.0        2.0   \n",
      "..    ...  ...      ...         ...      ...      ...       ...        ...   \n",
      "9    30.0  1.0      2.0         2.0      2.0      2.0       2.0        2.0   \n",
      "103  51.0  1.0      1.0         2.0      1.0      1.0       1.0        2.0   \n",
      "67   57.0  1.0      2.0         2.0      1.0      1.0       1.0        2.0   \n",
      "117  50.0  1.0      2.0         2.0      2.0      2.0       2.0        2.0   \n",
      "47   28.0  2.0      2.0         2.0      1.0      1.0       2.0        2.0   \n",
      "\n",
      "     Liver Firm  Spleen Palpable  Spiders  Ascites  Varices  Bilirubin  \\\n",
      "19          1.0              2.0      2.0      2.0      2.0        0.7   \n",
      "94          1.0              1.0      1.0      2.0      2.0        1.5   \n",
      "96          1.0              2.0      1.0      2.0      2.0        0.8   \n",
      "22          2.0              2.0      2.0      2.0      2.0        1.0   \n",
      "51          2.0              2.0      2.0      2.0      2.0        1.0   \n",
      "..          ...              ...      ...      ...      ...        ...   \n",
      "9           2.0              2.0      2.0      2.0      2.0        1.0   \n",
      "103         1.0              1.0      1.0      2.0      1.0        4.6   \n",
      "67          2.0              2.0      1.0      1.0      2.0        4.1   \n",
      "117         2.0              2.0      2.0      2.0      2.0        1.0   \n",
      "47          1.0              2.0      2.0      2.0      2.0        1.8   \n",
      "\n",
      "     Alk Phosphate   Sgot  Albumin     Protime  Histology  \n",
      "19       70.000000   28.0      4.2   62.000000        1.0  \n",
      "94      107.000000  157.0      3.6   38.000000        2.0  \n",
      "96      147.000000  128.0      3.9  100.000000        2.0  \n",
      "22       85.000000   20.0      4.0  100.000000        1.0  \n",
      "51       85.000000   20.0      4.0   86.888889        1.0  \n",
      "..             ...    ...      ...         ...        ...  \n",
      "9       108.444444  120.0      3.9   62.111111        1.0  \n",
      "103     215.000000  269.0      3.9   51.000000        2.0  \n",
      "67       91.888889   48.0      2.6   73.000000        1.0  \n",
      "117     139.000000   81.0      3.9   62.000000        2.0  \n",
      "47      191.000000  420.0      3.3   46.000000        1.0  \n",
      "\n",
      "[124 rows x 19 columns]\n",
      "=========================== X TESTING =================================\n",
      "      Age  Sex  Steroid  Antivirals   Fatigue   Malaise  Anorexia  Liver Big  \\\n",
      "26   49.0  1.0      1.0         1.0  1.000000  1.000000  1.000000   2.000000   \n",
      "90   50.0  2.0      1.0         2.0  1.000000  2.000000  2.000000   1.000000   \n",
      "152  61.0  1.0      1.0         2.0  1.000000  1.000000  2.000000   1.000000   \n",
      "111  42.0  1.0      1.0         1.0  1.000000  1.000000  2.000000   2.000000   \n",
      "24   25.0  2.0      1.0         1.0  2.000000  2.000000  2.000000   2.000000   \n",
      "7    23.0  1.0      2.0         2.0  2.000000  2.000000  2.000000   2.000000   \n",
      "44   34.0  1.0      2.0         2.0  2.000000  2.000000  2.000000   2.000000   \n",
      "106  35.0  1.0      1.0         2.0  1.000000  2.000000  2.000000   1.888889   \n",
      "56   34.0  1.0      1.0         2.0  1.555556  1.777778  1.777778   1.888889   \n",
      "118  61.0  1.0      1.0         2.0  1.000000  1.000000  2.000000   1.666667   \n",
      "89   38.0  1.0      1.0         2.0  1.000000  1.000000  1.000000   1.000000   \n",
      "86   44.0  1.0      1.0         2.0  1.000000  1.000000  2.000000   2.000000   \n",
      "137  38.0  1.0      2.0         2.0  2.000000  2.000000  2.000000   2.000000   \n",
      "54   30.0  1.0      2.0         2.0  1.000000  2.000000  2.000000   2.000000   \n",
      "110   7.0  1.0      2.0         2.0  2.000000  2.000000  2.000000   2.000000   \n",
      "40   52.0  1.0      1.0         1.0  2.000000  2.000000  2.000000   2.000000   \n",
      "33   26.0  2.0      1.0         2.0  2.000000  2.000000  2.000000   2.000000   \n",
      "153  53.0  2.0      1.0         2.0  1.000000  2.000000  2.000000   2.000000   \n",
      "71   34.0  1.0      1.0         2.0  1.000000  1.000000  2.000000   1.000000   \n",
      "126  28.0  1.0      2.0         2.0  1.000000  1.000000  1.000000   1.888889   \n",
      "98   47.0  1.0      2.0         2.0  2.000000  2.000000  2.000000   2.000000   \n",
      "8    39.0  1.0      2.0         2.0  1.000000  2.000000  2.000000   2.000000   \n",
      "138  47.0  1.0      2.0         2.0  1.000000  1.000000  2.000000   2.000000   \n",
      "146  41.0  1.0      2.0         2.0  1.000000  2.000000  2.000000   2.000000   \n",
      "37   20.0  2.0      1.0         2.0  1.000000  1.000000  1.000000   1.000000   \n",
      "102  27.0  1.0      1.0         2.0  1.000000  2.000000  2.000000   2.000000   \n",
      "141  54.0  1.0      1.0         2.0  1.000000  1.000000  2.000000   1.777778   \n",
      "61   32.0  1.0      2.0         2.0  2.000000  2.000000  2.000000   2.000000   \n",
      "95   40.0  1.0      1.0         1.0  1.000000  1.000000  1.000000   1.000000   \n",
      "107  45.0  1.0      1.0         2.0  1.000000  1.000000  1.000000   2.000000   \n",
      "16   66.0  1.0      2.0         2.0  1.000000  2.000000  2.000000   2.000000   \n",
      "\n",
      "     Liver Firm  Spleen Palpable   Spiders  Ascites   Varices  Bilirubin  \\\n",
      "26     1.000000         2.000000  1.000000      2.0  2.000000   0.600000   \n",
      "90     1.000000         1.000000  1.000000      2.0  2.000000   0.900000   \n",
      "152    1.000000         2.000000  1.000000      2.0  2.000000   0.800000   \n",
      "111    2.000000         2.000000  1.000000      2.0  2.000000   0.500000   \n",
      "24     2.000000         2.000000  2.000000      2.0  2.000000   0.400000   \n",
      "7      2.000000         2.000000  2.000000      2.0  2.000000   1.000000   \n",
      "44     2.000000         2.000000  2.000000      2.0  2.000000   1.133333   \n",
      "106    1.777778         1.000000  1.000000      1.0  2.000000   1.500000   \n",
      "56     1.777778         1.777778  1.888889      2.0  1.888889   1.111111   \n",
      "118    1.555556         2.000000  1.000000      2.0  2.000000   2.122222   \n",
      "89     1.000000         2.000000  2.000000      2.0  2.000000   0.600000   \n",
      "86     2.000000         1.000000  2.000000      2.0  1.000000   0.900000   \n",
      "137    1.000000         2.000000  1.000000      2.0  1.000000   1.600000   \n",
      "54     2.000000         2.000000  2.000000      2.0  2.000000   0.700000   \n",
      "110    1.000000         1.000000  2.000000      2.0  2.000000   0.700000   \n",
      "40     2.000000         2.000000  2.000000      2.0  2.000000   0.700000   \n",
      "33     1.000000         2.000000  2.000000      2.0  2.000000   0.500000   \n",
      "153    2.000000         1.000000  1.000000      2.0  1.000000   1.500000   \n",
      "71     1.000000         2.000000  1.000000      2.0  2.000000   2.800000   \n",
      "126    1.555556         2.000000  1.000000      1.0  2.000000   1.000000   \n",
      "98     2.000000         2.000000  1.000000      2.0  1.000000   2.000000   \n",
      "8      1.000000         2.000000  2.000000      2.0  2.000000   0.700000   \n",
      "138    1.000000         2.000000  1.000000      1.0  1.000000   1.000000   \n",
      "146    1.000000         1.000000  1.000000      2.0  1.000000   4.200000   \n",
      "37     1.000000         1.000000  1.000000      2.0  2.000000   2.300000   \n",
      "102    1.000000         2.000000  2.000000      2.0  2.000000   2.400000   \n",
      "141    1.555556         1.000000  2.000000      1.0  2.000000   3.900000   \n",
      "61     2.000000         2.000000  2.000000      2.0  2.000000   0.700000   \n",
      "95     1.000000         2.000000  2.000000      2.0  2.000000   0.600000   \n",
      "107    2.000000         2.000000  2.000000      2.0  2.000000   2.300000   \n",
      "16     2.000000         2.000000  2.000000      2.0  2.000000   1.200000   \n",
      "\n",
      "     Alk Phosphate        Sgot   Albumin    Protime  Histology  \n",
      "26       85.000000   48.000000  3.700000  70.111111        1.0  \n",
      "90      230.000000  117.000000  3.400000  41.000000        2.0  \n",
      "152      75.000000   20.000000  4.100000  50.777778        2.0  \n",
      "111      62.000000   68.000000  3.800000  29.000000        2.0  \n",
      "24       45.000000   18.000000  4.300000  70.000000        1.0  \n",
      "7        76.222222  103.222222  4.088889  69.000000        1.0  \n",
      "44      105.333333   86.000000  4.122222  60.666667        1.0  \n",
      "106     138.000000   58.000000  2.600000  54.111111        2.0  \n",
      "56       96.777778   49.555556  3.900000  72.000000        1.0  \n",
      "118     102.777778   97.222222  3.800000  47.777778        2.0  \n",
      "89       76.000000   18.000000  4.400000  84.000000        2.0  \n",
      "86      135.000000   55.000000  3.744444  41.000000        2.0  \n",
      "137     130.000000  140.000000  3.500000  56.000000        2.0  \n",
      "54       50.000000   78.000000  4.200000  74.000000        1.0  \n",
      "110     256.000000   25.000000  4.200000  51.666667        2.0  \n",
      "40       75.000000   55.000000  4.000000  21.000000        1.0  \n",
      "33      135.000000   29.000000  3.800000  60.000000        1.0  \n",
      "153      81.000000   19.000000  4.100000  48.000000        2.0  \n",
      "71      127.000000  182.000000  3.677778  65.111111        1.0  \n",
      "126     115.333333   20.000000  4.000000  55.555556        2.0  \n",
      "98       84.000000   23.000000  4.200000  66.000000        2.0  \n",
      "8        80.888889   48.000000  4.400000  73.333333        1.0  \n",
      "138     166.000000   30.000000  2.600000  31.000000        2.0  \n",
      "146      65.000000  120.000000  3.400000  46.555556        2.0  \n",
      "37      150.000000   68.000000  3.900000  60.777778        1.0  \n",
      "102     168.000000  227.000000  3.000000  66.000000        2.0  \n",
      "141     120.000000   28.000000  3.500000  43.000000        2.0  \n",
      "61      102.000000   64.000000  4.000000  90.000000        1.0  \n",
      "95       40.000000   69.000000  4.200000  67.000000        2.0  \n",
      "107     142.666667  648.000000  3.488889  58.444444        2.0  \n",
      "16      102.000000   53.000000  4.300000  71.555556        1.0  \n",
      "=========================== Y TESTING =================================\n",
      "26     2.0\n",
      "90     2.0\n",
      "152    2.0\n",
      "111    1.0\n",
      "24     2.0\n",
      "7      2.0\n",
      "44     2.0\n",
      "106    1.0\n",
      "56     2.0\n",
      "118    1.0\n",
      "89     2.0\n",
      "86     1.0\n",
      "137    2.0\n",
      "54     2.0\n",
      "110    2.0\n",
      "40     2.0\n",
      "33     2.0\n",
      "153    2.0\n",
      "71     1.0\n",
      "126    2.0\n",
      "98     1.0\n",
      "8      2.0\n",
      "138    1.0\n",
      "146    1.0\n",
      "37     2.0\n",
      "102    2.0\n",
      "141    1.0\n",
      "61     2.0\n",
      "95     2.0\n",
      "107    2.0\n",
      "16     2.0\n",
      "Name: Class, dtype: float64\n"
     ]
    }
   ],
   "outputs_reference": "s3:deepnote-cell-outputs-production/9cd44d92-b5e5-47e4-9074-b2a96213809c",
   "source": [
    "y_pred = gnb_model.predict(X_test)\n",
    "\n",
    "print(\"=========================== X TRAINING =================================\") \n",
    "print(X_train)\n",
    "print(\"=========================== X TESTING =================================\") \n",
    "print(X_test)\n",
    "print(\"=========================== Y TESTING =================================\") \n",
    "print(y_test)"
   ]
  },
  {
   "block_group": "d0fb587a95bc41de8741afa464b0d575",
   "cell_type": "markdown",
   "metadata": {
    "cell_id": "8e2f7ad809af4962bbae3f24df4caa5a",
    "deepnote_cell_type": "text-cell-p",
    "formattedRanges": []
   },
   "source": [
    "jadikan kedalam csv:"
   ]
  },
  {
   "block_group": "36d569e7df1e41218adafc4c9ede0efc",
   "cell_type": "code",
   "content_dependencies": null,
   "execution_count": 23,
   "metadata": {
    "cell_id": "47181a4bf68a4815bb1bae1c3f389215",
    "deepnote_cell_type": "code",
    "deepnote_to_be_reexecuted": false,
    "execution_millis": 240,
    "execution_start": 1719507291044,
    "source_hash": null
   },
   "outputs": [],
   "outputs_reference": null,
   "source": [
    "import pandas as pd\n",
    "\n",
    "# Concatenate X_train and y_train as new column\n",
    "train_data = pd.concat([X_train, pd.Series(y_train, name='Class')], axis=1)\n",
    "\n",
    "# Save training data to CSV with tab-separated values\n",
    "train_data.to_csv('Train_hepatitis.csv', sep=\"\\t\", index=False)"
   ]
  },
  {
   "block_group": "601b95e1795845b0a4147c24e48f3fcd",
   "cell_type": "markdown",
   "metadata": {
    "cell_id": "483d529270aa4eb2b80a81bd54853cc5",
    "deepnote_cell_type": "text-cell-p",
    "formattedRanges": []
   },
   "source": [
    "uji coba dengan menginputkan data test:"
   ]
  },
  {
   "block_group": "c3da6eaa73c8490a8262db42308ab189",
   "cell_type": "code",
   "content_dependencies": null,
   "execution_count": 24,
   "metadata": {
    "cell_id": "2cf39b8140414a4481c53a6634d3e7ef",
    "deepnote_cell_type": "code",
    "deepnote_to_be_reexecuted": false,
    "execution_millis": 126,
    "execution_start": 1719507291291,
    "source_hash": null
   },
   "outputs": [
    {
     "name": "stdout",
     "output_type": "stream",
     "text": [
      "Data yang akan digunakan adalah:\n",
      "Unnamed: 0.1       24.0\n",
      "Class               2.0\n",
      "Age                25.0\n",
      "Sex                 2.0\n",
      "Steroid             1.0\n",
      "Antivirals          1.0\n",
      "Fatigue             2.0\n",
      "Malaise             2.0\n",
      "Anorexia            2.0\n",
      "Liver Big           2.0\n",
      "Liver Firm          2.0\n",
      "Spleen Palpable     2.0\n",
      "Spiders             2.0\n",
      "Ascites             2.0\n",
      "Varices             2.0\n",
      "Bilirubin           0.4\n",
      "Alk Phosphate      45.0\n",
      "Sgot               18.0\n",
      "Albumin             4.3\n",
      "Protime            70.0\n",
      "Histology           1.0\n",
      "Name: 24, dtype: float64\n",
      "Data yang diinputkan merupakan class = [2.]\n"
     ]
    },
    {
     "name": "stderr",
     "output_type": "stream",
     "text": [
      "C:\\Users\\endyzan\\AppData\\Local\\Programs\\Python\\Python311\\Lib\\site-packages\\sklearn\\base.py:439: UserWarning: X does not have valid feature names, but GaussianNB was fitted with feature names\n",
      "  warnings.warn(\n"
     ]
    }
   ],
   "outputs_reference": "dbtable:cell_outputs/3a56ba6a-0a9e-4895-a167-034dbc9f23a5",
   "source": [
    "# Menampilkan data yang akan digunakan\n",
    "print(\"Data yang akan digunakan adalah:\")\n",
    "print(data.iloc[24])\n",
    "\n",
    "# Menyiapkan data baru untuk prediksi (pastikan atribut dan urutan atribut sesuai dengan model)\n",
    "new_data = [[30, 0, 2, 1, 0, 0, 1, 2, 1, 2, 2, 1, 0, 0.8, 150, 35, 3.5, 60, 0]]\n",
    "\n",
    "# Melakukan prediksi menggunakan model Gaussian Naive Bayes\n",
    "predicted_class = gnb_model.predict(new_data)\n",
    "\n",
    "# Menampilkan hasil prediksi\n",
    "print(\"Data yang diinputkan merupakan class =\", predicted_class)\n"
   ]
  },
  {
   "block_group": "6dd9ba0389304949a019892585d1f9df",
   "cell_type": "markdown",
   "metadata": {
    "cell_id": "f9a00634131443caaeb6c0bb2882a95f",
    "deepnote_cell_type": "text-cell-p",
    "formattedRanges": []
   },
   "source": [
    "Hasil prediksi menunjukkan data tersebut termasuk ke dalam kelas live (1). Jawabannya benar karena data yang diambil merupakan bagian dari data test yang telah dibagi pada model dan termasuk kedalam kelas live (1)."
   ]
  },
  {
   "block_group": "91692749ea78453b9dc32b1339d9dc2f",
   "cell_type": "code",
   "content_dependencies": null,
   "execution_count": 25,
   "metadata": {
    "cell_id": "ac2b162d2dc949cd826fb0d5951017b7",
    "deepnote_cell_type": "code",
    "deepnote_to_be_reexecuted": false,
    "execution_millis": 121,
    "execution_start": 1719507291297,
    "source_hash": null
   },
   "outputs": [
    {
     "name": "stdout",
     "output_type": "stream",
     "text": [
      "Akurasi: 0.77\n",
      "Presisi: 0.89\n",
      "Recall: 0.77\n",
      "F-Score: 0.83\n"
     ]
    }
   ],
   "outputs_reference": "dbtable:cell_outputs/a1fb9237-8be3-4df5-b857-6441bcdc9f88",
   "source": [
    "# Evaluasi Model\n",
    "accuracy = accuracy_score(y_test, y_pred)\n",
    "precision = precision_score(y_test, y_pred, pos_label=2) \n",
    "recall = recall_score(y_test, y_pred, pos_label=2)\n",
    "fscore = f1_score(y_test, y_pred, pos_label=2)\n",
    "\n",
    "# Menampilkan hasil evaluasi\n",
    "print(f'Akurasi: {accuracy:.2f}')\n",
    "print(f'Presisi: {precision:.2f}')\n",
    "print(f'Recall: {recall:.2f}')\n",
    "print(f'F-Score: {fscore:.2f}')"
   ]
  },
  {
   "block_group": "f108b2fc08144c05b2263acd32414f0d",
   "cell_type": "markdown",
   "metadata": {
    "cell_id": "231284640a2e4b0aa30f7223d58e835d",
    "deepnote_cell_type": "text-cell-p",
    "formattedRanges": [
     {
      "fromCodePoint": 202,
      "marks": {
       "bold": true
      },
      "toCodePoint": 204,
      "type": "marks"
     }
    ]
   },
   "source": [
    "dataset hepatitis telah dilatih menggunakan model Gaussian Naive Bayes dalam memprediksi apakah seseorang penderita hepatitis memiliki peluang hidup atau mati telah memperoleh akurasi sebesar 0.77 atau 77%."
   ]
  },
  {
   "block_group": "f404b9bc99aa4b70a617b11eef97a7bd",
   "cell_type": "markdown",
   "metadata": {
    "cell_id": "0efb02bb1a7540f9a2b63cf01fca4e67",
    "deepnote_cell_type": "text-cell-p",
    "formattedRanges": []
   },
   "source": [
    "Dan juga untuk nilai Presisi, Recall dan F-Score yang masing-masing 0.89 atau 89%, 0.77 atau 77%, 0.83 atau 83%"
   ]
  },
  {
   "block_group": "6544eea7783d4700bbc8b399231bc292",
   "cell_type": "markdown",
   "metadata": {
    "cell_id": "f7b9f661d5a146d081c50cacc75aa536",
    "deepnote_cell_type": "text-cell-p",
    "formattedRanges": []
   },
   "source": [
    "Akurasi model tersebut dapat mencapai 77% dikarenakan telah kami lakukan pre-processing terlebih dahulu pada datasetnya. mulai dari pendeteksian missing value kemudian dilakukan imputasi missing value tersebut menggunakan mean dan KNN sampai pendeteksian outlier menggunakan Local Outlier Factor. setelah data tersebut sudah bersih dari missing value dan kolom yang tidak terpakai seperti “Class” maka dataset siap untuk digunakan pada model Gaussian Naive Bayes."
   ]
  },
  {
   "block_group": "e5de0dfe745643ce8f2dbc57c041f061",
   "cell_type": "markdown",
   "metadata": {
    "cell_id": "e05945c06b60470588a2addd289b562f",
    "deepnote_cell_type": "text-cell-p",
    "formattedRanges": []
   },
   "source": [
    "Referensi jiawei hen; Micheline Kamber; Jian Pei;. (n.d.). Data Mining Concepts and Techniques,halaman 364-370."
   ]
  },
  {
   "block_group": "7178f8a5f86141ab9f108f04a30ef5f7",
   "cell_type": "markdown",
   "metadata": {
    "cell_id": "df54e31d8b70404b86dd22466362ccc1",
    "deepnote_cell_type": "text-cell-h1",
    "formattedRanges": []
   },
   "source": [
    "# Peningkatan Model"
   ]
  },
  {
   "block_group": "7272643ca91243c29acc5e226cc7a046",
   "cell_type": "markdown",
   "metadata": {
    "cell_id": "165a9e8f3afc4439881ab284d850f4b4",
    "deepnote_cell_type": "text-cell-p",
    "formattedRanges": []
   },
   "source": [
    "Meskipun pada single model dengan Gaussian Naive Bayes telah mendapatkan akurasi tinggi yaitu 96%. Namun itu masih kurang efektif dikarenakan pada untuk memprediksi hanya dilakukan 1 model saja yaitu dengan model GNB. alih-alih menggunakan 1 model saja akan lebih baik apabila menggunakan banyak model dan nantinya hasil prediksi dari banyak model tersebut dijadikan data baru untuk di masukkan ke dalam meta model sebagai data baru. Untuk melakukan hal tersebut kami akan menggunakan metode ensemble."
   ]
  },
  {
   "block_group": "283a84e406b0459b8759c70995c9a646",
   "cell_type": "markdown",
   "metadata": {
    "cell_id": "38a6ce9ec2bd479f9633e4c292fcfc26",
    "deepnote_cell_type": "text-cell-p",
    "formattedRanges": []
   },
   "source": [
    "Metode ensemble merupakan penggabungan beberapa individual classifier untuk membentuk classifier baru sehingga didapatkan hasil yang lebih akurat. Metode ensemble telah banyak digunakan dalam beberapa penelitian karena terbukti memberikan hasil akurasi yang lebih baik. Dalam metode ensemble, beberapa individual classifier digabungkan dengan tujuan untuk menggabungkan kelebihan dari masing-masing classifier sedemikian rupa sehingga kinerja yang dicapai dalam menyelesaikan tugas menjadi lebih baik. Contoh metode klasifikasi yang umum adalah: bagging, boosting dan stacking. Namun pada kesempatan ini kami hanya menggunakan stacking dan bagging saja untuk peningkatan model."
   ]
  },
  {
   "block_group": "8b55ca1cd3ff42338bb2db5d0686f0e9",
   "cell_type": "markdown",
   "metadata": {
    "cell_id": "d9c8c66ad5834428b1a1d445768c00b2",
    "deepnote_cell_type": "image",
    "deepnote_img_src": "ensemble_methods.png"
   },
   "source": [
    "<img src=\"ensemble_methods.png\" width=\"\" align=\"\" />"
   ]
  },
  {
   "block_group": "f1ab001222e34c24b1377c2624b58832",
   "cell_type": "markdown",
   "metadata": {
    "cell_id": "6f44d754cbc141fc8edf3aa861c5636b",
    "deepnote_cell_type": "text-cell-h2",
    "formattedRanges": []
   },
   "source": [
    "## Stacking Classifier (Meta Classifier)"
   ]
  },
  {
   "block_group": "a5aa52f0a20b4beeb68edbea4c05057f",
   "cell_type": "markdown",
   "metadata": {
    "cell_id": "f6358922d1ef41868f0351cdcacd3edf",
    "deepnote_cell_type": "text-cell-p",
    "formattedRanges": []
   },
   "source": [
    "Stacking melibatkan penggabungan beberapa model berbeda dan menggunakan model yang lebih tinggi (meta-model) untuk menggabungkan hasil prediksi dari model-model tersebut. Stacking memungkinkan untuk memanfaatkan kekuatan berbagai jenis model."
   ]
  },
  {
   "block_group": "c9d3922cb0024a63b2eb1e03cc4cb0b1",
   "cell_type": "markdown",
   "metadata": {
    "cell_id": "6191c512cb0245459a7984fd230fe584",
    "deepnote_cell_type": "image",
    "deepnote_img_src": "stacking.png"
   },
   "source": [
    "<img src=\"stacking.png\" width=\"\" align=\"\" />"
   ]
  },
  {
   "block_group": "ce9f0eab6fee454fb2c5717310e2cf77",
   "cell_type": "markdown",
   "metadata": {
    "cell_id": "4f40dfc5bc104c258478f1df47079021",
    "deepnote_cell_type": "text-cell-p",
    "formattedRanges": []
   },
   "source": [
    "pada stacking kami akan menggunakan model KNN dengan nilai tetangga berbeda-beda sebagai base model kemudian hasil prediksi akan dimasukan ke dalam model GNB sebagai meta model (generalizer) untuk prediksi"
   ]
  },
  {
   "block_group": "a247139e3df64e83aa1fa8f5a0c5b786",
   "cell_type": "markdown",
   "metadata": {
    "cell_id": "12832f2a65404f079389136882c9c2f6",
    "deepnote_app_block_visible": false,
    "deepnote_cell_type": "text-cell-h3",
    "formattedRanges": [],
    "is_collapsed": false
   },
   "source": [
    "### Cara kerja stacking"
   ]
  },
  {
   "block_group": "0cce319ba9bb49d1b6f4fb5d22735c83",
   "cell_type": "markdown",
   "metadata": {
    "cell_id": "e2f270816218488488c52512026248d3",
    "deepnote_cell_type": "text-cell-p",
    "formattedRanges": []
   },
   "source": [
    "1.  Base Models (Model Dasar):"
   ]
  },
  {
   "block_group": "26dc9b34cbd04744bb4e2793848da855",
   "cell_type": "markdown",
   "metadata": {
    "cell_id": "9076758e20164d50b8deab703ccafd95",
    "deepnote_cell_type": "text-cell-bullet",
    "formattedRanges": []
   },
   "source": [
    "- Model-model dasar (base models) pertama-tama dilatih menggunakan data pelatihan."
   ]
  },
  {
   "block_group": "0d089bb7122c4cc8b6a6402e752e1a9d",
   "cell_type": "markdown",
   "metadata": {
    "cell_id": "4f9a61b74fa744368b651d7a4c3677c6",
    "deepnote_cell_type": "text-cell-bullet",
    "formattedRanges": []
   },
   "source": [
    "- Setelah dilatih, masing-masing model dasar menghasilkan prediksi."
   ]
  },
  {
   "block_group": "7bfce112671b4df0a71c1a6fffbd8c45",
   "cell_type": "markdown",
   "metadata": {
    "cell_id": "ba1452752aa74b75b7514514a2b17ffe",
    "deepnote_cell_type": "text-cell-bullet",
    "formattedRanges": []
   },
   "source": [
    "- Setelah itu gabungkan hasil prediksi sehingga menjadi data baru dan data tersebut akan menjadi data latih dan uji pada meta model"
   ]
  },
  {
   "block_group": "a707e7b34154492d864ead5cbd275207",
   "cell_type": "markdown",
   "metadata": {
    "cell_id": "a938af35352249a7afe5ecdf63f8d2e7",
    "deepnote_cell_type": "text-cell-p",
    "formattedRanges": [
     {
      "fromCodePoint": 0,
      "marks": {
       "bold": true
      },
      "toCodePoint": 7,
      "type": "marks"
     }
    ]
   },
   "source": [
    "model A"
   ]
  },
  {
   "block_group": "1befa3c56e11421992dc2628e490f22f",
   "cell_type": "markdown",
   "metadata": {
    "cell_id": "10aeb673910546148b2cf99daafa46f7",
    "deepnote_cell_type": "text-cell-p",
    "formattedRanges": []
   },
   "source": [
    "kami melatih model KNN dengan nilai K=13"
   ]
  },
  {
   "block_group": "c73fc993e6d345ffb02a1745cd37943e",
   "cell_type": "code",
   "content_dependencies": null,
   "execution_count": 26,
   "metadata": {
    "cell_id": "52ce9ba21f9541538404a86042794e16",
    "deepnote_cell_type": "code",
    "deepnote_to_be_reexecuted": false,
    "execution_millis": 213,
    "execution_start": 1719507875414,
    "source_hash": null
   },
   "outputs": [
    {
     "name": "stdout",
     "output_type": "stream",
     "text": [
      "prediksi untuk data baru:  [2.]\n"
     ]
    }
   ],
   "outputs_reference": "dbtable:cell_outputs/3a81f85d-6632-47e4-94fd-4fcacc97d88e",
   "source": [
    "# ----------------------------KNN 1 -------------------------------------------\n",
    "import pandas as pd\n",
    "from sklearn.neighbors import KNeighborsClassifier\n",
    "from sklearn.metrics import confusion_matrix, accuracy_score\n",
    "from sklearn.model_selection import cross_val_score\n",
    "from sklearn.model_selection import train_test_split\n",
    "from sklearn.preprocessing import LabelEncoder\n",
    "import matplotlib.pyplot as plt\n",
    "import seaborn as sns\n",
    "%matplotlib inline\n",
    "\n",
    "df = pd.read_csv('hepatitis_knn.csv')\n",
    "df = df.drop(['Unnamed: 0'], axis=1)\n",
    "\n",
    "# Memisahkan fitur dan label\n",
    "feature_columns =['Age', 'Sex', 'Steroid', 'Antivirals', 'Fatigue', 'Malaise',\n",
    "       'Anorexia', 'Liver Big', 'Liver Firm', 'Spleen Palpable', 'Spiders',\n",
    "       'Ascites', 'Varices', 'Bilirubin', 'Alk Phosphate', 'Sgot', 'Albumin',\n",
    "       'Protime', 'Histology']\n",
    "X = df[feature_columns].values\n",
    "y = df['Class'].values\n",
    "\n",
    "# Membagi data menjadi data latih dan data uji\n",
    "X_train, X_test, y_train, y_test = train_test_split(X, y, test_size=0.2, random_state=0)\n",
    "\n",
    "classifier = KNeighborsClassifier(n_neighbors=13)\n",
    "\n",
    "# TRAIN\n",
    "classifier.fit(X_train, y_train)\n",
    "\n",
    "# Memprediksi data uji\n",
    "xtr1 = classifier.predict(X_train)\n",
    "\n",
    "# TEST\n",
    "classifier = KNeighborsClassifier(n_neighbors=13)\n",
    "\n",
    "# Melatih model\n",
    "classifier.fit(X_test, y_test)\n",
    "\n",
    "x_baru=[[30, 0, 2, 1, 0, 0, 1, 2, 1, 2, 2, 1, 0, 0.8, 150, 35, 3.5, 60, 0]]\n",
    "\n",
    "# Memprediksi data uji\n",
    "xts1 = classifier.predict(X_test)\n",
    "xtst_baru=classifier.predict(x_baru)\n",
    "print (\"prediksi untuk data baru: \", xtst_baru)"
   ]
  },
  {
   "block_group": "62f60870fe6d495ca2bd3937ff1b139e",
   "cell_type": "markdown",
   "metadata": {
    "cell_id": "bd333a569d1b4977b2069ceb1d344875",
    "deepnote_cell_type": "text-cell-p",
    "formattedRanges": [
     {
      "fromCodePoint": 0,
      "marks": {
       "bold": true
      },
      "toCodePoint": 7,
      "type": "marks"
     }
    ]
   },
   "source": [
    "Model B"
   ]
  },
  {
   "block_group": "6bc1f9a3ae4b4efea6fbc978d1889838",
   "cell_type": "markdown",
   "metadata": {
    "cell_id": "d8b241b6361d467ab975eec2bcf2e515",
    "deepnote_cell_type": "text-cell-p",
    "formattedRanges": []
   },
   "source": [
    "kami melatih model KNN dengan nilai K=9"
   ]
  },
  {
   "block_group": "85770a1720ee421499aa24dd550229ba",
   "cell_type": "code",
   "content_dependencies": null,
   "execution_count": 27,
   "metadata": {
    "cell_id": "8a05d84001bb440eb3717f251297fb7b",
    "deepnote_cell_type": "code",
    "deepnote_to_be_reexecuted": false,
    "execution_millis": 293,
    "execution_start": 1719507881618,
    "source_hash": null
   },
   "outputs": [
    {
     "name": "stdout",
     "output_type": "stream",
     "text": [
      "[2.]\n"
     ]
    }
   ],
   "outputs_reference": "dbtable:cell_outputs/bc0d70a7-f2ab-4b1a-8ac7-3525f7d502e1",
   "source": [
    "# ---------------------KNN 2--------------------------\n",
    "import pandas as pd\n",
    "from sklearn.neighbors import KNeighborsClassifier\n",
    "from sklearn.metrics import confusion_matrix, accuracy_score\n",
    "from sklearn.model_selection import cross_val_score\n",
    "from sklearn.model_selection import train_test_split\n",
    "from sklearn.preprocessing import LabelEncoder\n",
    "import matplotlib.pyplot as plt\n",
    "import seaborn as sns\n",
    "%matplotlib inline\n",
    "\n",
    "df = pd.read_csv('hepatitis_knn.csv')\n",
    "df = df.drop(['Unnamed: 0'], axis=1)\n",
    "\n",
    "# Memisahkan fitur dan label\n",
    "feature_columns =['Age', 'Sex', 'Steroid', 'Antivirals', 'Fatigue', 'Malaise',\n",
    "       'Anorexia', 'Liver Big', 'Liver Firm', 'Spleen Palpable', 'Spiders',\n",
    "       'Ascites', 'Varices', 'Bilirubin', 'Alk Phosphate', 'Sgot', 'Albumin',\n",
    "       'Protime', 'Histology']\n",
    "X = df[feature_columns].values\n",
    "y = df['Class'].values\n",
    "\n",
    "# Membagi data menjadi data latih dan data uji\n",
    "X_train, X_test, y_train, y_test = train_test_split(X, y, test_size=0.2, random_state=0)\n",
    "\n",
    "classifier2 = KNeighborsClassifier(n_neighbors=9)\n",
    "\n",
    "# TRAIN\n",
    "classifier2.fit(X_train, y_train)\n",
    "\n",
    "# Memprediksi data uji\n",
    "xtr2 = classifier2.predict(X_train)\n",
    "\n",
    "# TEST\n",
    "classifier2 = KNeighborsClassifier(n_neighbors=9)\n",
    "\n",
    "# Melatih model\n",
    "classifier2.fit(X_test, y_test)\n",
    "x_baru=[[30, 0, 2, 1, 0, 0, 1, 2, 1, 2, 2, 1, 0, 0.8, 150, 35, 3.5, 60, 0]]\n",
    "\n",
    "# Memprediksi data uji\n",
    "xts2 = classifier2.predict(X_test)\n",
    "xtst2_baru=classifier2.predict(x_baru)\n",
    "print(xtst2_baru)"
   ]
  },
  {
   "block_group": "f7fbb878b9f74e17afff723da0e677a6",
   "cell_type": "markdown",
   "metadata": {
    "cell_id": "78fa0328197e4e1ca60f87a48538024f",
    "deepnote_cell_type": "text-cell-p",
    "formattedRanges": []
   },
   "source": [
    "Setelah itu, gabungkan hasil prediksi dari kedua model menjadi sebuah dataset baru"
   ]
  },
  {
   "block_group": "eaa47faa346c4d1dbaac185a21b998d0",
   "cell_type": "code",
   "content_dependencies": null,
   "execution_count": 28,
   "metadata": {
    "cell_id": "e8d788e30799403096752e3ef5f9c9bf",
    "deepnote_cell_type": "code",
    "deepnote_to_be_reexecuted": false,
    "execution_millis": 346,
    "execution_start": 1719507903326,
    "source_hash": null
   },
   "outputs": [],
   "outputs_reference": null,
   "source": [
    "# MODEL A\n",
    "combined_df = pd.DataFrame({\n",
    "    'X1': xtr1,\n",
    "    'X2': xtr2,\n",
    "    'Y': y_train\n",
    "})\n",
    "\n",
    "# Save the DataFrame to a CSV file\n",
    "combined_df.to_csv('combine_train.csv', index=False)"
   ]
  },
  {
   "block_group": "9cba6a15e7a84debabaa93f72d57ab58",
   "cell_type": "code",
   "content_dependencies": null,
   "execution_count": 29,
   "metadata": {
    "cell_id": "3a217cd82c384730a2cf58628d4c68e3",
    "deepnote_cell_type": "code",
    "deepnote_to_be_reexecuted": false,
    "execution_millis": 237,
    "execution_start": 1719507906341,
    "source_hash": null
   },
   "outputs": [
    {
     "data": {
      "text/html": [
       "<div>\n",
       "<style scoped>\n",
       "    .dataframe tbody tr th:only-of-type {\n",
       "        vertical-align: middle;\n",
       "    }\n",
       "\n",
       "    .dataframe tbody tr th {\n",
       "        vertical-align: top;\n",
       "    }\n",
       "\n",
       "    .dataframe thead th {\n",
       "        text-align: right;\n",
       "    }\n",
       "</style>\n",
       "<table border=\"1\" class=\"dataframe\">\n",
       "  <thead>\n",
       "    <tr style=\"text-align: right;\">\n",
       "      <th></th>\n",
       "      <th>X1</th>\n",
       "      <th>X2</th>\n",
       "      <th>Y</th>\n",
       "    </tr>\n",
       "  </thead>\n",
       "  <tbody>\n",
       "    <tr>\n",
       "      <th>0</th>\n",
       "      <td>2.0</td>\n",
       "      <td>2.0</td>\n",
       "      <td>2.0</td>\n",
       "    </tr>\n",
       "    <tr>\n",
       "      <th>1</th>\n",
       "      <td>2.0</td>\n",
       "      <td>2.0</td>\n",
       "      <td>1.0</td>\n",
       "    </tr>\n",
       "    <tr>\n",
       "      <th>2</th>\n",
       "      <td>2.0</td>\n",
       "      <td>2.0</td>\n",
       "      <td>2.0</td>\n",
       "    </tr>\n",
       "    <tr>\n",
       "      <th>3</th>\n",
       "      <td>2.0</td>\n",
       "      <td>2.0</td>\n",
       "      <td>2.0</td>\n",
       "    </tr>\n",
       "    <tr>\n",
       "      <th>4</th>\n",
       "      <td>2.0</td>\n",
       "      <td>2.0</td>\n",
       "      <td>2.0</td>\n",
       "    </tr>\n",
       "  </tbody>\n",
       "</table>\n",
       "</div>"
      ],
      "text/plain": [
       "    X1   X2    Y\n",
       "0  2.0  2.0  2.0\n",
       "1  2.0  2.0  1.0\n",
       "2  2.0  2.0  2.0\n",
       "3  2.0  2.0  2.0\n",
       "4  2.0  2.0  2.0"
      ]
     },
     "execution_count": 29,
     "metadata": {},
     "output_type": "execute_result"
    }
   ],
   "outputs_reference": "s3:deepnote-cell-outputs-production/0670802e-6da2-4a02-8d01-cbf16731a028",
   "source": [
    "df = pd.read_csv('combine_train.csv')\n",
    "df.head()"
   ]
  },
  {
   "block_group": "71f71566b8a9424482213bb088e740d3",
   "cell_type": "code",
   "content_dependencies": null,
   "execution_count": 30,
   "metadata": {
    "cell_id": "21585a97895c40fd885ab00069f96f1a",
    "deepnote_cell_type": "code",
    "deepnote_to_be_reexecuted": false,
    "execution_millis": 130,
    "execution_start": 1719507911210,
    "source_hash": null
   },
   "outputs": [],
   "outputs_reference": null,
   "source": [
    "# MODEL B\n",
    "combined_df = pd.DataFrame({\n",
    "    'X1': xts1,\n",
    "    'X2': xts2,\n",
    "    'Y': y_test\n",
    "})\n",
    "\n",
    "# Save the DataFrame to a CSV file\n",
    "combined_df.to_csv('combine_test.csv', index=False)"
   ]
  },
  {
   "block_group": "2401e495034147609ca564708143a18a",
   "cell_type": "code",
   "content_dependencies": null,
   "execution_count": 31,
   "metadata": {
    "cell_id": "441d03d1d3fc43d0bee68b14a74ad80f",
    "deepnote_cell_type": "code",
    "deepnote_to_be_reexecuted": false,
    "execution_millis": 239,
    "execution_start": 1719507913975,
    "source_hash": null
   },
   "outputs": [
    {
     "data": {
      "text/html": [
       "<div>\n",
       "<style scoped>\n",
       "    .dataframe tbody tr th:only-of-type {\n",
       "        vertical-align: middle;\n",
       "    }\n",
       "\n",
       "    .dataframe tbody tr th {\n",
       "        vertical-align: top;\n",
       "    }\n",
       "\n",
       "    .dataframe thead th {\n",
       "        text-align: right;\n",
       "    }\n",
       "</style>\n",
       "<table border=\"1\" class=\"dataframe\">\n",
       "  <thead>\n",
       "    <tr style=\"text-align: right;\">\n",
       "      <th></th>\n",
       "      <th>X1</th>\n",
       "      <th>X2</th>\n",
       "      <th>Y</th>\n",
       "    </tr>\n",
       "  </thead>\n",
       "  <tbody>\n",
       "    <tr>\n",
       "      <th>0</th>\n",
       "      <td>2.0</td>\n",
       "      <td>2.0</td>\n",
       "      <td>2.0</td>\n",
       "    </tr>\n",
       "    <tr>\n",
       "      <th>1</th>\n",
       "      <td>2.0</td>\n",
       "      <td>1.0</td>\n",
       "      <td>2.0</td>\n",
       "    </tr>\n",
       "    <tr>\n",
       "      <th>2</th>\n",
       "      <td>2.0</td>\n",
       "      <td>2.0</td>\n",
       "      <td>2.0</td>\n",
       "    </tr>\n",
       "    <tr>\n",
       "      <th>3</th>\n",
       "      <td>2.0</td>\n",
       "      <td>2.0</td>\n",
       "      <td>1.0</td>\n",
       "    </tr>\n",
       "    <tr>\n",
       "      <th>4</th>\n",
       "      <td>2.0</td>\n",
       "      <td>2.0</td>\n",
       "      <td>2.0</td>\n",
       "    </tr>\n",
       "  </tbody>\n",
       "</table>\n",
       "</div>"
      ],
      "text/plain": [
       "    X1   X2    Y\n",
       "0  2.0  2.0  2.0\n",
       "1  2.0  1.0  2.0\n",
       "2  2.0  2.0  2.0\n",
       "3  2.0  2.0  1.0\n",
       "4  2.0  2.0  2.0"
      ]
     },
     "execution_count": 31,
     "metadata": {},
     "output_type": "execute_result"
    }
   ],
   "outputs_reference": "s3:deepnote-cell-outputs-production/f8faf231-fd9b-41f4-b78e-3348a4b14ebb",
   "source": [
    "df2 = pd.read_csv('combine_test.csv')\n",
    "df2.head()"
   ]
  },
  {
   "block_group": "26740179d02946c6ba70604f4f51bc12",
   "cell_type": "markdown",
   "metadata": {
    "cell_id": "aae7a84485e14da2a2f056de2ca2e828",
    "deepnote_cell_type": "text-cell-p",
    "formattedRanges": []
   },
   "source": [
    "2. Generalizer (Meta-Model):"
   ]
  },
  {
   "block_group": "e36dc584f0924d349aefbea9c45ea162",
   "cell_type": "markdown",
   "metadata": {
    "cell_id": "f9fb5ca86d0b4ccc8dde7d006f3f8c98",
    "deepnote_cell_type": "text-cell-bullet",
    "formattedRanges": []
   },
   "source": [
    "- Prediksi dari model-model dasar ini kemudian digunakan sebagai fitur (input) untuk melatih model baru yang disebut generalizer atau meta-model."
   ]
  },
  {
   "block_group": "24e9b6971e7a41b6b8c92174f4001770",
   "cell_type": "markdown",
   "metadata": {
    "cell_id": "871b266280fc46f2858613ead2a1f6da",
    "deepnote_cell_type": "text-cell-bullet",
    "formattedRanges": []
   },
   "source": [
    "- Generalizer ini akan belajar dari kombinasi prediksi-prediksi model dasar untuk membuat keputusan akhir yang lebih baik."
   ]
  },
  {
   "block_group": "51cef223c0f34284a5476c47c4e82ad5",
   "cell_type": "code",
   "content_dependencies": null,
   "execution_count": 32,
   "metadata": {
    "cell_id": "cab4d0562c954936b35769b07743d1d9",
    "deepnote_cell_type": "code",
    "deepnote_to_be_reexecuted": false,
    "execution_millis": 123,
    "execution_start": 1719507918046,
    "source_hash": null
   },
   "outputs": [
    {
     "name": "stdout",
     "output_type": "stream",
     "text": [
      "              precision    recall  f1-score   support\n",
      "\n",
      "         1.0       1.00      0.32      0.49        28\n",
      "         2.0       0.14      1.00      0.24         3\n",
      "\n",
      "    accuracy                           0.39        31\n",
      "   macro avg       0.57      0.66      0.36        31\n",
      "weighted avg       0.92      0.39      0.46        31\n",
      "\n",
      "[1.]\n"
     ]
    }
   ],
   "outputs_reference": "dbtable:cell_outputs/e78aba76-f8ab-46c0-b0d2-219a26952078",
   "source": [
    "# GNB\n",
    "import pandas as pd\n",
    "import numpy as np\n",
    "from sklearn.naive_bayes import GaussianNB\n",
    "from sklearn.model_selection import train_test_split\n",
    "from sklearn.metrics import accuracy_score, precision_score, recall_score, f1_score, classification_report\n",
    "\n",
    "# Menggabungkan prediksi dari kedua model KNN sebagai fitur baru\n",
    "f_meta = np.column_stack((xtr1, xtr2))\n",
    "X_test = np.column_stack((xts1, xts2))\n",
    "\n",
    "# Inisialisasi dan pelatihan meta-classifier Naive Bayes\n",
    "meta_classifier = GaussianNB()\n",
    "meta_classifier.fit(f_meta, y_train)\n",
    "predict = meta_classifier.predict(X_test)\n",
    "\n",
    "print(classification_report(predict, y_test))\n",
    "print(meta_classifier.predict([[2,2]]))"
   ]
  },
  {
   "block_group": "31cbce8bb3144f0c844a62e434a96aab",
   "cell_type": "markdown",
   "metadata": {
    "cell_id": "1385d78a841f43c5b8e1dea862c1f9f1",
    "deepnote_cell_type": "text-cell-p",
    "formattedRanges": []
   },
   "source": [
    "model dengan input [2, 2] diprediksi sebagai kelas 1"
   ]
  },
  {
   "block_group": "b5e89cd36a084c5e808574a735317f80",
   "cell_type": "markdown",
   "metadata": {
    "cell_id": "51fcc4a846744dc18ea9f1962954e545",
    "deepnote_cell_type": "text-cell-p",
    "formattedRanges": [
     {
      "fromCodePoint": 0,
      "marks": {
       "bold": true
      },
      "toCodePoint": 41,
      "type": "marks"
     }
    ]
   },
   "source": [
    "Implementasi stacking dengan scikit-learn"
   ]
  },
  {
   "block_group": "bcd8539cd0594efaa67a71e93545b48d",
   "cell_type": "markdown",
   "metadata": {
    "cell_id": "1cef3c71b8cf436daa9e2c7df86c4946",
    "deepnote_cell_type": "text-cell-p",
    "formattedRanges": []
   },
   "source": [
    "setelah kita mengetahui proses dari stacking classifier untuk meningkatkan model secara manual, berikutnya kami akan menggunakan bantuan library untuk membantu melatih model dasar, karena kami tidak mungkin melatih model dasar satu persatu, karena kami akan menggunakan 20 model knn sebagai model dasar dengan pembeda adalah nilai K. Dan nantinya prediksi 20 model tersebut akan dimasukkan ke dalam model gaussian naive bayes."
   ]
  },
  {
   "block_group": "aaddb9b3f72d4930a49be277af2adb14",
   "cell_type": "code",
   "content_dependencies": null,
   "execution_count": 33,
   "metadata": {
    "cell_id": "1c1b64d7ddd64f939d54c2e868ce2e97",
    "deepnote_cell_type": "code",
    "deepnote_to_be_reexecuted": false,
    "execution_millis": 1344,
    "execution_start": 1719507923844,
    "source_hash": null
   },
   "outputs": [
    {
     "name": "stdout",
     "output_type": "stream",
     "text": [
      "Accuracy of knn1: 0.6774\n",
      "Accuracy of knn2: 0.7742\n",
      "Accuracy of knn3: 0.7419\n",
      "Accuracy of knn4: 0.7097\n",
      "Accuracy of knn5: 0.7097\n",
      "Accuracy of knn6: 0.7097\n",
      "Accuracy of knn7: 0.7097\n",
      "Accuracy of knn8: 0.7097\n",
      "Accuracy of knn9: 0.7097\n",
      "Accuracy of knn10: 0.7097\n",
      "Accuracy of knn11: 0.7097\n",
      "Accuracy of knn12: 0.7097\n",
      "Accuracy of knn13: 0.7097\n",
      "Accuracy of knn14: 0.7097\n",
      "Accuracy of knn15: 0.7097\n",
      "Accuracy of knn16: 0.7097\n",
      "Accuracy of knn17: 0.7097\n",
      "Accuracy of knn18: 0.7097\n",
      "Accuracy of knn19: 0.7097\n",
      "Accuracy of knn20: 0.7097\n"
     ]
    },
    {
     "data": {
      "image/png": "[encoded data removed]",
      "text/plain": [
       "<Figure size 1200x600 with 1 Axes>"
      ]
     },
     "metadata": {},
     "output_type": "display_data"
    },
    {
     "name": "stdout",
     "output_type": "stream",
     "text": [
      "Prediction of knn1: 2.0\n",
      "Prediction of knn2: 2.0\n",
      "Prediction of knn3: 2.0\n",
      "Prediction of knn4: 2.0\n",
      "Prediction of knn5: 2.0\n",
      "Prediction of knn6: 2.0\n",
      "Prediction of knn7: 2.0\n",
      "Prediction of knn8: 2.0\n",
      "Prediction of knn9: 2.0\n",
      "Prediction of knn10: 2.0\n",
      "Prediction of knn11: 2.0\n",
      "Prediction of knn12: 2.0\n",
      "Prediction of knn13: 2.0\n",
      "Prediction of knn14: 2.0\n",
      "Prediction of knn15: 2.0\n",
      "Prediction of knn16: 2.0\n",
      "Prediction of knn17: 2.0\n",
      "Prediction of knn18: 2.0\n",
      "Prediction of knn19: 2.0\n",
      "Prediction of knn20: 2.0\n"
     ]
    },
    {
     "data": {
      "image/png": "[encoded data removed]",
      "text/plain": [
       "<Figure size 800x400 with 1 Axes>"
      ]
     },
     "metadata": {},
     "output_type": "display_data"
    },
    {
     "name": "stdout",
     "output_type": "stream",
     "text": [
      "\n",
      "Prediction for X_new: 1.0\n",
      "\n",
      "Overall Stacking Classifier Performance:\n",
      "Accuracy: 0.5806\n"
     ]
    }
   ],
   "outputs_reference": "s3:deepnote-cell-outputs-production/1a2fddc2-64f9-48fe-9db5-61e0c091756f",
   "source": [
    "import pandas as pd\n",
    "import numpy as np\n",
    "from sklearn.preprocessing import StandardScaler\n",
    "from sklearn.pipeline import make_pipeline\n",
    "from sklearn.ensemble import StackingClassifier\n",
    "from sklearn.neighbors import KNeighborsClassifier\n",
    "from sklearn.metrics import confusion_matrix, accuracy_score, classification_report\n",
    "from sklearn.model_selection import train_test_split\n",
    "from sklearn.naive_bayes import GaussianNB\n",
    "import matplotlib.pyplot as plt\n",
    "\n",
    "# Load dataset\n",
    "df = pd.read_csv('hepatitis_knn.csv')\n",
    "df = df.drop(['Unnamed: 0'], axis=1)\n",
    "\n",
    "# Separate features and labels\n",
    "feature_columns = ['Age', 'Sex', 'Steroid', 'Antivirals', 'Fatigue', 'Malaise',\n",
    "       'Anorexia', 'Liver Big', 'Liver Firm', 'Spleen Palpable', 'Spiders',\n",
    "       'Ascites', 'Varices', 'Bilirubin', 'Alk Phosphate', 'Sgot', 'Albumin',\n",
    "       'Protime', 'Histology']\n",
    "X = df[feature_columns].values\n",
    "y = df['Class'].values\n",
    "\n",
    "# Split data into training and testing sets\n",
    "X_train, X_test, y_train, y_test = train_test_split(X, y, test_size=0.2, random_state=0)\n",
    "\n",
    "# Create list of estimators for StackingClassifier\n",
    "estimators = [('knn' + str(i // 3), KNeighborsClassifier(n_neighbors=i)) for i in range(3, 63, 3)]\n",
    "\n",
    "# Initialize StackingClassifier with GaussianNB as final estimator\n",
    "clf = StackingClassifier(\n",
    "    estimators=estimators, final_estimator=GaussianNB()\n",
    ")\n",
    "\n",
    "# Train StackingClassifier\n",
    "clf.fit(X_train, y_train)\n",
    "\n",
    "# Evaluate accuracy for each KNN model and store the results\n",
    "accuracies = []\n",
    "for name, estimator in estimators:\n",
    "    estimator.fit(X_train, y_train)\n",
    "    y_pred = estimator.predict(X_test)\n",
    "    accuracy = accuracy_score(y_test, y_pred)\n",
    "    print(f\"Accuracy of {name}: {accuracy:.4f}\")\n",
    "    accuracies.append(accuracy)\n",
    "\n",
    "# Plotting the accuracy of each KNN model\n",
    "model_names = [name for name, _ in estimators]\n",
    "plt.figure(figsize=(12, 6))\n",
    "plt.bar(model_names, accuracies, color='skyblue')\n",
    "plt.xlabel('Model')\n",
    "plt.ylabel('Accuracy')\n",
    "plt.title('Accuracy of Each KNN Model on Test Data')\n",
    "plt.xticks(rotation=90)\n",
    "plt.show()\n",
    "\n",
    "# Evaluate predictions for new data point by each KNN model\n",
    "X_new = [[30, 0, 2, 1, 0, 0, 1, 2, 1, 2, 2, 1, 0, 0.8, 150, 35, 3.5, 60, 0]]\n",
    "predictions = {}\n",
    "for name, estimator in estimators:\n",
    "    pred = estimator.predict(X_new)[0]\n",
    "    predictions[name] = pred\n",
    "    print(f\"Prediction of {name}: {pred}\")\n",
    "\n",
    "# Counting predictions for each class\n",
    "count_class_1 = sum(1 for pred in predictions.values() if pred == 1)\n",
    "count_class_2 = sum(1 for pred in predictions.values() if pred == 2)\n",
    "\n",
    "# Plotting the number of predictions for each class\n",
    "plt.figure(figsize=(8, 4))\n",
    "plt.bar(['Class 1', 'Class 2'], [count_class_1, count_class_2], color=['lightgreen', 'salmon'])\n",
    "plt.xlabel('Class')\n",
    "plt.ylabel('Number of Predictions')\n",
    "plt.title('Number of Predictions for Each Class by KNN Models')\n",
    "plt.show()\n",
    "\n",
    "# Predict for new data using StackingClassifier\n",
    "prediction = clf.predict(X_new)\n",
    "\n",
    "print(f'\\nPrediction for X_new: {prediction[0]}')\n",
    "\n",
    "# Evaluate overall performance of the stacking classifier\n",
    "avg_acc = clf.score(X_test, y_test)\n",
    "print(f'\\nOverall Stacking Classifier Performance:')\n",
    "print(f'Accuracy: {avg_acc:.4f}')\n",
    "\n",
    "# Obtain predictions from the model\n",
    "y_pred = clf.predict(X_test)"
   ]
  },
  {
   "block_group": "024633deb0ff461aa0d691784c27c79d",
   "cell_type": "markdown",
   "metadata": {
    "cell_id": "1031100373e34fe88195353579cf3cb1",
    "deepnote_cell_type": "text-cell-h2",
    "formattedRanges": []
   },
   "source": [
    "## Bagging (Bootstrap Aggregating)"
   ]
  },
  {
   "block_group": "3a363a4e193042178741852c2fdef5ee",
   "cell_type": "markdown",
   "metadata": {
    "cell_id": "7f54a9799984474fad2e30e3866bc851",
    "deepnote_cell_type": "text-cell-p",
    "formattedRanges": []
   },
   "source": [
    "Bagging melibatkan pembuatan beberapa subset dari data pelatihan dengan penggantian (bootstrap) dan melatih model yang berbeda pada setiap subset. Kemudian, hasil prediksi dari model-model ini diambil rata-rata (untuk regresi) atau diambil mayoritas (untuk klasifikasi)."
   ]
  },
  {
   "block_group": "997d7853689c46878dad5c1474778384",
   "cell_type": "markdown",
   "metadata": {
    "cell_id": "904b39a67fd3431ea2c656ae3a54d622",
    "deepnote_cell_type": "image",
    "deepnote_img_src": "bagging.png"
   },
   "source": [
    "<img src=\"bagging.png\" width=\"\" align=\"\" />"
   ]
  },
  {
   "block_group": "63dc5b830fe345d5ae53fd9e54bce68b",
   "cell_type": "markdown",
   "metadata": {
    "cell_id": "cb7e4f51aa544fdda433424c1d408f05",
    "deepnote_cell_type": "text-cell-p",
    "formattedRanges": []
   },
   "source": [
    "Metode bagging bertujuan untuk mengatasi variasi dan overfitting dalam model-machine learning. Bagging melibatkan langkah-langkah berikut:"
   ]
  },
  {
   "block_group": "94893812956045739ba261460281c930",
   "cell_type": "markdown",
   "metadata": {
    "cell_id": "afff20d209b048e0b0f6acbc39b292f7",
    "deepnote_cell_type": "text-cell-p",
    "formattedRanges": []
   },
   "source": [
    "1. Mengambil dataset pelatihan awal yang dimiliki."
   ]
  },
  {
   "block_group": "bcbeea73849d4205a2592d5dac402983",
   "cell_type": "markdown",
   "metadata": {
    "cell_id": "602ae281d4b94d2ea5f3e84ee02496c1",
    "deepnote_cell_type": "text-cell-p",
    "formattedRanges": []
   },
   "source": [
    "2. Membuat beberapa set data pelatihan yang berbeda dengan cara mengambil sampel secara acak dari dataset awal. Setiap set data ini mungkin memiliki beberapa data yang sama dan beberapa yang berbeda."
   ]
  },
  {
   "block_group": "3b88ca860a894791ac24ea0e8b16bef9",
   "cell_type": "markdown",
   "metadata": {
    "cell_id": "0b1244ab683142f78fab7c4696af40fc",
    "deepnote_cell_type": "text-cell-p",
    "formattedRanges": []
   },
   "source": [
    "3. Model yang sama (classifier) diterapkan pada setiap set data pelatihan ini dan menghasilkan prediksi masing-masing."
   ]
  },
  {
   "block_group": "6008c520d48948b8ae4c21183fd41955",
   "cell_type": "markdown",
   "metadata": {
    "cell_id": "404b9c8646104198be2bac09f1a9033a",
    "deepnote_cell_type": "text-cell-p",
    "formattedRanges": []
   },
   "source": [
    "4. Hasil prediksi dari semua classifier digabungkan."
   ]
  },
  {
   "block_group": "ba387840021042e9a281a1c8e85e41e0",
   "cell_type": "markdown",
   "metadata": {
    "cell_id": "4e348b18f3ea433ea344f602af2933f5",
    "deepnote_cell_type": "text-cell-p",
    "formattedRanges": []
   },
   "source": [
    "Metode bagging membantu mengurangi variabilitas dalam prediksi karena setiap set data pelatihan memiliki variasi yang berbeda. Variasi ini membuat model lebih stabil dan lebih baik kinerjanya daripada hanya menggunakan satu set data pelatihan saja."
   ]
  },
  {
   "block_group": "62ee4075d5c84032acaf5207125b2c26",
   "cell_type": "markdown",
   "metadata": {
    "cell_id": "2e6b8f14a1da48ea8e8ebbb6b25a4477",
    "deepnote_cell_type": "text-cell-p",
    "formattedRanges": []
   },
   "source": [
    "pada bagging kami menggunakan 20 gaussian naive bayes yang menerima subset berbeda satu sama lain"
   ]
  },
  {
   "block_group": "1cb4c9cdeef54b00b0d8dea2b49e76c9",
   "cell_type": "code",
   "content_dependencies": null,
   "execution_count": 34,
   "metadata": {
    "cell_id": "9b8fb89c9c6e424dbfc2b9eaaea56b88",
    "deepnote_cell_type": "code",
    "deepnote_to_be_reexecuted": false,
    "execution_millis": 1322,
    "execution_start": 1719508263686,
    "source_hash": null
   },
   "outputs": [
    {
     "name": "stdout",
     "output_type": "stream",
     "text": [
      "Data baru yang akan diprediksi\n",
      "   Age  Sex  Steroid  Antivirals  Fatigue  Malaise  Anorexia  Liver Big  \\\n",
      "0   40    0        2           1        0        0         1          2   \n",
      "\n",
      "   Liver Firm  Spleen Palpable  Spiders  Ascites  Varices  Bilirubin  \\\n",
      "0           1                2        2        1        0        0.8   \n",
      "\n",
      "   Alk Phosphate  Sgot  Albumin  Protime  Histology  \n",
      "0            150    35      3.5       60          0  \n",
      "\n",
      "Estimator 1 accuracy : 0.7419\n",
      "Estimator 1 memprediksi : 2\n",
      "\n",
      "Estimator 2 accuracy : 0.7742\n",
      "Estimator 2 memprediksi : 2\n",
      "\n",
      "Estimator 3 accuracy : 0.7742\n",
      "Estimator 3 memprediksi : 2\n",
      "\n",
      "Estimator 4 accuracy : 0.7742\n",
      "Estimator 4 memprediksi : 2\n",
      "\n",
      "Estimator 5 accuracy : 0.7742\n",
      "Estimator 5 memprediksi : 2\n",
      "\n",
      "Estimator 6 accuracy : 0.7742\n",
      "Estimator 6 memprediksi : 2\n",
      "\n",
      "Estimator 7 accuracy : 0.6774\n",
      "Estimator 7 memprediksi : 2\n",
      "\n",
      "Estimator 8 accuracy : 0.7742\n",
      "Estimator 8 memprediksi : 2\n",
      "\n",
      "Estimator 9 accuracy : 0.7419\n",
      "Estimator 9 memprediksi : 2\n",
      "\n",
      "Estimator 10 accuracy : 0.7742\n",
      "Estimator 10 memprediksi : 2\n",
      "\n",
      "Estimator 11 accuracy : 0.7742\n",
      "Estimator 11 memprediksi : 2\n",
      "\n",
      "Estimator 12 accuracy : 0.7742\n",
      "Estimator 12 memprediksi : 2\n",
      "\n",
      "Estimator 13 accuracy : 0.7742\n",
      "Estimator 13 memprediksi : 2\n",
      "\n",
      "Estimator 14 accuracy : 0.6452\n",
      "Estimator 14 memprediksi : 1\n",
      "\n",
      "Estimator 15 accuracy : 0.7742\n",
      "Estimator 15 memprediksi : 2\n",
      "\n",
      "Estimator 16 accuracy : 0.7742\n",
      "Estimator 16 memprediksi : 2\n",
      "\n",
      "Estimator 17 accuracy : 0.7742\n",
      "Estimator 17 memprediksi : 2\n",
      "\n",
      "Estimator 18 accuracy : 0.6129\n",
      "Estimator 18 memprediksi : 2\n",
      "\n",
      "Estimator 19 accuracy : 0.7742\n",
      "Estimator 19 memprediksi : 2\n",
      "\n",
      "Estimator 20 accuracy : 0.7742\n",
      "Estimator 20 memprediksi : 2\n",
      "\n",
      "Majority vote prediction for new data: 2\n",
      "Jumlah prediksi kelas 1: 1\n",
      "Jumlah prediksi kelas 2: 19\n",
      "Average accuracy of all estimators: 0.7516\n"
     ]
    },
    {
     "data": {
      "image/png": "[encoded data removed]",
      "text/plain": [
       "<Figure size 1200x600 with 1 Axes>"
      ]
     },
     "metadata": {},
     "output_type": "display_data"
    },
    {
     "data": {
      "image/png": "[encoded data removed]",
      "text/plain": [
       "<Figure size 800x400 with 1 Axes>"
      ]
     },
     "metadata": {},
     "output_type": "display_data"
    },
    {
     "name": "stdout",
     "output_type": "stream",
     "text": [
      "Model telah disimpan ke dalam file 'bagging_classifier.pkl'.\n"
     ]
    }
   ],
   "outputs_reference": "s3:deepnote-cell-outputs-production/7b42996b-2dc4-4447-9bcb-520831080ff1",
   "source": [
    "import pandas as pd\n",
    "from sklearn.naive_bayes import GaussianNB\n",
    "from sklearn.model_selection import train_test_split\n",
    "from sklearn.metrics import accuracy_score, classification_report\n",
    "import numpy as np\n",
    "import matplotlib.pyplot as plt\n",
    "import pickle\n",
    "\n",
    "# Memuat data\n",
    "data = pd.read_csv('hepatitis_knn.csv')\n",
    "\n",
    "# Menghapus kolom yang tidak relevan\n",
    "data.drop(\"Unnamed: 0\", axis=1, inplace=True)\n",
    "\n",
    "# Memisahkan atribut dan label\n",
    "X = data[['Age', 'Sex', 'Steroid', 'Antivirals', 'Fatigue', 'Malaise',\n",
    "       'Anorexia', 'Liver Big', 'Liver Firm', 'Spleen Palpable', 'Spiders',\n",
    "       'Ascites', 'Varices', 'Bilirubin', 'Alk Phosphate', 'Sgot', 'Albumin',\n",
    "       'Protime', 'Histology']]\n",
    "y = data['Class']\n",
    "\n",
    "# Membagi dataset menjadi data latih dan data uji\n",
    "X_train, X_test, y_train, y_test = train_test_split(X, y, test_size=0.2, random_state=42)\n",
    "\n",
    "# Parameter bagging\n",
    "n_estimators = 20\n",
    "n_samples = int(len(X_train) / n_estimators)\n",
    "\n",
    "# Inisialisasi list untuk menyimpan model dan akurasi\n",
    "estimators = []\n",
    "accuracies = []\n",
    "pred = []\n",
    "\n",
    "# Data baru yang ingin diprediksi\n",
    "X_new = pd.DataFrame([[40, 0, 2, 1, 0, 0, 1, 2, 1, 2, 2, 1, 0, 0.8, 150, 35, 3.5, 60, 0]], columns=['Age', 'Sex', 'Steroid', 'Antivirals', 'Fatigue', 'Malaise',\n",
    "       'Anorexia', 'Liver Big', 'Liver Firm', 'Spleen Palpable', 'Spiders',\n",
    "       'Ascites', 'Varices', 'Bilirubin', 'Alk Phosphate', 'Sgot', 'Albumin',\n",
    "       'Protime', 'Histology'])\n",
    "print(\"Data baru yang akan diprediksi\")\n",
    "print(X_new)\n",
    "print()\n",
    "np.random.seed(0)\n",
    "\n",
    "# Membuat model Gaussian Naive Bayes untuk setiap subset\n",
    "for i in range(n_estimators):\n",
    "    # Membuat bootstrap sample\n",
    "    bootstrap_indices = np.random.randint(0, len(X_train), n_samples)\n",
    "    X_train_bootstrap = X_train.iloc[bootstrap_indices]\n",
    "    y_train_bootstrap = y_train.iloc[bootstrap_indices]\n",
    "    \n",
    "    # Melatih model\n",
    "    gnb_model = GaussianNB()\n",
    "    gnb_model.fit(X_train_bootstrap, y_train_bootstrap)\n",
    "    estimators.append(gnb_model)\n",
    "    \n",
    "    # Evaluasi model    \n",
    "    bebas = gnb_model.predict(X_new)\n",
    "    pred.append(bebas[0])  # Mengambil nilai prediksi dan menyimpannya di list pred\n",
    "    y_pred = gnb_model.predict(X_test)\n",
    "    accuracy = accuracy_score(y_test, y_pred)\n",
    "    accuracies.append(accuracy)\n",
    "    print(f\"Estimator {i + 1} accuracy : {accuracy:.4f}\")\n",
    "    print(f\"Estimator {i + 1} memprediksi : {int(bebas[0])}\")\n",
    "    print()\n",
    "\n",
    "# Majority vote untuk prediksi data baru\n",
    "pred_majority_vote = np.bincount(pred).argmax()\n",
    "print(f\"Majority vote prediction for new data: {pred_majority_vote}\")\n",
    "\n",
    "# Menghitung jumlah dari masing-masing kelas dalam pred\n",
    "class_counts = np.bincount(pred, minlength=5) #5 karena kelas ada 4\n",
    "print(f\"Jumlah prediksi kelas 1: {class_counts[1] if len(class_counts) > 1 else 0}\")\n",
    "print(f\"Jumlah prediksi kelas 2: {class_counts[2] if len(class_counts) > 2 else 0}\")\n",
    "\n",
    "# Menghitung rata-rata akurasi dari semua estimators\n",
    "average_accuracy = np.mean(accuracies)\n",
    "print(f\"Average accuracy of all estimators: {average_accuracy:.4f}\")\n",
    "\n",
    "# Plot accuracy untuk tiap estimator\n",
    "plt.figure(figsize=(12, 6))\n",
    "plt.bar(range(1, n_estimators + 1), accuracies, color='skyblue')\n",
    "plt.xlabel('Estimator')\n",
    "plt.ylabel('Accuracy')\n",
    "plt.title('Accuracy of Each Gaussian Naive Bayes Estimator')\n",
    "plt.xticks(range(1, n_estimators + 1))\n",
    "plt.show()\n",
    "\n",
    "# Plot the number of predictions pada setiap klass untuk data baru \n",
    "class_labels = ['Class 1', 'Class 2']\n",
    "class_values = [class_counts[1] if len(class_counts) > 1 else 0,\n",
    "                class_counts[2] if len(class_counts) > 2 else 0]\n",
    "plt.figure(figsize=(8, 4))\n",
    "plt.bar(class_labels, class_values, color=['lightgreen', 'salmon'])\n",
    "plt.xlabel('Class')\n",
    "plt.ylabel('Number of Predictions')\n",
    "plt.title('Number of Predictions for Each Class by Estimators for New Data')\n",
    "plt.show()\n",
    "\n",
    "# Membuat objek bagging classifier yang menyimpan semua estimators\n",
    "bagging_classifier = {\n",
    "    'estimators': estimators,\n",
    "    'n_estimators': n_estimators\n",
    "}\n",
    "\n",
    "# Menyimpan model\n",
    "with open('bagging_classifier.pkl', 'wb') as model_file:\n",
    "    pickle.dump(bagging_classifier, model_file)\n",
    "\n",
    "print(\"Model telah disimpan ke dalam file 'bagging_classifier.pkl'.\")\n"
   ]
  },
  {
   "block_group": "7b838fe9de0449c7b7eb126c8abad5e0",
   "cell_type": "code",
   "content_dependencies": null,
   "execution_count": 35,
   "metadata": {
    "cell_id": "4107f37ed46c4929a6e5fd7559cb01e9",
    "deepnote_cell_type": "code",
    "deepnote_to_be_reexecuted": false,
    "execution_millis": 260,
    "execution_start": 1719508299474,
    "source_hash": null
   },
   "outputs": [],
   "outputs_reference": null,
   "source": [
    "with open('bagging_classifier.pkl', 'rb') as model_file:\n",
    "    bagging_classifier = pickle.load(model_file)\n",
    "\n",
    "# Akses estimators\n",
    "estimators = bagging_classifier['estimators']\n",
    "n_estimators = bagging_classifier['n_estimators']\n"
   ]
  },
  {
   "block_group": "10994cbc5f7d47bfb4a9d0d8cdf8f154",
   "cell_type": "markdown",
   "metadata": {
    "cell_id": "db296213d3024b5d903f43794dc780f2",
    "deepnote_cell_type": "text-cell-h1",
    "formattedRanges": []
   },
   "source": [
    "# Evaluasi"
   ]
  },
  {
   "block_group": "fca9dbdc692d487d86250e55679886d4",
   "cell_type": "markdown",
   "metadata": {
    "cell_id": "46ff56c32a9e4d6081417cc6ade2967c",
    "deepnote_cell_type": "text-cell-p",
    "formattedRanges": []
   },
   "source": [
    "Dari ketiga yang kami buat sebelumnya dapat dikatakan baik atau good fit, hal itu dapat dilihat dari akurasi yang didapat dari masing-masing model, yaitu"
   ]
  },
  {
   "block_group": "c34d86f5e2224ebe80daa943c443538c",
   "cell_type": "markdown",
   "metadata": {
    "cell_id": "6186002ebf994d4492f3d1a8ca2ba666",
    "deepnote_cell_type": "text-cell-p",
    "formattedRanges": []
   },
   "source": [
    "single model dengan GNB : mendapatkan akurasi 77%"
   ]
  },
  {
   "block_group": "5475ea883f514eba8ffa04a6e94c86ff",
   "cell_type": "markdown",
   "metadata": {
    "cell_id": "810d598e3f644a3a8c6e1426e00b7d99",
    "deepnote_cell_type": "text-cell-p",
    "formattedRanges": []
   },
   "source": [
    "stacking dengan KNN (model dasar) dan GNB (model meta) : mendapatkan akurasi 58%"
   ]
  },
  {
   "block_group": "4ad5b6b212ed4bb3b04473ffc048813b",
   "cell_type": "markdown",
   "metadata": {
    "cell_id": "64c5649390a445c9b1e6e0da3b75b4c7",
    "deepnote_cell_type": "text-cell-p",
    "formattedRanges": [
     {
      "fromCodePoint": 41,
      "marks": {
       "bold": true
      },
      "toCodePoint": 43,
      "type": "marks"
     }
    ]
   },
   "source": [
    "bagging dengan GNB : mendapatkan akurasi 80%"
   ]
  },
  {
   "block_group": "7254d0813d744f6cb60009c464cc8a59",
   "cell_type": "markdown",
   "metadata": {
    "cell_id": "0e5d4849baea45c2a984a90dac666212",
    "deepnote_cell_type": "text-cell-p",
    "formattedRanges": [
     {
      "fromCodePoint": 66,
      "marks": {
       "bold": true
      },
      "toCodePoint": 84,
      "type": "marks"
     }
    ]
   },
   "source": [
    "dari ketiga model diatas dapat dilihat bahwa model terbaik adalah bagging classifier karena mendapatkan akurasi tertinggi dari ketiga model yang telah dibuat"
   ]
  },
  {
   "block_group": "b5382a2d7952492e8a014d554f23635f",
   "cell_type": "markdown",
   "metadata": {
    "cell_id": "eba8bfff2efd4be5ae75f39a9617556f",
    "deepnote_cell_type": "text-cell-h1",
    "formattedRanges": []
   },
   "source": [
    "# Deployment"
   ]
  },
  {
   "block_group": "5f41ac18b45e41ce938347bcf4cdcf95",
   "cell_type": "markdown",
   "metadata": {
    "cell_id": "29472cb9b90749e0978af93966305a5e",
    "deepnote_cell_type": "text-cell-p",
    "formattedRanges": []
   },
   "source": [
    "Setelah kami membuat sudah membuat model maka tahap selanjutnya adalah melakukan deployment untuk model kita. Hal ini bertujuan supaya model yang kita gunakan dapat digunakan oleh tenaga medis dalam pengklasifikasikan suatu kanker payudara termasuk jinak atau ganas."
   ]
  },
  {
   "block_group": "9130388ae80a4e2f990a63fd177369f9",
   "cell_type": "markdown",
   "metadata": {
    "cell_id": "98946d2528ba4649846e2594f49a5a62",
    "deepnote_cell_type": "text-cell-p",
    "formattedRanges": []
   },
   "source": [
    "Library yang kami gunakan adalah flask dalam mengintegrasikan model kami menjadi sebuah web"
   ]
  },
  {
   "block_group": "d42b081a0e6841ba96ad4e7d4c72cfc4",
   "cell_type": "markdown",
   "metadata": {
    "cell_id": "5aefc6346d1e4f279d37a175a16717b9",
    "deepnote_cell_type": "text-cell-h2",
    "formattedRanges": []
   },
   "source": [
    "## Menyiapkan Model"
   ]
  },
  {
   "block_group": "682c1964b37e4f91ac818255fc9a1d49",
   "cell_type": "markdown",
   "metadata": {
    "cell_id": "656605aa81fc4b81a44df85b8f61bbb3",
    "deepnote_cell_type": "text-cell-p",
    "formattedRanges": []
   },
   "source": [
    "pada tahap ini kami akan menyimpan model dari stacking classifier yang sudah dibuat. Tujuan dilakukan penyimpanan model adalah supaya mudah dipanggil ketika akan memasuki tahap deployment."
   ]
  },
  {
   "block_group": "425276b0a097480e9e9e496aeecbed09",
   "cell_type": "markdown",
   "metadata": {
    "cell_id": "44443ee124714ae4b6e1c7422b212eb2",
    "deepnote_cell_type": "text-cell-p",
    "formattedRanges": []
   },
   "source": [
    "Untuk library yang kami gunakan dalam menyimpan model yaitu pickle."
   ]
  },
  {
   "block_group": "050bf0d98e7544239daf3a28c4914aee",
   "cell_type": "code",
   "content_dependencies": null,
   "execution_count": 36,
   "metadata": {
    "cell_id": "0f969b67b1df4e32a476355d077f612a",
    "deepnote_cell_type": "code",
    "deepnote_to_be_reexecuted": false,
    "execution_millis": 286,
    "execution_start": 1719507294731,
    "source_hash": null
   },
   "outputs": [],
   "outputs_reference": null,
   "source": [
    "# import pickle\n",
    "\n",
    "# #menyimpan model\n",
    "# with open('bagging_classifier.pkl', 'wb') as model_file:\n",
    "#     pickle.dump(bagging_classifier, model_file)\n"
   ]
  },
  {
   "block_group": "ce1483428f704b26bb8620f11ceddbe0",
   "cell_type": "markdown",
   "metadata": {
    "cell_id": "0899acb533574859b190516205f0da7a",
    "deepnote_cell_type": "text-cell-h2",
    "formattedRanges": []
   },
   "source": [
    "## Integrasi model dengan web"
   ]
  },
  {
   "block_group": "5e004144d8604307b25b14bd2e8487b3",
   "cell_type": "markdown",
   "metadata": {
    "cell_id": "49e4ac0e372347828877902f279fdd5f",
    "deepnote_cell_type": "text-cell-p",
    "formattedRanges": []
   },
   "source": [
    "1. install library flask, dengan menjalankan perintah “pip install flask”"
   ]
  },
  {
   "block_group": "59bd61acb2554b1a90e22ecef0f165e3",
   "cell_type": "markdown",
   "metadata": {
    "cell_id": "4b7204209dff4d078c225f1cf36cb42e",
    "deepnote_cell_type": "text-cell-p",
    "formattedRanges": []
   },
   "source": [
    "2. membuat file berekstensi .py, misal app.py. Nantinya aplikasi ini akan menjadi logic atau controller dari web kita."
   ]
  },
  {
   "block_group": "9da2c575cd0546f4a1c914edfa12ebbd",
   "cell_type": "markdown",
   "metadata": {
    "cell_id": "d878f307d6864c53be1c05eb61366486",
    "deepnote_cell_type": "text-cell-p",
    "formattedRanges": []
   },
   "source": [
    "3. didalam app.py kita panggil model yang telah kita simpan, kemudian kita tambahkan beberapa route dan logic untuk aplikasi web kita."
   ]
  },
  {
   "block_group": "586cfe5274484e5c862099e1bcfdc93a",
   "cell_type": "markdown",
   "metadata": {
    "cell_id": "a378671191da446da9334b469f56ee47",
    "deepnote_cell_type": "text-cell-p",
    "formattedRanges": []
   },
   "source": [
    "4. setelah itu kita membuat tampilan form untuk user menginputkan data yang akan diprediksi oleh model berserta tampilan untuk hasil prediksi."
   ]
  },
  {
   "block_group": "ca40f2f24f4f4262ac91d8a028c98374",
   "cell_type": "markdown",
   "metadata": {
    "cell_id": "89b0d9d168784f1a9c6e88a8628327ec",
    "deepnote_cell_type": "text-cell-p",
    "formattedRanges": []
   },
   "source": [
    "Source code yang telah kami buat dapat diakses melalui link berikut :"
   ]
  },
  {
   "block_group": "b6fb8d80d46b4bb4adcacafdedbc0aeb",
   "cell_type": "markdown",
   "metadata": {
    "cell_id": "83c96427f6264c9abeaa0c3f248416b2",
    "deepnote_cell_type": "text-cell-bullet",
    "formattedRanges": [
     {
      "fromCodePoint": 0,
      "ranges": [],
      "toCodePoint": 36,
      "type": "link",
      "url": "https://github.com/endyzan/tbah_pendat"
     }
    ]
   },
   "source": [
    "- endyzan/breast_cancer_classification"
   ]
  },
  {
   "block_group": "6a9816740e4444f8af1855bfc2f809d9",
   "cell_type": "markdown",
   "metadata": {
    "cell_id": "db3d11e1318b45afbb182de2a3562522",
    "deepnote_cell_type": "text-cell-h2",
    "formattedRanges": []
   },
   "source": [
    "## Hasil web"
   ]
  },
  {
   "block_group": "101bdbab89c246f6aa878d04988a7b7d",
   "cell_type": "markdown",
   "metadata": {
    "cell_id": "85b73fcd5ee34587874402fec8b37fc8",
    "deepnote_cell_type": "text-cell-p",
    "formattedRanges": [
     {
      "fromCodePoint": 43,
      "ranges": [],
      "toCodePoint": 80,
      "type": "link",
      "url": "https://sgbwahana.000webhostapp.com/app/user/"
     }
    ]
   },
   "source": [
    "link menuju website yang sudah kami buat : https://tbah_pendat.000webhostapp.com"
   ]
  },
  {
   "block_group": "c9d35a44f0be4c429f076654c10e1955",
   "cell_type": "markdown",
   "metadata": {
    "cell_id": "df4c1f58e3f94434b5bd5f32c1dc61ba",
    "deepnote_cell_type": "text-cell-p",
    "formattedRanges": []
   },
   "source": [
    "Berikut adalah form untuk user menginputkan data yang ingin diprediksi oleh model"
   ]
  },
  {
   "block_group": "aabddf11b2a14680b0935c6e94b8d2a0",
   "cell_type": "markdown",
   "metadata": {
    "cell_id": "7ec739df46b145c3b2eb309819146469",
    "deepnote_cell_type": "image",
    "deepnote_img_src": "inputweb1.png"
   },
   "source": [
    "<img src=\"inputweb1.png\" width=\"\" align=\"\" />"
   ]
  },
  {
   "block_group": "43b65e945601445eb23dd0fb27801fc7",
   "cell_type": "markdown",
   "metadata": {
    "cell_id": "3a716645d4cf45019290b6e365ab4ee1",
    "deepnote_cell_type": "image",
    "deepnote_img_src": "inputweb2.png"
   },
   "source": [
    "<img src=\"inputweb2.png\" width=\"\" align=\"\" />"
   ]
  },
  {
   "block_group": "6f360f13e2af425aa7e50957fc616a2d",
   "cell_type": "markdown",
   "metadata": {
    "cell_id": "ef9b9f162d73496fb293de84c4d00355",
    "deepnote_cell_type": "image",
    "deepnote_img_src": "inputweb3.png"
   },
   "source": [
    "<img src=\"inputweb3.png\" width=\"\" align=\"\" />"
   ]
  },
  {
   "block_group": "61cf68459ff54aef91d0034d78490d4d",
   "cell_type": "markdown",
   "metadata": {
    "cell_id": "52da2507816046079528f3bbbac89cd7",
    "deepnote_cell_type": "text-cell-p",
    "formattedRanges": []
   },
   "source": [
    "saya menginputkan [40, 0, 2, 1, 0, 0, 1, 2, 1, 2, 2, 1, 0, 1, 150, 35, 4, 60, 0]"
   ]
  },
  {
   "block_group": "ffff374a9dc342a8b712a53591a62e1a",
   "cell_type": "markdown",
   "metadata": {
    "cell_id": "b4cd691382a54191af71537da6c56bf6",
    "deepnote_cell_type": "text-cell-p",
    "formattedRanges": []
   },
   "source": [
    "ketika selesai menginputkan data dan menekan tombol “predict”, maka user akan diarahkan ke halaman hasil prediksi"
   ]
  },
  {
   "block_group": "2f1b21279ce241deb518800d90e7ceda",
   "cell_type": "markdown",
   "metadata": {
    "cell_id": "1d60199e45664b06ac5de9e4891fda55",
    "deepnote_cell_type": "image",
    "deepnote_img_src": "hasilinputweb.png"
   },
   "source": [
    "<img src=\"hasilinputweb.png\" width=\"\" align=\"\" />"
   ]
  },
  {
   "cell_type": "markdown",
   "metadata": {
    "created_in_deepnote_cell": true,
    "deepnote_cell_type": "markdown"
   },
   "source": [
    "<a style='text-decoration:none;line-height:16px;display:flex;color:#5B5B62;padding:10px;justify-content:end;' href='https://deepnote.com?utm_source=created-in-deepnote-cell&projectId=1e826a63-8e51-4762-adfb-e998067d2edf' target=\"_blank\">\n",
    "<img alt='Created in deepnote.com' style='display:inline;max-height:16px;margin:0px;margin-right:7.5px;' src='data:image/svg+xml;base64,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' > </img>\n",
    "Created in <span style='font-weight:600;margin-left:4px;'>Deepnote</span></a>"
   ]
  }
 ],
 "metadata": {
  "deepnote_execution_queue": [],
  "deepnote_notebook_id": "1c969501a19b461cb79d787abb7fc193",
  "language_info": {
   "codemirror_mode": {
    "name": "ipython",
    "version": 3
   },
   "file_extension": ".py",
   "mimetype": "text/x-python",
   "name": "python",
   "nbconvert_exporter": "python",
   "pygments_lexer": "ipython3",
   "version": "3.11.4"
  }
 },
 "nbformat": 4,
 "nbformat_minor": 0
}